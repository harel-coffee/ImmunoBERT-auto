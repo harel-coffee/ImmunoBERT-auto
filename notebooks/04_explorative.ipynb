{
 "cells": [
  {
   "cell_type": "markdown",
   "id": "dc0e71ce",
   "metadata": {
    "toc": true
   },
   "source": [
    "<h1>Table of Contents<span class=\"tocSkip\"></span></h1>\n",
    "<div class=\"toc\"><ul class=\"toc-item\"></ul></div>"
   ]
  },
  {
   "cell_type": "code",
   "execution_count": 1,
   "id": "2308ea71",
   "metadata": {},
   "outputs": [],
   "source": [
    "import numpy as np\n",
    "import pandas as pd\n",
    "import pdb\n",
    "from argparse import ArgumentParser\n",
    "import shlex\n",
    "from tqdm import tqdm\n",
    "\n",
    "from pytorch_lightning import Trainer\n",
    "from pytorch_lightning.callbacks import ModelCheckpoint\n",
    "from pytorch_lightning.loggers import TensorBoardLogger\n",
    "\n",
    "import pMHC\n",
    "from pMHC import SEP, \\\n",
    "    SPLITS, SPLIT_TRAIN, SPLIT_VAL, SPLIT_TEST, \\\n",
    "    VIEWS, VIEW_SA, VIEW_SAMA, VIEW_DECONV, \\\n",
    "    INPUT_PEPTIDE, INPUT_CONTEXT\n",
    "from pMHC.logic import PresentationPredictor\n",
    "from pMHC.data import setup_system\n",
    "from pMHC.data.example import Observation\n",
    "from pMHC.data.datasources import overview_datasources\n",
    "\n",
    "tqdm.pandas()"
   ]
  },
  {
   "cell_type": "code",
   "execution_count": 2,
   "id": "e3de2925",
   "metadata": {},
   "outputs": [],
   "source": [
    "from pMHC.data.split import overview_split, load_split_mhc_alleles, load_split_proteins"
   ]
  },
  {
   "cell_type": "code",
   "execution_count": 3,
   "id": "420b156d",
   "metadata": {},
   "outputs": [
    {
     "name": "stdout",
     "output_type": "stream",
     "text": [
      "Update project folder to: C:\\Users\\tux\\Documents\\MScProject\n",
      "Load permutation\n"
     ]
    }
   ],
   "source": [
    "pMHC.set_paths(r\"C:\\Users\\tux\\Documents\\MScProject\")"
   ]
  },
  {
   "cell_type": "code",
   "execution_count": 4,
   "id": "053f24f7",
   "metadata": {},
   "outputs": [
    {
     "name": "stdout",
     "output_type": "stream",
     "text": [
      "MhcAllele.from_input\n"
     ]
    },
    {
     "name": "stderr",
     "output_type": "stream",
     "text": [
      "MhcAlleles from input: 11074it [00:00, 16143.56it/s]\n"
     ]
    },
    {
     "name": "stdout",
     "output_type": "stream",
     "text": [
      "Protein.from_input\n"
     ]
    },
    {
     "name": "stderr",
     "output_type": "stream",
     "text": [
      "Proteins from input: 185930it [00:11, 15964.14it/s]\n"
     ]
    },
    {
     "name": "stdout",
     "output_type": "stream",
     "text": [
      "Sample.from_input\n"
     ]
    },
    {
     "name": "stderr",
     "output_type": "stream",
     "text": [
      "Samples from input: 472it [00:00, 14749.64it/s]\n"
     ]
    },
    {
     "name": "stdout",
     "output_type": "stream",
     "text": [
      "Peptide.from_input\n"
     ]
    },
    {
     "name": "stderr",
     "output_type": "stream",
     "text": [
      "Peptides from input: 429339it [00:27, 15439.50it/s]\n"
     ]
    },
    {
     "name": "stdout",
     "output_type": "stream",
     "text": [
      "Observation.from_input\n"
     ]
    },
    {
     "name": "stderr",
     "output_type": "stream",
     "text": [
      "Observations from input: 1959736it [02:05, 15601.39it/s]\n",
      "100%|████████████████████████████████████████████████████████████████████| 1959736/1959736 [00:07<00:00, 248358.65it/s]\n"
     ]
    },
    {
     "name": "stdout",
     "output_type": "stream",
     "text": [
      "Decoy.to_input\n",
      "Load decoys for 1959737 observations\n",
      "Decoy.to_input C:\\Users\\tux\\Documents\\MScProject\\input\\decoys\\decoys_0_50000.csv\n"
     ]
    },
    {
     "name": "stderr",
     "output_type": "stream",
     "text": [
      "Decoys: C:\\Users\\tux\\Documents\\MScProject\\input\\decoys\\decoys_0_50000.csv: 0it [00:00, ?it/s]\n"
     ]
    },
    {
     "name": "stdout",
     "output_type": "stream",
     "text": [
      "Decoy.to_input C:\\Users\\tux\\Documents\\MScProject\\input\\decoys\\decoys_1000000_1050000.csv\n"
     ]
    },
    {
     "name": "stderr",
     "output_type": "stream",
     "text": [
      "Decoys: C:\\Users\\tux\\Documents\\MScProject\\input\\decoys\\decoys_1000000_1050000.csv: 0it [00:00, ?it/s]\n"
     ]
    },
    {
     "name": "stdout",
     "output_type": "stream",
     "text": [
      "Decoy.to_input C:\\Users\\tux\\Documents\\MScProject\\input\\decoys\\decoys_100000_150000.csv\n"
     ]
    },
    {
     "name": "stderr",
     "output_type": "stream",
     "text": [
      "Decoys: C:\\Users\\tux\\Documents\\MScProject\\input\\decoys\\decoys_100000_150000.csv: 0it [00:00, ?it/s]\n"
     ]
    },
    {
     "name": "stdout",
     "output_type": "stream",
     "text": [
      "Decoy.to_input C:\\Users\\tux\\Documents\\MScProject\\input\\decoys\\decoys_1050000_1100000.csv\n"
     ]
    },
    {
     "name": "stderr",
     "output_type": "stream",
     "text": [
      "Decoys: C:\\Users\\tux\\Documents\\MScProject\\input\\decoys\\decoys_1050000_1100000.csv: 0it [00:00, ?it/s]\n"
     ]
    },
    {
     "name": "stdout",
     "output_type": "stream",
     "text": [
      "Decoy.to_input C:\\Users\\tux\\Documents\\MScProject\\input\\decoys\\decoys_1100000_1150000.csv\n"
     ]
    },
    {
     "name": "stderr",
     "output_type": "stream",
     "text": [
      "Decoys: C:\\Users\\tux\\Documents\\MScProject\\input\\decoys\\decoys_1100000_1150000.csv: 0it [00:00, ?it/s]\n"
     ]
    },
    {
     "name": "stdout",
     "output_type": "stream",
     "text": [
      "Decoy.to_input C:\\Users\\tux\\Documents\\MScProject\\input\\decoys\\decoys_1150000_1200000.csv\n"
     ]
    },
    {
     "name": "stderr",
     "output_type": "stream",
     "text": [
      "Decoys: C:\\Users\\tux\\Documents\\MScProject\\input\\decoys\\decoys_1150000_1200000.csv: 0it [00:00, ?it/s]\n"
     ]
    },
    {
     "name": "stdout",
     "output_type": "stream",
     "text": [
      "Decoy.to_input C:\\Users\\tux\\Documents\\MScProject\\input\\decoys\\decoys_1200000_1250000.csv\n"
     ]
    },
    {
     "name": "stderr",
     "output_type": "stream",
     "text": [
      "Decoys: C:\\Users\\tux\\Documents\\MScProject\\input\\decoys\\decoys_1200000_1250000.csv: 0it [00:00, ?it/s]\n"
     ]
    },
    {
     "name": "stdout",
     "output_type": "stream",
     "text": [
      "Decoy.to_input C:\\Users\\tux\\Documents\\MScProject\\input\\decoys\\decoys_1250000_1300000.csv\n"
     ]
    },
    {
     "name": "stderr",
     "output_type": "stream",
     "text": [
      "Decoys: C:\\Users\\tux\\Documents\\MScProject\\input\\decoys\\decoys_1250000_1300000.csv: 0it [00:00, ?it/s]\n"
     ]
    },
    {
     "name": "stdout",
     "output_type": "stream",
     "text": [
      "Decoy.to_input C:\\Users\\tux\\Documents\\MScProject\\input\\decoys\\decoys_1300000_1350000.csv\n"
     ]
    },
    {
     "name": "stderr",
     "output_type": "stream",
     "text": [
      "Decoys: C:\\Users\\tux\\Documents\\MScProject\\input\\decoys\\decoys_1300000_1350000.csv: 0it [00:00, ?it/s]\n"
     ]
    },
    {
     "name": "stdout",
     "output_type": "stream",
     "text": [
      "Decoy.to_input C:\\Users\\tux\\Documents\\MScProject\\input\\decoys\\decoys_1350000_1400000.csv\n"
     ]
    },
    {
     "name": "stderr",
     "output_type": "stream",
     "text": [
      "Decoys: C:\\Users\\tux\\Documents\\MScProject\\input\\decoys\\decoys_1350000_1400000.csv: 0it [00:00, ?it/s]\n"
     ]
    },
    {
     "name": "stdout",
     "output_type": "stream",
     "text": [
      "Decoy.to_input C:\\Users\\tux\\Documents\\MScProject\\input\\decoys\\decoys_1400000_1450000.csv\n"
     ]
    },
    {
     "name": "stderr",
     "output_type": "stream",
     "text": [
      "Decoys: C:\\Users\\tux\\Documents\\MScProject\\input\\decoys\\decoys_1400000_1450000.csv: 0it [00:00, ?it/s]\n"
     ]
    },
    {
     "name": "stdout",
     "output_type": "stream",
     "text": [
      "Decoy.to_input C:\\Users\\tux\\Documents\\MScProject\\input\\decoys\\decoys_1450000_1500000.csv\n"
     ]
    },
    {
     "name": "stderr",
     "output_type": "stream",
     "text": [
      "Decoys: C:\\Users\\tux\\Documents\\MScProject\\input\\decoys\\decoys_1450000_1500000.csv: 0it [00:00, ?it/s]\n"
     ]
    },
    {
     "name": "stdout",
     "output_type": "stream",
     "text": [
      "Decoy.to_input C:\\Users\\tux\\Documents\\MScProject\\input\\decoys\\decoys_1500000_1550000.csv\n"
     ]
    },
    {
     "name": "stderr",
     "output_type": "stream",
     "text": [
      "Decoys: C:\\Users\\tux\\Documents\\MScProject\\input\\decoys\\decoys_1500000_1550000.csv: 0it [00:00, ?it/s]\n"
     ]
    },
    {
     "name": "stdout",
     "output_type": "stream",
     "text": [
      "Decoy.to_input C:\\Users\\tux\\Documents\\MScProject\\input\\decoys\\decoys_150000_200000.csv\n"
     ]
    },
    {
     "name": "stderr",
     "output_type": "stream",
     "text": [
      "Decoys: C:\\Users\\tux\\Documents\\MScProject\\input\\decoys\\decoys_150000_200000.csv: 0it [00:00, ?it/s]\n"
     ]
    },
    {
     "name": "stdout",
     "output_type": "stream",
     "text": [
      "Decoy.to_input C:\\Users\\tux\\Documents\\MScProject\\input\\decoys\\decoys_1550000_1600000.csv\n"
     ]
    },
    {
     "name": "stderr",
     "output_type": "stream",
     "text": [
      "Decoys: C:\\Users\\tux\\Documents\\MScProject\\input\\decoys\\decoys_1550000_1600000.csv: 0it [00:00, ?it/s]\n"
     ]
    },
    {
     "name": "stdout",
     "output_type": "stream",
     "text": [
      "Decoy.to_input C:\\Users\\tux\\Documents\\MScProject\\input\\decoys\\decoys_1600000_1650000.csv\n"
     ]
    },
    {
     "name": "stderr",
     "output_type": "stream",
     "text": [
      "Decoys: C:\\Users\\tux\\Documents\\MScProject\\input\\decoys\\decoys_1600000_1650000.csv: 0it [00:00, ?it/s]\n"
     ]
    },
    {
     "name": "stdout",
     "output_type": "stream",
     "text": [
      "Decoy.to_input C:\\Users\\tux\\Documents\\MScProject\\input\\decoys\\decoys_1650000_1700000.csv\n"
     ]
    },
    {
     "name": "stderr",
     "output_type": "stream",
     "text": [
      "Decoys: C:\\Users\\tux\\Documents\\MScProject\\input\\decoys\\decoys_1650000_1700000.csv: 0it [00:00, ?it/s]\n"
     ]
    },
    {
     "name": "stdout",
     "output_type": "stream",
     "text": [
      "Decoy.to_input C:\\Users\\tux\\Documents\\MScProject\\input\\decoys\\decoys_1700000_1750000.csv\n"
     ]
    },
    {
     "name": "stderr",
     "output_type": "stream",
     "text": [
      "Decoys: C:\\Users\\tux\\Documents\\MScProject\\input\\decoys\\decoys_1700000_1750000.csv: 0it [00:00, ?it/s]\n"
     ]
    },
    {
     "name": "stdout",
     "output_type": "stream",
     "text": [
      "Decoy.to_input C:\\Users\\tux\\Documents\\MScProject\\input\\decoys\\decoys_1750000_1800000.csv\n"
     ]
    },
    {
     "name": "stderr",
     "output_type": "stream",
     "text": [
      "Decoys: C:\\Users\\tux\\Documents\\MScProject\\input\\decoys\\decoys_1750000_1800000.csv: 0it [00:00, ?it/s]\n"
     ]
    },
    {
     "name": "stdout",
     "output_type": "stream",
     "text": [
      "Decoy.to_input C:\\Users\\tux\\Documents\\MScProject\\input\\decoys\\decoys_1800000_1850000.csv\n"
     ]
    },
    {
     "name": "stderr",
     "output_type": "stream",
     "text": [
      "Decoys: C:\\Users\\tux\\Documents\\MScProject\\input\\decoys\\decoys_1800000_1850000.csv: 0it [00:00, ?it/s]\n"
     ]
    },
    {
     "name": "stdout",
     "output_type": "stream",
     "text": [
      "Decoy.to_input C:\\Users\\tux\\Documents\\MScProject\\input\\decoys\\decoys_1850000_1900000.csv\n"
     ]
    },
    {
     "name": "stderr",
     "output_type": "stream",
     "text": [
      "Decoys: C:\\Users\\tux\\Documents\\MScProject\\input\\decoys\\decoys_1850000_1900000.csv: 0it [00:00, ?it/s]\n"
     ]
    },
    {
     "name": "stdout",
     "output_type": "stream",
     "text": [
      "Decoy.to_input C:\\Users\\tux\\Documents\\MScProject\\input\\decoys\\decoys_1900000_1950000.csv\n"
     ]
    },
    {
     "name": "stderr",
     "output_type": "stream",
     "text": [
      "Decoys: C:\\Users\\tux\\Documents\\MScProject\\input\\decoys\\decoys_1900000_1950000.csv: 0it [00:00, ?it/s]\n"
     ]
    },
    {
     "name": "stdout",
     "output_type": "stream",
     "text": [
      "Decoy.to_input C:\\Users\\tux\\Documents\\MScProject\\input\\decoys\\decoys_1950000_2000000.csv\n"
     ]
    },
    {
     "name": "stderr",
     "output_type": "stream",
     "text": [
      "Decoys: C:\\Users\\tux\\Documents\\MScProject\\input\\decoys\\decoys_1950000_2000000.csv: 0it [00:00, ?it/s]\n"
     ]
    },
    {
     "name": "stdout",
     "output_type": "stream",
     "text": [
      "Decoy.to_input C:\\Users\\tux\\Documents\\MScProject\\input\\decoys\\decoys_200000_250000.csv\n"
     ]
    },
    {
     "name": "stderr",
     "output_type": "stream",
     "text": [
      "Decoys: C:\\Users\\tux\\Documents\\MScProject\\input\\decoys\\decoys_200000_250000.csv: 0it [00:00, ?it/s]\n"
     ]
    },
    {
     "name": "stdout",
     "output_type": "stream",
     "text": [
      "Decoy.to_input C:\\Users\\tux\\Documents\\MScProject\\input\\decoys\\decoys_250000_300000.csv\n"
     ]
    },
    {
     "name": "stderr",
     "output_type": "stream",
     "text": [
      "Decoys: C:\\Users\\tux\\Documents\\MScProject\\input\\decoys\\decoys_250000_300000.csv: 0it [00:00, ?it/s]\n"
     ]
    },
    {
     "name": "stdout",
     "output_type": "stream",
     "text": [
      "Decoy.to_input C:\\Users\\tux\\Documents\\MScProject\\input\\decoys\\decoys_300000_350000.csv\n"
     ]
    },
    {
     "name": "stderr",
     "output_type": "stream",
     "text": [
      "Decoys: C:\\Users\\tux\\Documents\\MScProject\\input\\decoys\\decoys_300000_350000.csv: 0it [00:00, ?it/s]\n"
     ]
    },
    {
     "name": "stdout",
     "output_type": "stream",
     "text": [
      "Decoy.to_input C:\\Users\\tux\\Documents\\MScProject\\input\\decoys\\decoys_350000_400000.csv\n"
     ]
    },
    {
     "name": "stderr",
     "output_type": "stream",
     "text": [
      "Decoys: C:\\Users\\tux\\Documents\\MScProject\\input\\decoys\\decoys_350000_400000.csv: 0it [00:00, ?it/s]\n"
     ]
    },
    {
     "name": "stdout",
     "output_type": "stream",
     "text": [
      "Decoy.to_input C:\\Users\\tux\\Documents\\MScProject\\input\\decoys\\decoys_400000_450000.csv\n"
     ]
    },
    {
     "name": "stderr",
     "output_type": "stream",
     "text": [
      "Decoys: C:\\Users\\tux\\Documents\\MScProject\\input\\decoys\\decoys_400000_450000.csv: 0it [00:00, ?it/s]\n"
     ]
    },
    {
     "name": "stdout",
     "output_type": "stream",
     "text": [
      "Decoy.to_input C:\\Users\\tux\\Documents\\MScProject\\input\\decoys\\decoys_450000_500000.csv\n"
     ]
    },
    {
     "name": "stderr",
     "output_type": "stream",
     "text": [
      "Decoys: C:\\Users\\tux\\Documents\\MScProject\\input\\decoys\\decoys_450000_500000.csv: 0it [00:00, ?it/s]\n"
     ]
    },
    {
     "name": "stdout",
     "output_type": "stream",
     "text": [
      "Decoy.to_input C:\\Users\\tux\\Documents\\MScProject\\input\\decoys\\decoys_500000_550000.csv\n"
     ]
    },
    {
     "name": "stderr",
     "output_type": "stream",
     "text": [
      "Decoys: C:\\Users\\tux\\Documents\\MScProject\\input\\decoys\\decoys_500000_550000.csv: 0it [00:00, ?it/s]\n"
     ]
    },
    {
     "name": "stdout",
     "output_type": "stream",
     "text": [
      "Decoy.to_input C:\\Users\\tux\\Documents\\MScProject\\input\\decoys\\decoys_50000_100000.csv\n"
     ]
    },
    {
     "name": "stderr",
     "output_type": "stream",
     "text": [
      "Decoys: C:\\Users\\tux\\Documents\\MScProject\\input\\decoys\\decoys_50000_100000.csv: 0it [00:00, ?it/s]\n"
     ]
    },
    {
     "name": "stdout",
     "output_type": "stream",
     "text": [
      "Decoy.to_input C:\\Users\\tux\\Documents\\MScProject\\input\\decoys\\decoys_550000_600000.csv\n"
     ]
    },
    {
     "name": "stderr",
     "output_type": "stream",
     "text": [
      "Decoys: C:\\Users\\tux\\Documents\\MScProject\\input\\decoys\\decoys_550000_600000.csv: 0it [00:00, ?it/s]\n"
     ]
    },
    {
     "name": "stdout",
     "output_type": "stream",
     "text": [
      "Decoy.to_input C:\\Users\\tux\\Documents\\MScProject\\input\\decoys\\decoys_600000_650000.csv\n"
     ]
    },
    {
     "name": "stderr",
     "output_type": "stream",
     "text": [
      "Decoys: C:\\Users\\tux\\Documents\\MScProject\\input\\decoys\\decoys_600000_650000.csv: 0it [00:00, ?it/s]\n"
     ]
    },
    {
     "name": "stdout",
     "output_type": "stream",
     "text": [
      "Decoy.to_input C:\\Users\\tux\\Documents\\MScProject\\input\\decoys\\decoys_650000_700000.csv\n"
     ]
    },
    {
     "name": "stderr",
     "output_type": "stream",
     "text": [
      "Decoys: C:\\Users\\tux\\Documents\\MScProject\\input\\decoys\\decoys_650000_700000.csv: 0it [00:00, ?it/s]\n"
     ]
    },
    {
     "name": "stdout",
     "output_type": "stream",
     "text": [
      "Decoy.to_input C:\\Users\\tux\\Documents\\MScProject\\input\\decoys\\decoys_700000_750000.csv\n"
     ]
    },
    {
     "name": "stderr",
     "output_type": "stream",
     "text": [
      "Decoys: C:\\Users\\tux\\Documents\\MScProject\\input\\decoys\\decoys_700000_750000.csv: 0it [00:00, ?it/s]\n"
     ]
    },
    {
     "name": "stdout",
     "output_type": "stream",
     "text": [
      "Decoy.to_input C:\\Users\\tux\\Documents\\MScProject\\input\\decoys\\decoys_750000_800000.csv\n"
     ]
    },
    {
     "name": "stderr",
     "output_type": "stream",
     "text": [
      "Decoys: C:\\Users\\tux\\Documents\\MScProject\\input\\decoys\\decoys_750000_800000.csv: 0it [00:00, ?it/s]\n"
     ]
    },
    {
     "name": "stdout",
     "output_type": "stream",
     "text": [
      "Decoy.to_input C:\\Users\\tux\\Documents\\MScProject\\input\\decoys\\decoys_800000_850000.csv\n"
     ]
    },
    {
     "name": "stderr",
     "output_type": "stream",
     "text": [
      "Decoys: C:\\Users\\tux\\Documents\\MScProject\\input\\decoys\\decoys_800000_850000.csv: 0it [00:00, ?it/s]\n"
     ]
    },
    {
     "name": "stdout",
     "output_type": "stream",
     "text": [
      "Decoy.to_input C:\\Users\\tux\\Documents\\MScProject\\input\\decoys\\decoys_850000_900000.csv\n"
     ]
    },
    {
     "name": "stderr",
     "output_type": "stream",
     "text": [
      "Decoys: C:\\Users\\tux\\Documents\\MScProject\\input\\decoys\\decoys_850000_900000.csv: 0it [00:00, ?it/s]\n"
     ]
    },
    {
     "name": "stdout",
     "output_type": "stream",
     "text": [
      "Decoy.to_input C:\\Users\\tux\\Documents\\MScProject\\input\\decoys\\decoys_900000_950000.csv\n"
     ]
    },
    {
     "name": "stderr",
     "output_type": "stream",
     "text": [
      "Decoys: C:\\Users\\tux\\Documents\\MScProject\\input\\decoys\\decoys_900000_950000.csv: 0it [00:00, ?it/s]\n"
     ]
    },
    {
     "name": "stdout",
     "output_type": "stream",
     "text": [
      "Decoy.to_input C:\\Users\\tux\\Documents\\MScProject\\input\\decoys\\decoys_950000_1000000.csv\n"
     ]
    },
    {
     "name": "stderr",
     "output_type": "stream",
     "text": [
      "Decoys: C:\\Users\\tux\\Documents\\MScProject\\input\\decoys\\decoys_950000_1000000.csv: 0it [00:00, ?it/s]\n"
     ]
    }
   ],
   "source": [
    "setup_system(1.0, 0)"
   ]
  },
  {
   "cell_type": "code",
   "execution_count": 5,
   "id": "a58dd00f",
   "metadata": {},
   "outputs": [
    {
     "name": "stdout",
     "output_type": "stream",
     "text": [
      "Datasource                   Samples    Observations         Obs - SA        Obs - MA        peptides     MHC alleles\n",
      "Edi                              271       1,550,250          293,334       1,256,916         390,959             104\n",
      "Atlas                            198         409,486                0         409,486          90,422              51\n",
      "Total                            469       1,959,736          293,334       1,666,402         429,339             109\n"
     ]
    }
   ],
   "source": [
    "overview_datasources()"
   ]
  },
  {
   "cell_type": "code",
   "execution_count": 6,
   "id": "070a6c92",
   "metadata": {},
   "outputs": [],
   "source": [
    "load_split_mhc_alleles()\n",
    "load_split_proteins()"
   ]
  },
  {
   "cell_type": "code",
   "execution_count": 7,
   "id": "7596088b",
   "metadata": {},
   "outputs": [
    {
     "name": "stdout",
     "output_type": "stream",
     "text": [
      "\n",
      "\n",
      "ABSOLUTE\n",
      "                             train        val       test   val-prot  test-prot    val-mhc   test-mhc \n",
      "Observations in splits:  1,407,876    274,378    277,482     70,072     71,150    204,306    206,332 \n",
      "                    SA:    205,591     33,920     53,823     10,149     11,056     23,771     42,767 \n",
      "                    MA:  1,202,285    240,458    223,659     59,923     60,094    180,535    163,565 \n",
      "\n",
      "\n",
      "RELATIVE\n",
      "                             train        val       test   val-prot  test-prot    val-mhc   test-mhc \n",
      "Observations in splits:      71.8%      14.0%      14.2%       3.6%       3.6%      10.4%      10.5% \n",
      "                    SA:      10.5%       1.7%       2.7%       0.5%       0.6%       1.2%       2.2% \n",
      "                    MA:      61.3%      12.3%      11.4%       3.1%       3.1%       9.2%       8.3% \n"
     ]
    }
   ],
   "source": [
    "overview_split()"
   ]
  },
  {
   "cell_type": "code",
   "execution_count": 20,
   "id": "b0056998",
   "metadata": {},
   "outputs": [],
   "source": [
    "cnt_n_flank = 0\n",
    "cnt_c_flank = 0\n",
    "cnt_no_n_flank = 0\n",
    "cnt_no_c_flank = 0\n",
    "\n",
    "cnt_ok = 0\n",
    "\n",
    "for obs in Observation.observations:\n",
    "    if obs.n_flank == \"\":\n",
    "        cnt_no_n_flank += 1\n",
    "    else:\n",
    "        cnt_n_flank += 1\n",
    "        \n",
    "    if obs.c_flank == \"\":\n",
    "        cnt_no_c_flank += 1\n",
    "    else:\n",
    "        cnt_c_flank += 1\n",
    "        \n",
    "    if obs.n_flank != \"\" and obs.c_flank != \"\":\n",
    "        cnt_ok += 1"
   ]
  },
  {
   "cell_type": "code",
   "execution_count": 21,
   "id": "7db8ee0c",
   "metadata": {},
   "outputs": [
    {
     "data": {
      "text/plain": [
       "1554626"
      ]
     },
     "execution_count": 21,
     "metadata": {},
     "output_type": "execute_result"
    }
   ],
   "source": [
    "cnt_n_flank"
   ]
  },
  {
   "cell_type": "code",
   "execution_count": 22,
   "id": "fe689fe6",
   "metadata": {},
   "outputs": [
    {
     "data": {
      "text/plain": [
       "405110"
      ]
     },
     "execution_count": 22,
     "metadata": {},
     "output_type": "execute_result"
    }
   ],
   "source": [
    "cnt_no_n_flank"
   ]
  },
  {
   "cell_type": "code",
   "execution_count": 23,
   "id": "a4d82ac3",
   "metadata": {},
   "outputs": [
    {
     "data": {
      "text/plain": [
       "1523478"
      ]
     },
     "execution_count": 23,
     "metadata": {},
     "output_type": "execute_result"
    }
   ],
   "source": [
    "cnt_c_flank"
   ]
  },
  {
   "cell_type": "code",
   "execution_count": 24,
   "id": "09317b94",
   "metadata": {},
   "outputs": [
    {
     "data": {
      "text/plain": [
       "436258"
      ]
     },
     "execution_count": 24,
     "metadata": {},
     "output_type": "execute_result"
    }
   ],
   "source": [
    "cnt_no_c_flank"
   ]
  },
  {
   "cell_type": "code",
   "execution_count": 25,
   "id": "3734cb27",
   "metadata": {},
   "outputs": [
    {
     "data": {
      "text/plain": [
       "1520969"
      ]
     },
     "execution_count": 25,
     "metadata": {},
     "output_type": "execute_result"
    }
   ],
   "source": [
    "cnt_ok"
   ]
  },
  {
   "cell_type": "code",
   "execution_count": 26,
   "id": "c3517d30",
   "metadata": {},
   "outputs": [
    {
     "data": {
      "text/plain": [
       "1959736"
      ]
     },
     "execution_count": 26,
     "metadata": {},
     "output_type": "execute_result"
    }
   ],
   "source": [
    "len(Observation.observations)"
   ]
  },
  {
   "cell_type": "code",
   "execution_count": 27,
   "id": "464c0c02",
   "metadata": {},
   "outputs": [
    {
     "data": {
      "text/plain": [
       "0.7761091289847204"
      ]
     },
     "execution_count": 27,
     "metadata": {},
     "output_type": "execute_result"
    }
   ],
   "source": [
    "1520969/1959736"
   ]
  },
  {
   "cell_type": "code",
   "execution_count": null,
   "id": "7779d719",
   "metadata": {},
   "outputs": [],
   "source": []
  }
 ],
 "metadata": {
  "kernelspec": {
   "display_name": "Python 3",
   "language": "python",
   "name": "python3"
  },
  "language_info": {
   "codemirror_mode": {
    "name": "ipython",
    "version": 3
   },
   "file_extension": ".py",
   "mimetype": "text/x-python",
   "name": "python",
   "nbconvert_exporter": "python",
   "pygments_lexer": "ipython3",
   "version": "3.8.10"
  },
  "toc": {
   "base_numbering": 1,
   "nav_menu": {},
   "number_sections": true,
   "sideBar": true,
   "skip_h1_title": false,
   "title_cell": "Table of Contents",
   "title_sidebar": "Contents",
   "toc_cell": true,
   "toc_position": {
    "height": "calc(100% - 180px)",
    "left": "10px",
    "top": "150px",
    "width": "321.8px"
   },
   "toc_section_display": true,
   "toc_window_display": true
  }
 },
 "nbformat": 4,
 "nbformat_minor": 5
}
