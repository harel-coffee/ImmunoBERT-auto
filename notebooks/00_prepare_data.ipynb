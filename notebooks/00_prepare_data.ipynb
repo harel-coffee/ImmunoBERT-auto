{
 "cells": [
  {
   "cell_type": "markdown",
   "id": "b132e1f8",
   "metadata": {
    "toc": true
   },
   "source": [
    "<h1>Table of Contents<span class=\"tocSkip\"></span></h1>\n",
    "<div class=\"toc\"><ul class=\"toc-item\"><li><span><a href=\"#load-data-from-original-files\" data-toc-modified-id=\"load-data-from-original-files-1\"><span class=\"toc-item-num\">1&nbsp;&nbsp;</span>load data from original files</a></span></li><li><span><a href=\"#write-data-to-the-input-files-for-the-model\" data-toc-modified-id=\"write-data-to-the-input-files-for-the-model-2\"><span class=\"toc-item-num\">2&nbsp;&nbsp;</span>write data to the input files for the model</a></span></li><li><span><a href=\"#save-TAPE-pretrained-weights\" data-toc-modified-id=\"save-TAPE-pretrained-weights-3\"><span class=\"toc-item-num\">3&nbsp;&nbsp;</span>save TAPE pretrained weights</a></span></li></ul></div>"
   ]
  },
  {
   "cell_type": "code",
   "execution_count": 1,
   "id": "0b79724b",
   "metadata": {},
   "outputs": [],
   "source": [
    "import numpy as np\n",
    "import pandas as pd\n",
    "import pdb\n",
    "from argparse import ArgumentParser\n",
    "import shlex\n",
    "from tqdm import tqdm\n",
    "\n",
    "from pytorch_lightning import Trainer\n",
    "from pytorch_lightning.callbacks import ModelCheckpoint\n",
    "\n",
    "import pMHC\n",
    "from pMHC import OUTPUT_FOLDER, SEP, \\\n",
    "    SPLITS, SPLIT_TRAIN, SPLIT_VAL, SPLIT_TEST, \\\n",
    "    VIEWS, VIEW_SA, VIEW_SAMA, VIEW_DECONV, \\\n",
    "    INPUT_PEPTIDE, INPUT_CONTEXT\n",
    "from pMHC.logic import PresentationPredictor\n",
    "from pMHC.data import from_data, to_input\n",
    "from pMHC.data.example import Observation\n",
    "from pMHC.logic.backbones import TAPEBackbone\n",
    "\n",
    "tqdm.pandas()"
   ]
  },
  {
   "cell_type": "code",
   "execution_count": 3,
   "id": "4c9b39da",
   "metadata": {},
   "outputs": [],
   "source": [
    "from pMHC.data import from_data, to_input"
   ]
  },
  {
   "cell_type": "code",
   "execution_count": null,
   "id": "051da35b",
   "metadata": {},
   "outputs": [],
   "source": [
    "pMHC.set_paths(r\"C:\\Users\\tux\\Documents\\MScProject\")"
   ]
  },
  {
   "cell_type": "code",
   "execution_count": 4,
   "id": "1dcc9acd",
   "metadata": {},
   "outputs": [
    {
     "name": "stderr",
     "output_type": "stream",
     "text": [
      "C:\\Users\\tux\\Anaconda3\\envs\\MSc\\lib\\site-packages\\pytorch_lightning\\utilities\\distributed.py:69: UserWarning: ModelCheckpoint(save_last=True, save_top_k=None, monitor=None) is a redundant configuration. You can save the last checkpoint with ModelCheckpoint(save_top_k=None, monitor=None).\n",
      "  warnings.warn(*args, **kwargs)\n",
      "ModelCheckpoint(save_last=True, save_top_k=-1, monitor=None) will duplicate the last checkpoint saved.\n",
      "GPU available: True, used: False\n",
      "TPU available: False, using: 0 TPU cores\n"
     ]
    },
    {
     "name": "stdout",
     "output_type": "stream",
     "text": [
      "Namespace(accelerator=None, accumulate_grad_batches=1, amp_backend='native', amp_level='O2', auto_lr_find=False, auto_scale_batch_size=False, auto_select_gpus=False, backbone='TAPE', batch_size=12, benchmark=False, check_val_every_n_epoch=1, checkpoint_callback=True, datasources='Edi;Atlas', decoys_per_obs=99, default_root_dir='C:\\\\Users\\\\tux\\\\Documents\\\\project_v2\\\\output\\\\', deterministic=False, distributed_backend=None, fast_dev_run=False, flush_logs_every_n_steps=100, gpus=0, gradient_clip_algorithm='norm', gradient_clip_val=0.0, head='Cls', head_hidden_features=512, input_mode='CONTEXT', learning_rate=1e-05, limit_predict_batches=1.0, limit_test_batches=1.0, limit_train_batches=1.0, limit_val_batches=1.0, log_every_n_steps=50, log_gpu_memory=None, logger=True, max_epochs=None, max_seq_length=80, max_steps=None, max_time=None, mhc_rep='FULL', min_epochs=None, min_steps=None, move_metrics_to_cpu=False, multiple_trainloader_mode='max_size_cycle', num_nodes=1, num_processes=1, num_sanity_val_steps=2, num_workers=0, overfit_batches=0.0, plugins=None, precision=32, prepare_data_per_node=True, process_position=0, profiler=None, progress_bar_refresh_rate=None, proportion=1.0, reload_dataloaders_every_epoch=False, replace_sampler_ddp=True, resume_from_checkpoint=None, seed=42, stochastic_weight_avg=False, sync_batchnorm=False, terminate_on_nan=False, tokenizer='Standard', tpu_cores=None, track_grad_norm=2.0, truncated_bptt_steps=None, val_check_interval=1.0, weights_save_path=None, weights_summary='top')\n"
     ]
    },
    {
     "name": "stderr",
     "output_type": "stream",
     "text": [
      "C:\\Users\\tux\\Anaconda3\\envs\\MSc\\lib\\site-packages\\pytorch_lightning\\utilities\\distributed.py:69: UserWarning: GPU available but not used. Set the gpus flag in your trainer `Trainer(gpus=1)` or script `--gpus=1`.\n",
      "  warnings.warn(*args, **kwargs)\n",
      "Global seed set to 42\n"
     ]
    }
   ],
   "source": [
    "parser = ArgumentParser()\n",
    "parser = PresentationPredictor.add_argparse_args(parser)\n",
    "parser = Trainer.add_argparse_args(parser)\n",
    "\n",
    "argString = f\"--gpus 0 --num_workers 0 \"\n",
    "argString += f\"--proportion 1 --precision 32 --datasources 'Edi;Atlas' \"\n",
    "argString += f\"--default_root_dir '{OUTPUT_FOLDER}{SEP}' \"\n",
    "argString += f\"--batch_size 12 --learning_rate 0.00001 \"\n",
    "argString += f\"--track_grad_norm 2 --max_seq_length 80 \"\n",
    "argString += f\"--input_mode CONTEXT --mhc_rep FULL \"\n",
    "argString += f\"--decoys_per_obs 99 \"\n",
    "# argString += f\"--head Avg \"\n",
    "args = parser.parse_args(shlex.split(argString))\n",
    "\n",
    "print(args)\n",
    "\n",
    "checkpoint_callback = ModelCheckpoint(\n",
    "    every_n_val_epochs=1, \n",
    "    save_top_k=-1,\n",
    "    save_last=True)\n",
    "\n",
    "trainer = Trainer.from_argparse_args(args, callbacks=[checkpoint_callback])\n",
    "args_dict = vars(args)\n",
    "model = PresentationPredictor(**args_dict)"
   ]
  },
  {
   "cell_type": "markdown",
   "id": "f1242301",
   "metadata": {},
   "source": [
    "# load data from original files"
   ]
  },
  {
   "cell_type": "code",
   "execution_count": 5,
   "id": "85612cb2",
   "metadata": {},
   "outputs": [
    {
     "name": "stderr",
     "output_type": "stream",
     "text": [
      "  0%|                                                                                            | 0/3 [00:00<?, ?it/s]\n",
      "6766it [00:00, 89252.02it/s]\n",
      "\n",
      "0it [00:00, ?it/s]\u001b[A"
     ]
    },
    {
     "name": "stdout",
     "output_type": "stream",
     "text": [
      "MhcAllele.from_data\n"
     ]
    },
    {
     "name": "stderr",
     "output_type": "stream",
     "text": [
      "7966it [00:00, 106496.63it/s]\n",
      " 67%|████████████████████████████████████████████████████████                            | 2/3 [00:00<00:00, 12.04it/s]\n",
      "6621it [00:00, 105335.28it/s]\n",
      "100%|████████████████████████████████████████████████████████████████████████████████████| 3/3 [00:00<00:00, 12.98it/s]\n",
      "9182it [00:00, 91061.08it/s]"
     ]
    },
    {
     "name": "stdout",
     "output_type": "stream",
     "text": [
      "Protein: from_data\n"
     ]
    },
    {
     "name": "stderr",
     "output_type": "stream",
     "text": [
      "77027it [00:00, 81164.81it/s]\n",
      "108903it [00:01, 95353.91it/s] \n",
      "  0%|                                                                                          | 0/274 [00:00<?, ?it/s]MhcAllele.name_to_mhc_allele: MHC name HLA-DQB103:01 not found\n",
      "MhcAllele.name_to_mhc_allele: MHC name HLA-DQB103:02 not found\n",
      "MhcAllele.name_to_mhc_allele: MHC name HLA-DRB104:04 not found\n",
      "MhcAllele.name_to_mhc_allele: MHC name HLA-DRB111:01 not found\n",
      "MhcAllele.name_to_mhc_allele: MHC name HLA-DQB103:01 not found\n",
      "MhcAllele.name_to_mhc_allele: MHC name HLA-DQB103:02 not found\n",
      "MhcAllele.name_to_mhc_allele: MHC name HLA-DRB104:04 not found\n",
      "MhcAllele.name_to_mhc_allele: MHC name HLA-DRB111:01 not found\n",
      "MhcAllele.name_to_mhc_allele: MHC name HLA-DQB103:01 not found\n",
      "MhcAllele.name_to_mhc_allele: MHC name HLA-DQB103:02 not found\n",
      "MhcAllele.name_to_mhc_allele: MHC name HLA-DRB104:04 not found\n",
      "MhcAllele.name_to_mhc_allele: MHC name HLA-DRB111:01 not found\n",
      "MhcAllele.name_to_mhc_allele: MHC name HLA-DQB103:01 not found\n",
      "MhcAllele.name_to_mhc_allele: MHC name HLA-DQB103:01 not found\n",
      "MhcAllele.name_to_mhc_allele: MHC name HLA-DRB111:04 not found\n",
      "MhcAllele.name_to_mhc_allele: MHC name HLA-DRB111:04 not found\n",
      "MhcAllele.name_to_mhc_allele: MHC name HLA-DQB103:01 not found\n",
      "MhcAllele.name_to_mhc_allele: MHC name HLA-DQB103:01 not found\n",
      "MhcAllele.name_to_mhc_allele: MHC name HLA-DRB111:04 not found\n",
      "MhcAllele.name_to_mhc_allele: MHC name HLA-DRB111:04 not found\n",
      "MhcAllele.name_to_mhc_allele: MHC name HLA-DQB103:03 not found\n",
      "MhcAllele.name_to_mhc_allele: MHC name HLA-DQB105:01 not found\n",
      "MhcAllele.name_to_mhc_allele: MHC name HLA-DRB101:01 not found\n",
      "MhcAllele.name_to_mhc_allele: MHC name HLA-DRB107:01 not found\n",
      "MhcAllele.name_to_mhc_allele: MHC name HLA-DQB102:01 not found\n",
      "MhcAllele.name_to_mhc_allele: MHC name HLA-DQB103:02 not found\n",
      "MhcAllele.name_to_mhc_allele: MHC name HLA-DRB103:01 not found\n",
      "MhcAllele.name_to_mhc_allele: MHC name HLA-DRB104:01 not found\n",
      "MhcAllele.name_to_mhc_allele: MHC name HLA-DQB103:01 not found\n",
      "MhcAllele.name_to_mhc_allele: MHC name HLA-DQB1:03:01 not found\n",
      "MhcAllele.name_to_mhc_allele: MHC name HLA-DRB111:01 not found\n",
      "MhcAllele.name_to_mhc_allele: MHC name HLA-DRB111:01 not found\n",
      "MhcAllele.name_to_mhc_allele: MHC name HLA-DQB103:01 not found\n",
      "MhcAllele.name_to_mhc_allele: MHC name HLA-DQB1:03:01 not found\n",
      "MhcAllele.name_to_mhc_allele: MHC name HLA-DRB111:01 not found\n",
      "MhcAllele.name_to_mhc_allele: MHC name HLA-DRB111:01 not found\n",
      "MhcAllele.name_to_mhc_allele: MHC name HLA-DQB103:01 not found\n",
      "MhcAllele.name_to_mhc_allele: MHC name HLA-DQB1:03:01 not found\n",
      "MhcAllele.name_to_mhc_allele: MHC name HLA-DRB111:01 not found\n",
      "MhcAllele.name_to_mhc_allele: MHC name HLA-DRB111:01 not found\n",
      "MhcAllele.name_to_mhc_allele: MHC name HLA-DQB103:01 not found\n",
      "MhcAllele.name_to_mhc_allele: MHC name HLA-DQB1:03:01 not found\n",
      "MhcAllele.name_to_mhc_allele: MHC name HLA-DRB111:01 not found\n",
      "MhcAllele.name_to_mhc_allele: MHC name HLA-DRB111:01 not found\n",
      "MhcAllele.name_to_mhc_allele: MHC name HLA-DQB102:02 not found\n",
      "MhcAllele.name_to_mhc_allele: MHC name HLA-DQB105:02 not found\n",
      "MhcAllele.name_to_mhc_allele: MHC name HLA-DRB107:01 not found\n",
      "MhcAllele.name_to_mhc_allele: MHC name HLA-DRB116:01 not found\n",
      "MhcAllele.name_to_mhc_allele: MHC name HLA-DQA130:11 not found\n",
      "MhcAllele.name_to_mhc_allele: MHC name HLA-DPB102:01 not found\n",
      "MhcAllele.name_to_mhc_allele: MHC name HLA-DRB104:04 not found\n",
      "MhcAllele.name_to_mhc_allele: MHC name HLA-DRB113:01 not found\n",
      "MhcAllele.name_to_mhc_allele: MHC name HLA-DQA130:11 not found\n",
      "MhcAllele.name_to_mhc_allele: MHC name HLA-DPB102:01 not found\n",
      "MhcAllele.name_to_mhc_allele: MHC name HLA-DRB104:04 not found\n",
      "MhcAllele.name_to_mhc_allele: MHC name HLA-DRB113:01 not found\n",
      "MhcAllele.name_to_mhc_allele: MHC name HLA-DQA130:11 not found\n",
      "MhcAllele.name_to_mhc_allele: MHC name HLA-DPB102:01 not found\n",
      "MhcAllele.name_to_mhc_allele: MHC name HLA-DRB104:04 not found\n",
      "MhcAllele.name_to_mhc_allele: MHC name HLA-DRB113:01 not found\n",
      "MhcAllele.name_to_mhc_allele: MHC name HLA-DQA130:11 not found\n",
      "MhcAllele.name_to_mhc_allele: MHC name HLA-DPB102:01 not found\n",
      "MhcAllele.name_to_mhc_allele: MHC name HLA-DRB104:04 not found\n",
      "MhcAllele.name_to_mhc_allele: MHC name HLA-DRB113:01 not found\n",
      "MhcAllele.name_to_mhc_allele: MHC name HLA-DQB105 not found\n",
      "MhcAllele.name_to_mhc_allele: MHC name HLA-DQB106 not found\n",
      "MhcAllele.name_to_mhc_allele: MHC name HLA-DRB101:02 not found\n",
      "MhcAllele.name_to_mhc_allele: MHC name HLA-DRB115:01 not found\n",
      "MhcAllele.name_to_mhc_allele: MHC name HLA-DQB103:01 not found\n",
      "MhcAllele.name_to_mhc_allele: MHC name HLA-DQB104:02 not found\n",
      "MhcAllele.name_to_mhc_allele: MHC name HLA-DRB104:01 not found\n",
      "MhcAllele.name_to_mhc_allele: MHC name HLA-DRB108:01 not found\n",
      "MhcAllele.name_to_mhc_allele: MHC name HLA-DQB103:01 not found\n",
      "MhcAllele.name_to_mhc_allele: MHC name HLA-DQB105:01 not found\n",
      "MhcAllele.name_to_mhc_allele: MHC name HLA-DRB101:01 not found\n",
      "MhcAllele.name_to_mhc_allele: MHC name HLA-DRB104:08 not found\n",
      "MhcAllele.name_to_mhc_allele: MHC name HLA-DQB103:01 not found\n",
      "MhcAllele.name_to_mhc_allele: MHC name HLA-DQB105:02 not found\n",
      "MhcAllele.name_to_mhc_allele: MHC name HLA-DRB112:01 not found\n",
      "MhcAllele.name_to_mhc_allele: MHC name HLA-DRB115:01 not found\n",
      "100%|██████████████████████████████████████████████████████████████████████████████| 274/274 [00:00<00:00, 9427.10it/s]\n"
     ]
    },
    {
     "name": "stdout",
     "output_type": "stream",
     "text": [
      "EdiDatasource: from_data\n"
     ]
    },
    {
     "name": "stderr",
     "output_type": "stream",
     "text": [
      "  0%|                                                                     | 25938/19011371 [00:00<02:32, 124877.52it/s]"
     ]
    },
    {
     "name": "stdout",
     "output_type": "stream",
     "text": [
      "  load_peptide_to_protein_names\n"
     ]
    },
    {
     "name": "stderr",
     "output_type": "stream",
     "text": [
      "100%|██████████████████████████████████████████████████████████████████| 19011371/19011371 [02:12<00:00, 143889.75it/s]\n",
      "100%|█████████████████████████████████████████████████████████████████████| 2675907/2675907 [00:33<00:00, 80595.52it/s]\n",
      "load Atlas donors: 0it [00:00, ?it/s]MhcAllele.name_to_mhc_allele: MHC name HLA-DRB104:01 not found\n",
      "MhcAllele.name_to_mhc_allele: MHC name HLA-DRB104:01 not found\n",
      "MhcAllele.name_to_mhc_allele: MHC name HLA-DRB401:03 not found\n",
      "MhcAllele.name_to_mhc_allele: MHC name HLA-DRB401:03 not found\n",
      "MhcAllele.name_to_mhc_allele: MHC name HLA-DRB401:03 not found\n",
      "MhcAllele.name_to_mhc_allele: MHC name HLA-DRB401:03 not found\n",
      "MhcAllele.name_to_mhc_allele: MHC name HLA-DRB401:03 not found\n",
      "MhcAllele.name_to_mhc_allele: MHC name HLA-DRB401:03 not found\n",
      "MhcAllele.name_to_mhc_allele: MHC name HLA-DPA101:03-DPB104:01 not found\n",
      "MhcAllele.name_to_mhc_allele: MHC name HLA-DPA101:03-DPB104:01 not found\n",
      "MhcAllele.name_to_mhc_allele: MHC name HLA-DPA101:03-DPB104:01 not found\n",
      "MhcAllele.name_to_mhc_allele: MHC name HLA-DPA101:03-DPB104:01 not found\n",
      "MhcAllele.name_to_mhc_allele: MHC name HLA-DPA101:03-DPB104:01 not found\n",
      "MhcAllele.name_to_mhc_allele: MHC name HLA-DPA101:03-DPB104:01 not found\n",
      "MhcAllele.name_to_mhc_allele: MHC name HLA-DPA101:03-DPB104:01 not found\n",
      "MhcAllele.name_to_mhc_allele: MHC name HLA-DPA101:03-DPB104:01 not found\n",
      "MhcAllele.name_to_mhc_allele: MHC name HLA-DPA101:03-DPB104:01 not found\n",
      "MhcAllele.name_to_mhc_allele: MHC name HLA-DPA101:03-DPB104:01 not found\n",
      "MhcAllele.name_to_mhc_allele: MHC name HLA-DPA101:03-DPB104:01 not found\n",
      "MhcAllele.name_to_mhc_allele: MHC name HLA-DPA101:03-DPB104:02 not found\n",
      "MhcAllele.name_to_mhc_allele: MHC name HLA-DPA101:03-DPB104:02 not found\n",
      "MhcAllele.name_to_mhc_allele: MHC name HLA-DPA101:03-DPB104:02 not found\n",
      "MhcAllele.name_to_mhc_allele: MHC name HLA-DPA101:03-DPB104:02 not found\n",
      "MhcAllele.name_to_mhc_allele: MHC name HLA-DQA103:02-DQB103:01 not found\n",
      "MhcAllele.name_to_mhc_allele: MHC name HLA-DQA103:02-DQB103:01 not found\n",
      "MhcAllele.name_to_mhc_allele: MHC name HLA-DQA103:01-DQB103:01 not found\n",
      "MhcAllele.name_to_mhc_allele: MHC name HLA-DRB111:03 not found\n",
      "MhcAllele.name_to_mhc_allele: MHC name HLA-DRB107:01 not found\n",
      "MhcAllele.name_to_mhc_allele: MHC name HLA-DRB107:01 not found\n",
      "MhcAllele.name_to_mhc_allele: MHC name HLA-DRB107:01 not found\n",
      "MhcAllele.name_to_mhc_allele: MHC name HLA-DRB107:01 not found\n",
      "MhcAllele.name_to_mhc_allele: MHC name HLA-DRB302:02 not found\n",
      "MhcAllele.name_to_mhc_allele: MHC name HLA-DRB302:02 not found\n",
      "MhcAllele.name_to_mhc_allele: MHC name HLA-DRB302:02 not found\n",
      "MhcAllele.name_to_mhc_allele: MHC name HLA-DRB302:02 not found\n",
      "MhcAllele.name_to_mhc_allele: MHC name HLA-DRB302:02 not found\n",
      "MhcAllele.name_to_mhc_allele: MHC name HLA-DRB302:02 not found\n",
      "MhcAllele.name_to_mhc_allele: MHC name HLA-DRB401:01 not found\n",
      "MhcAllele.name_to_mhc_allele: MHC name HLA-DRB401:01 not found\n",
      "MhcAllele.name_to_mhc_allele: MHC name HLA-DPA101:03-DPB103:01 not found\n",
      "MhcAllele.name_to_mhc_allele: MHC name HLA-DPA101:03-DPB103:01 not found\n",
      "MhcAllele.name_to_mhc_allele: MHC name HLA-DPA101:03-DPB103:01 not found\n",
      "MhcAllele.name_to_mhc_allele: MHC name HLA-DPA101:03-DPB103:01 not found\n",
      "MhcAllele.name_to_mhc_allele: MHC name HLA-DPA101:03-DPB103:01 not found\n",
      "MhcAllele.name_to_mhc_allele: MHC name HLA-DQA102:01-DQB103:01 not found\n",
      "MhcAllele.name_to_mhc_allele: MHC name HLA-DQA102:01-DQB102:02 not found\n",
      "MhcAllele.name_to_mhc_allele: MHC name HLA-DQA102:01-DQB102:02 not found\n",
      "MhcAllele.name_to_mhc_allele: MHC name HLA-DQA102:01-DQB102:02 not found\n",
      "MhcAllele.name_to_mhc_allele: MHC name HLA-DQA105:05-DQB103:01 not found\n",
      "MhcAllele.name_to_mhc_allele: MHC name HLA-DQA105:05-DQB103:01 not found\n",
      "MhcAllele.name_to_mhc_allele: MHC name HLA-DQA105:05-DQB103:01 not found\n",
      "MhcAllele.name_to_mhc_allele: MHC name HLA-DQA105:05-DQB103:01 not found\n",
      "MhcAllele.name_to_mhc_allele: MHC name HLA-DQA105:05-DQB103:01 not found\n",
      "MhcAllele.name_to_mhc_allele: MHC name HLA-DQA105:05-DQB103:01 not found\n",
      "MhcAllele.name_to_mhc_allele: MHC name HLA-DQA105:05-DQB103:01 not found\n",
      "MhcAllele.name_to_mhc_allele: MHC name HLA-DQA105:05-DQB102:02 not found\n",
      "MhcAllele.name_to_mhc_allele: MHC name HLA-DRB113:01 not found\n",
      "MhcAllele.name_to_mhc_allele: MHC name HLA-DRB113:01 not found\n",
      "MhcAllele.name_to_mhc_allele: MHC name HLA-DRB301:01 not found\n",
      "MhcAllele.name_to_mhc_allele: MHC name HLA-DRB301:01 not found\n",
      "MhcAllele.name_to_mhc_allele: MHC name HLA-DRB301:01 not found\n",
      "MhcAllele.name_to_mhc_allele: MHC name HLA-DRB301:01 not found\n",
      "MhcAllele.name_to_mhc_allele: MHC name HLA-DPA102:02-DPB104:01 not found\n",
      "MhcAllele.name_to_mhc_allele: MHC name HLA-DPA102:02-DPB103:01 not found\n",
      "MhcAllele.name_to_mhc_allele: MHC name HLA-DQA101:03-DQB106:03 not found\n",
      "MhcAllele.name_to_mhc_allele: MHC name HLA-DQA101:03-DQB102:02 not found\n",
      "MhcAllele.name_to_mhc_allele: MHC name HLA-DQA102:01-DQB106:03 not found\n",
      "MhcAllele.name_to_mhc_allele: MHC name HLA-DRB111:01 not found\n",
      "MhcAllele.name_to_mhc_allele: MHC name HLA-DRB111:01 not found\n",
      "MhcAllele.name_to_mhc_allele: MHC name HLA-DRB111:01 not found\n",
      "MhcAllele.name_to_mhc_allele: MHC name HLA-DRB111:01 not found\n",
      "MhcAllele.name_to_mhc_allele: MHC name HLA-DRB114:54 not found\n",
      "MhcAllele.name_to_mhc_allele: MHC name HLA-DRB114:54 not found\n",
      "MhcAllele.name_to_mhc_allele: MHC name HLA-DQA101:01-DQB105:03 not found\n",
      "MhcAllele.name_to_mhc_allele: MHC name HLA-DQA101:01-DQB105:03 not found\n",
      "MhcAllele.name_to_mhc_allele: MHC name HLA-DQA101:01-DQB103:01 not found\n",
      "MhcAllele.name_to_mhc_allele: MHC name HLA-DQA101:01-DQB103:01 not found\n",
      "MhcAllele.name_to_mhc_allele: MHC name HLA-DQA105:05-DQB105:03 not found\n",
      "MhcAllele.name_to_mhc_allele: MHC name HLA-DRB113:03 not found\n",
      "MhcAllele.name_to_mhc_allele: MHC name HLA-DRB113:03 not found\n",
      "MhcAllele.name_to_mhc_allele: MHC name HLA-DRB113:03 not found\n",
      "MhcAllele.name_to_mhc_allele: MHC name HLA-DRB108:01 not found\n",
      "MhcAllele.name_to_mhc_allele: MHC name HLA-DQA104:01-DQB103:01 not found\n",
      "MhcAllele.name_to_mhc_allele: MHC name HLA-DQA104:01-DQB104:02 not found\n",
      "MhcAllele.name_to_mhc_allele: MHC name HLA-DQA105:05-DQB104:02 not found\n",
      "MhcAllele.name_to_mhc_allele: MHC name HLA-DRB114:01 not found\n",
      "MhcAllele.name_to_mhc_allele: MHC name HLA-DRB113:02 not found\n",
      "MhcAllele.name_to_mhc_allele: MHC name HLA-DRB303:01 not found\n",
      "MhcAllele.name_to_mhc_allele: MHC name HLA-DQA101:02-DQB106:04 not found\n",
      "MhcAllele.name_to_mhc_allele: MHC name HLA-DQA101:02-DQB103:03 not found\n",
      "MhcAllele.name_to_mhc_allele: MHC name HLA-DQA102:01-DQB106:04 not found\n",
      "MhcAllele.name_to_mhc_allele: MHC name HLA-DQA102:01-DQB103:03 not found\n",
      "MhcAllele.name_to_mhc_allele: MHC name HLA-DRB101:01 not found\n",
      "MhcAllele.name_to_mhc_allele: MHC name HLA-DRB101:01 not found\n",
      "MhcAllele.name_to_mhc_allele: MHC name HLA-DRB112:01 not found\n",
      "MhcAllele.name_to_mhc_allele: MHC name HLA-DPA101:03-DPB102:01 not found\n",
      "MhcAllele.name_to_mhc_allele: MHC name HLA-DPA101:03-DPB102:01 not found\n",
      "MhcAllele.name_to_mhc_allele: MHC name HLA-DPA101:03-DPB102:01 not found\n",
      "MhcAllele.name_to_mhc_allele: MHC name HLA-DPA101:03-DPB102:01 not found\n",
      "MhcAllele.name_to_mhc_allele: MHC name HLA-DPA101:03-DPB102:01 not found\n",
      "MhcAllele.name_to_mhc_allele: MHC name HLA-DPA101:03-DPB102:01 not found\n",
      "MhcAllele.name_to_mhc_allele: MHC name HLA-DPA101:03-DPB102:01 not found\n",
      "MhcAllele.name_to_mhc_allele: MHC name HLA-DPA101:03-DPB102:01 not found\n",
      "MhcAllele.name_to_mhc_allele: MHC name HLA-DPA101:03-DPB109:01 not found\n",
      "MhcAllele.name_to_mhc_allele: MHC name HLA-DPA101:03-DPB109:01 not found\n",
      "MhcAllele.name_to_mhc_allele: MHC name HLA-DPA102:01-DPB102:01 not found\n",
      "MhcAllele.name_to_mhc_allele: MHC name HLA-DPA102:01-DPB102:01 not found\n",
      "MhcAllele.name_to_mhc_allele: MHC name HLA-DPA102:01-DPB102:01 not found\n",
      "MhcAllele.name_to_mhc_allele: MHC name HLA-DPA102:01-DPB102:01 not found\n",
      "MhcAllele.name_to_mhc_allele: MHC name HLA-DPA102:01-DPB109:01 not found\n",
      "MhcAllele.name_to_mhc_allele: MHC name HLA-DPA102:01-DPB109:01 not found\n",
      "MhcAllele.name_to_mhc_allele: MHC name HLA-DQA101:01-DQB105:01 not found\n",
      "MhcAllele.name_to_mhc_allele: MHC name HLA-DQA101:01-DQB105:01 not found\n",
      "MhcAllele.name_to_mhc_allele: MHC name HLA-DQA101:01-DQB105:01 not found\n",
      "MhcAllele.name_to_mhc_allele: MHC name HLA-DQA105:05-DQB105:01 not found\n"
     ]
    },
    {
     "name": "stderr",
     "output_type": "stream",
     "text": [
      "MhcAllele.name_to_mhc_allele: MHC name HLA-DRB115:01 not found\n",
      "MhcAllele.name_to_mhc_allele: MHC name HLA-DRB115:01 not found\n",
      "MhcAllele.name_to_mhc_allele: MHC name HLA-DRB115:01 not found\n",
      "MhcAllele.name_to_mhc_allele: MHC name HLA-DRB115:01 not found\n",
      "MhcAllele.name_to_mhc_allele: MHC name HLA-DRB115:01 not found\n",
      "MhcAllele.name_to_mhc_allele: MHC name HLA-DRB115:01 not found\n",
      "MhcAllele.name_to_mhc_allele: MHC name HLA-DRB110:01 not found\n",
      "MhcAllele.name_to_mhc_allele: MHC name HLA-DRB110:01 not found\n",
      "MhcAllele.name_to_mhc_allele: MHC name HLA-DRB501:01 not found\n",
      "MhcAllele.name_to_mhc_allele: MHC name HLA-DRB501:01 not found\n",
      "MhcAllele.name_to_mhc_allele: MHC name HLA-DRB501:01 not found\n",
      "MhcAllele.name_to_mhc_allele: MHC name HLA-DRB501:01 not found\n",
      "MhcAllele.name_to_mhc_allele: MHC name HLA-DRB501:01 not found\n",
      "MhcAllele.name_to_mhc_allele: MHC name HLA-DRB501:01 not found\n",
      "MhcAllele.name_to_mhc_allele: MHC name HLA-DQA101:02-DQB106:02 not found\n",
      "MhcAllele.name_to_mhc_allele: MHC name HLA-DQA101:02-DQB106:02 not found\n",
      "MhcAllele.name_to_mhc_allele: MHC name HLA-DQA101:02-DQB106:02 not found\n",
      "MhcAllele.name_to_mhc_allele: MHC name HLA-DQA101:02-DQB106:02 not found\n",
      "MhcAllele.name_to_mhc_allele: MHC name HLA-DQA101:02-DQB106:02 not found\n",
      "MhcAllele.name_to_mhc_allele: MHC name HLA-DQA101:02-DQB106:02 not found\n",
      "MhcAllele.name_to_mhc_allele: MHC name HLA-DQA101:02-DQB105:01 not found\n",
      "MhcAllele.name_to_mhc_allele: MHC name HLA-DQA101:02-DQB105:01 not found\n",
      "MhcAllele.name_to_mhc_allele: MHC name HLA-DQA101:02-DQB105:01 not found\n",
      "MhcAllele.name_to_mhc_allele: MHC name HLA-DQA101:01-DQB106:02 not found\n",
      "MhcAllele.name_to_mhc_allele: MHC name HLA-DQA101:01-DQB106:02 not found\n",
      "MhcAllele.name_to_mhc_allele: MHC name HLA-DQA101:01-DQB106:02 not found\n",
      "MhcAllele.name_to_mhc_allele: MHC name HLA-DQA103:02-DQB103:02 not found\n",
      "MhcAllele.name_to_mhc_allele: MHC name HLA-DQA105:05-DQB103:02 not found\n",
      "MhcAllele.name_to_mhc_allele: MHC name HLA-DRB103:01 not found\n",
      "MhcAllele.name_to_mhc_allele: MHC name HLA-DRB103:01 not found\n",
      "MhcAllele.name_to_mhc_allele: MHC name HLA-DPA101:03-DPB101:01 not found\n",
      "MhcAllele.name_to_mhc_allele: MHC name HLA-DPA102:01-DPB103:01 not found\n",
      "MhcAllele.name_to_mhc_allele: MHC name HLA-DPA102:01-DPB101:01 not found\n",
      "MhcAllele.name_to_mhc_allele: MHC name HLA-DQA105:01-DQB103:01 not found\n",
      "MhcAllele.name_to_mhc_allele: MHC name HLA-DQA105:01-DQB102:01 not found\n",
      "MhcAllele.name_to_mhc_allele: MHC name HLA-DQA105:01-DQB102:01 not found\n",
      "MhcAllele.name_to_mhc_allele: MHC name HLA-DRB104:05 not found\n",
      "MhcAllele.name_to_mhc_allele: MHC name HLA-DRB104:05 not found\n",
      "MhcAllele.name_to_mhc_allele: MHC name HLA-DRB104:05 not found\n",
      "MhcAllele.name_to_mhc_allele: MHC name HLA-DQA103:02-DQB102:01 not found\n",
      "MhcAllele.name_to_mhc_allele: MHC name HLA-DQA103:02-DQB102:02 not found\n",
      "MhcAllele.name_to_mhc_allele: MHC name HLA-DQA105:01-DQB102:02 not found\n",
      "MhcAllele.name_to_mhc_allele: MHC name HLA-DQA101:02-DQB105:03 not found\n",
      "MhcAllele.name_to_mhc_allele: MHC name HLA-DPA101:03-DPB114:01 not found\n",
      "MhcAllele.name_to_mhc_allele: MHC name HLA-DPA102:01-DPB104:01 not found\n",
      "MhcAllele.name_to_mhc_allele: MHC name HLA-DPA102:01-DPB114:01 not found\n",
      "MhcAllele.name_to_mhc_allele: MHC name HLA-DQA101:02-DQB102:02 not found\n",
      "MhcAllele.name_to_mhc_allele: MHC name HLA-DQA103:03-DQB102:02 not found\n",
      "MhcAllele.name_to_mhc_allele: MHC name HLA-DQA103:03-DQB106:02 not found\n",
      "MhcAllele.name_to_mhc_allele: MHC name HLA-DQA103:03-DQB106:02 not found\n",
      "MhcAllele.name_to_mhc_allele: MHC name HLA-DQA101:02-DQB103:01 not found\n",
      "MhcAllele.name_to_mhc_allele: MHC name HLA-DQA105:05-DQB106:02 not found\n",
      "MhcAllele.name_to_mhc_allele: MHC name HLA-DQA101:02-DQB103:02 not found\n",
      "MhcAllele.name_to_mhc_allele: MHC name HLA-DQA103:03-DQB103:02 not found\n",
      "MhcAllele.name_to_mhc_allele: MHC name HLA-DPA101:03-DPB1104:01 not found\n",
      "MhcAllele.name_to_mhc_allele: MHC name HLA-DPA101:03-DPB1104:01 not found\n",
      "MhcAllele.name_to_mhc_allele: MHC name HLA-DRB116:01 not found\n",
      "MhcAllele.name_to_mhc_allele: MHC name HLA-DRB502:02 not found\n",
      "MhcAllele.name_to_mhc_allele: MHC name HLA-DQA101:05-DQB105:01 not found\n",
      "MhcAllele.name_to_mhc_allele: MHC name HLA-DQA101:05-DQB105:02 not found\n",
      "MhcAllele.name_to_mhc_allele: MHC name HLA-DQA101:02-DQB105:02 not found\n",
      "MhcAllele.name_to_mhc_allele: MHC name HLA-DPA101:03-DPB117:01 not found\n",
      "MhcAllele.name_to_mhc_allele: MHC name HLA-DPA102:01-DPB117:01 not found\n",
      "MhcAllele.name_to_mhc_allele: MHC name HLA-DRB104:04 not found\n",
      "MhcAllele.name_to_mhc_allele: MHC name HLA-DRB111:08 not found\n",
      "load Atlas donors: 303it [00:00, 3461.86it/s]\n"
     ]
    },
    {
     "name": "stdout",
     "output_type": "stream",
     "text": [
      "AtlasDatasource: from_data\n"
     ]
    },
    {
     "name": "stderr",
     "output_type": "stream",
     "text": [
      "100%|█████████████████████████████████████████████████████████████████████████████| 198/198 [00:00<00:00, 83447.77it/s]\n",
      "load Atlas protein map: 286540it [00:16, 16934.13it/s]\n",
      "100%|███████████████████████████████████████████████████████████████████████| 409503/409503 [00:05<00:00, 78679.67it/s]\n",
      "find flanks: 100%|██████████████████████████████████████████████████████████| 429339/429339 [00:08<00:00, 51866.07it/s]\n",
      "Global seed set to 42\n"
     ]
    }
   ],
   "source": [
    "from_data()"
   ]
  },
  {
   "cell_type": "code",
   "execution_count": null,
   "id": "1db978ab",
   "metadata": {},
   "outputs": [],
   "source": [
    "for obs in Observation.observations:\n",
    "    if len(obs.peptide.proteins) == 0:\n",
    "        print(obs.peptide.seq)"
   ]
  },
  {
   "cell_type": "code",
   "execution_count": 11,
   "id": "fd882b9b",
   "metadata": {},
   "outputs": [
    {
     "data": {
      "text/plain": [
       "1959736"
      ]
     },
     "execution_count": 11,
     "metadata": {},
     "output_type": "execute_result"
    }
   ],
   "source": [
    "cnt = 0\n",
    "for obs in Observation.observations:\n",
    "    if len(obs.peptide.seq) > 6:\n",
    "        cnt += 1\n",
    "cnt"
   ]
  },
  {
   "cell_type": "markdown",
   "id": "d55e787b",
   "metadata": {},
   "source": [
    "# write data to the input files for the model"
   ]
  },
  {
   "cell_type": "code",
   "execution_count": 6,
   "id": "5d9e2ace",
   "metadata": {},
   "outputs": [
    {
     "name": "stdout",
     "output_type": "stream",
     "text": [
      "MhcAllele.to_input\n",
      "Protein.to_input\n",
      "Sample.to_input\n",
      "Peptide.to_input\n",
      "Observation.to_input\n"
     ]
    }
   ],
   "source": [
    "to_input()"
   ]
  },
  {
   "cell_type": "markdown",
   "id": "dbb5d95d",
   "metadata": {},
   "source": [
    "# save TAPE pretrained weights"
   ]
  },
  {
   "cell_type": "code",
   "execution_count": null,
   "id": "ea821cb6",
   "metadata": {},
   "outputs": [],
   "source": [
    "backbone = TAPEBackbone.from_pretrained('bert-base')\n",
    "backbone.save_pretrained(f\"{PROJECT_FOLDER}{SEP}tape_pretrained{SEP}\")"
   ]
  }
 ],
 "metadata": {
  "kernelspec": {
   "display_name": "Python 3",
   "language": "python",
   "name": "python3"
  },
  "language_info": {
   "codemirror_mode": {
    "name": "ipython",
    "version": 3
   },
   "file_extension": ".py",
   "mimetype": "text/x-python",
   "name": "python",
   "nbconvert_exporter": "python",
   "pygments_lexer": "ipython3",
   "version": "3.8.10"
  },
  "toc": {
   "base_numbering": 1,
   "nav_menu": {},
   "number_sections": true,
   "sideBar": true,
   "skip_h1_title": false,
   "title_cell": "Table of Contents",
   "title_sidebar": "Contents",
   "toc_cell": true,
   "toc_position": {},
   "toc_section_display": true,
   "toc_window_display": true
  }
 },
 "nbformat": 4,
 "nbformat_minor": 5
}
