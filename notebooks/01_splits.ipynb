{
 "cells": [
  {
   "cell_type": "markdown",
   "id": "8fd68441",
   "metadata": {
    "toc": true
   },
   "source": [
    "<h1>Table of Contents<span class=\"tocSkip\"></span></h1>\n",
    "<div class=\"toc\"><ul class=\"toc-item\"><li><span><a href=\"#load-input-data\" data-toc-modified-id=\"load-input-data-1\"><span class=\"toc-item-num\">1&nbsp;&nbsp;</span>load input data</a></span></li><li><span><a href=\"#set-data-splits\" data-toc-modified-id=\"set-data-splits-2\"><span class=\"toc-item-num\">2&nbsp;&nbsp;</span>set data splits</a></span><ul class=\"toc-item\"><li><span><a href=\"#MHC-dimension\" data-toc-modified-id=\"MHC-dimension-2.1\"><span class=\"toc-item-num\">2.1&nbsp;&nbsp;</span>MHC dimension</a></span></li><li><span><a href=\"#Protein-dimension\" data-toc-modified-id=\"Protein-dimension-2.2\"><span class=\"toc-item-num\">2.2&nbsp;&nbsp;</span>Protein dimension</a></span></li></ul></li></ul></div>"
   ]
  },
  {
   "cell_type": "code",
   "execution_count": 1,
   "id": "506055ab",
   "metadata": {},
   "outputs": [],
   "source": [
    "import numpy as np\n",
    "import pandas as pd\n",
    "import pdb\n",
    "from argparse import ArgumentParser\n",
    "import shlex\n",
    "from tqdm import tqdm\n",
    "\n",
    "from pytorch_lightning import Trainer\n",
    "from pytorch_lightning.callbacks import ModelCheckpoint\n",
    "\n",
    "import pMHC\n",
    "from pMHC import OUTPUT_FOLDER, SEP, \\\n",
    "    SPLITS, SPLIT_TRAIN, SPLIT_VAL, SPLIT_TEST, \\\n",
    "    VIEWS, VIEW_SA, VIEW_SAMA, VIEW_DECONV, \\\n",
    "    INPUT_PEPTIDE, INPUT_CONTEXT\n",
    "from pMHC.logic import PresentationPredictor\n",
    "from pMHC.data import from_input\n",
    "from pMHC.data.example import Sample, Observation, MhcAllele\n",
    "\n",
    "tqdm.pandas()"
   ]
  },
  {
   "cell_type": "code",
   "execution_count": 2,
   "id": "bf84054e",
   "metadata": {},
   "outputs": [],
   "source": [
    "import networkx as nx\n",
    "from pMHC.data.example import Sample, Observation, MhcAllele\n",
    "from pMHC.data.split import overview_split, \\\n",
    "    find_connected_mhc_alleles, suggest_split_mhc_alleles, save_split_mhc_alleles, load_split_mhc_alleles, \\\n",
    "    find_split_proteins, load_split_proteins"
   ]
  },
  {
   "cell_type": "code",
   "execution_count": 3,
   "id": "d2064d5c",
   "metadata": {},
   "outputs": [
    {
     "name": "stdout",
     "output_type": "stream",
     "text": [
      "Update project folder to: C:\\Users\\tux\\Documents\\MScProject\n",
      "Load permutation\n"
     ]
    }
   ],
   "source": [
    "pMHC.set_paths(r\"C:\\Users\\tux\\Documents\\MScProject\")"
   ]
  },
  {
   "cell_type": "code",
   "execution_count": 4,
   "id": "0fe620af",
   "metadata": {},
   "outputs": [
    {
     "name": "stderr",
     "output_type": "stream",
     "text": [
      "GPU available: True, used: False\n",
      "TPU available: False, using: 0 TPU cores\n"
     ]
    },
    {
     "name": "stdout",
     "output_type": "stream",
     "text": [
      "Namespace(accelerator=None, accumulate_grad_batches=1, amp_backend='native', amp_level='O2', auto_lr_find=False, auto_scale_batch_size=False, auto_select_gpus=False, backbone='TAPE', batch_size=8, benchmark=False, check_val_every_n_epoch=1, checkpoint_callback=True, datasources='Edi;Atlas', decoys_per_obs=1, default_root_dir='\\\\', deterministic=False, distributed_backend=None, fast_dev_run=False, flush_logs_every_n_steps=100, gpus=0, gradient_clip_algorithm='norm', gradient_clip_val=0.0, head='Cls', head_hidden_features=512, input_mode='CONTEXT', learning_rate=1e-05, limit_predict_batches=1.0, limit_test_batches=1.0, limit_train_batches=1.0, limit_val_batches=1.0, log_every_n_steps=50, log_gpu_memory=None, logger=True, max_epochs=None, max_seq_length=260, max_steps=None, max_time=None, mhc_rep='FULL', min_epochs=None, min_steps=None, move_metrics_to_cpu=False, multiple_trainloader_mode='max_size_cycle', name='model', num_nodes=1, num_processes=1, num_sanity_val_steps=2, num_workers=0, only_deconvolute=False, output_attentions=False, overfit_batches=0.0, plugins=None, precision=32, prepare_data_per_node=True, process_position=0, profiler=None, progress_bar_refresh_rate=None, proportion=1.0, reload_dataloaders_every_epoch=False, replace_sampler_ddp=True, resume_from_checkpoint=None, seed=42, shuffle_data=False, stochastic_weight_avg=False, sync_batchnorm=False, terminate_on_nan=False, tokenizer='Standard', tpu_cores=None, track_grad_norm=-1, truncated_bptt_steps=None, val_check_interval=1.0, version='version', weights_save_path=None, weights_summary='top')\n"
     ]
    },
    {
     "name": "stderr",
     "output_type": "stream",
     "text": [
      "C:\\Users\\tux\\Anaconda3\\envs\\MScProject\\lib\\site-packages\\pytorch_lightning\\trainer\\connectors\\accelerator_connector.py:596: UserWarning: GPU available but not used. Set the gpus flag in your trainer `Trainer(gpus=1)` or script `--gpus=1`.\n",
      "  rank_zero_warn(\n",
      "Global seed set to 42\n"
     ]
    }
   ],
   "source": [
    "parser = ArgumentParser()\n",
    "parser = PresentationPredictor.add_argparse_args(parser)\n",
    "parser = Trainer.add_argparse_args(parser)\n",
    "\n",
    "argString = f\"--gpus 0 --num_workers 0 \"\n",
    "argString += f\"--precision 32 --datasources 'Edi;Atlas' \"\n",
    "argString += f\"--default_root_dir '{OUTPUT_FOLDER}{SEP}' \"\n",
    "argString += f\"--batch_size 8 --learning_rate 0.00001 \"\n",
    "argString += f\"--input_mode CONTEXT --mhc_rep FULL \"\n",
    "args = parser.parse_args(shlex.split(argString))\n",
    "\n",
    "print(args)\n",
    "\n",
    "trainer = Trainer.from_argparse_args(args, checkpoint_callback=False, logger=False)\n",
    "args_dict = vars(args)\n",
    "model = PresentationPredictor(**args_dict)"
   ]
  },
  {
   "cell_type": "markdown",
   "id": "cd7214b1",
   "metadata": {},
   "source": [
    "# load input data"
   ]
  },
  {
   "cell_type": "code",
   "execution_count": 5,
   "id": "a03a1018",
   "metadata": {},
   "outputs": [
    {
     "name": "stdout",
     "output_type": "stream",
     "text": [
      "MhcAllele.from_input\n"
     ]
    },
    {
     "name": "stderr",
     "output_type": "stream",
     "text": [
      "MhcAlleles from input: 11074it [00:01, 10599.69it/s]\n"
     ]
    },
    {
     "name": "stdout",
     "output_type": "stream",
     "text": [
      "Protein.from_input\n"
     ]
    },
    {
     "name": "stderr",
     "output_type": "stream",
     "text": [
      "Proteins from input: 185930it [00:16, 11031.29it/s]\n"
     ]
    },
    {
     "name": "stdout",
     "output_type": "stream",
     "text": [
      "Sample.from_input\n"
     ]
    },
    {
     "name": "stderr",
     "output_type": "stream",
     "text": [
      "Samples from input: 472it [00:00, 9142.35it/s]\n"
     ]
    },
    {
     "name": "stdout",
     "output_type": "stream",
     "text": [
      "Peptide.from_input\n"
     ]
    },
    {
     "name": "stderr",
     "output_type": "stream",
     "text": [
      "Peptides from input: 429339it [00:39, 10780.40it/s]\n"
     ]
    },
    {
     "name": "stdout",
     "output_type": "stream",
     "text": [
      "Observation.from_input\n"
     ]
    },
    {
     "name": "stderr",
     "output_type": "stream",
     "text": [
      "Observations from input: 1959736it [03:09, 10351.38it/s]\n"
     ]
    }
   ],
   "source": [
    "from_input()"
   ]
  },
  {
   "cell_type": "markdown",
   "id": "cf185bee",
   "metadata": {},
   "source": [
    "# set data splits"
   ]
  },
  {
   "cell_type": "code",
   "execution_count": 6,
   "id": "69a7f93a",
   "metadata": {},
   "outputs": [
    {
     "name": "stdout",
     "output_type": "stream",
     "text": [
      "\n",
      "\n",
      "ABSOLUTE\n",
      "                             train        val       test   val-prot  test-prot    val-mhc   test-mhc \n",
      "Observations in splits:  1,959,736          0          0          0          0          0          0 \n",
      "                    SA:    293,334          0          0          0          0          0          0 \n",
      "                    MA:  1,666,402          0          0          0          0          0          0 \n",
      "\n",
      "\n",
      "RELATIVE\n",
      "                             train        val       test   val-prot  test-prot    val-mhc   test-mhc \n",
      "Observations in splits:     100.0%       0.0%       0.0%       0.0%       0.0%       0.0%       0.0% \n",
      "                    SA:      15.0%       0.0%       0.0%       0.0%       0.0%       0.0%       0.0% \n",
      "                    MA:      85.0%       0.0%       0.0%       0.0%       0.0%       0.0%       0.0% \n"
     ]
    }
   ],
   "source": [
    "overview_split()"
   ]
  },
  {
   "cell_type": "markdown",
   "id": "8babb3af",
   "metadata": {},
   "source": [
    "## MHC dimension"
   ]
  },
  {
   "cell_type": "code",
   "execution_count": 6,
   "id": "3aca989a",
   "metadata": {},
   "outputs": [
    {
     "name": "stderr",
     "output_type": "stream",
     "text": [
      "Global seed set to 42\n"
     ]
    },
    {
     "name": "stdout",
     "output_type": "stream",
     "text": [
      "group name:    samples    observations\n",
      "HLA-A01   :         99         359,049\n",
      "HLA-A02   :        156         505,417\n",
      "HLA-A03   :         92         644,773\n",
      "HLA-A11   :         80         200,286\n",
      "HLA-A23   :         25          73,141\n",
      "HLA-A24   :         60         299,863\n",
      "HLA-A25   :          3          14,163\n",
      "HLA-A26   :          9          16,779\n",
      "HLA-A29   :         24         244,649\n",
      "HLA-A30   :         16          22,321\n",
      "HLA-A31   :         18         199,800\n",
      "HLA-A32   :         39         272,779\n",
      "HLA-A33   :          2           8,015\n",
      "HLA-A34   :          2           7,749\n",
      "HLA-A36   :          1           3,960\n",
      "HLA-A66   :          1           2,532\n",
      "HLA-A68   :         75         246,119\n",
      "HLA-A69   :         22          50,198\n",
      "HLA-A74   :          1           3,543\n",
      "HLA-B07   :         66         378,396\n",
      "HLA-B08   :         37         128,339\n",
      "HLA-B13   :         18          42,331\n",
      "HLA-B14   :         47         219,850\n",
      "HLA-B15   :         75         228,832\n",
      "HLA-B18   :         25         177,056\n",
      "HLA-B27   :         54         285,520\n",
      "HLA-B35   :        108         572,469\n",
      "HLA-B37   :         30          74,723\n",
      "HLA-B38   :          5          45,822\n",
      "HLA-B39   :          6          60,623\n",
      "HLA-B40   :         43         156,648\n",
      "HLA-B41   :          2          12,971\n",
      "HLA-B42   :          1           4,077\n",
      "HLA-B44   :         83         398,328\n",
      "HLA-B45   :         17          30,927\n",
      "HLA-B46   :          1           1,203\n",
      "HLA-B47   :          6           3,720\n",
      "HLA-B49   :         30          78,815\n",
      "HLA-B50   :         17          64,006\n",
      "HLA-B51   :          9          29,332\n",
      "HLA-B52   :          1           1,585\n",
      "HLA-B53   :          1           2,883\n",
      "HLA-B54   :          1           1,622\n",
      "HLA-B55   :          7          29,812\n",
      "HLA-B56   :          1           1,780\n",
      "HLA-B57   :          8          24,397\n",
      "HLA-B58   :         24          40,795\n",
      "HLA-C01   :         10          36,665\n",
      "HLA-C02   :         73         322,819\n",
      "HLA-C03   :         96         392,462\n",
      "HLA-C04   :        114         566,983\n",
      "HLA-C05   :         37         416,633\n",
      "HLA-C06   :         75         199,060\n",
      "HLA-C07   :        173         614,980\n",
      "HLA-C08   :         48         223,603\n",
      "HLA-C12   :          9          77,625\n",
      "HLA-C14   :          7          34,824\n",
      "HLA-C15   :          5          17,682\n",
      "HLA-C16   :         25          58,074\n",
      "HLA-C17   :          4          18,124\n",
      "\n",
      "\n",
      "\n",
      "Suggested Test MHCs: ['HLA-C17', 'HLA-C01', 'HLA-C15', 'HLA-B58', 'HLA-B37']\n",
      "Suggested Val MHCs:  ['HLA-B51', 'HLA-B53', 'HLA-B39', 'HLA-B47', 'HLA-B08']\n"
     ]
    }
   ],
   "source": [
    "suggest_split_mhc_alleles()"
   ]
  },
  {
   "cell_type": "code",
   "execution_count": 7,
   "id": "b799f336",
   "metadata": {},
   "outputs": [],
   "source": [
    "## direct suggestions\n",
    "test_mhc_allele_groups = ['HLA-C17', 'HLA-C01', 'HLA-C15', 'HLA-B58', 'HLA-B37']\n",
    "val_mhc_allele_groups = ['HLA-B51', 'HLA-B53', 'HLA-B39', 'HLA-B47', 'HLA-B08']\n",
    "\n",
    "## add mhc alleles that are not connected with any other (insular)\n",
    "test_mhc_allele_groups += ['HLA-A33', 'HLA-A36', 'HLA-A74', 'HLA-B46', 'HLA-B54']\n",
    "val_mhc_allele_groups += ['HLA-A34', 'HLA-A66', 'HLA-B42', 'HLA-B52', 'HLA-B56']\n",
    "\n",
    "save_split_mhc_alleles(test_mhc_allele_groups, val_mhc_allele_groups)"
   ]
  },
  {
   "cell_type": "code",
   "execution_count": 8,
   "id": "56b6bfc9",
   "metadata": {},
   "outputs": [],
   "source": [
    "load_split_mhc_alleles()"
   ]
  },
  {
   "cell_type": "code",
   "execution_count": 9,
   "id": "3867be90",
   "metadata": {},
   "outputs": [
    {
     "name": "stdout",
     "output_type": "stream",
     "text": [
      "\n",
      "\n",
      "ABSOLUTE\n",
      "                             train        val       test   val-prot  test-prot    val-mhc   test-mhc \n",
      "Observations in splits:  1,549,098    204,306    206,332          0          0    204,306    206,332 \n",
      "                    SA:    226,796     23,771     42,767          0          0     23,771     42,767 \n",
      "                    MA:  1,322,302    180,535    163,565          0          0    180,535    163,565 \n",
      "\n",
      "\n",
      "RELATIVE\n",
      "                             train        val       test   val-prot  test-prot    val-mhc   test-mhc \n",
      "Observations in splits:      79.0%      10.4%      10.5%       0.0%       0.0%      10.4%      10.5% \n",
      "                    SA:      11.6%       1.2%       2.2%       0.0%       0.0%       1.2%       2.2% \n",
      "                    MA:      67.5%       9.2%       8.3%       0.0%       0.0%       9.2%       8.3% \n"
     ]
    }
   ],
   "source": [
    "overview_split()"
   ]
  },
  {
   "cell_type": "markdown",
   "id": "62bda385",
   "metadata": {},
   "source": [
    "## Protein dimension"
   ]
  },
  {
   "cell_type": "code",
   "execution_count": 10,
   "id": "d7635baf",
   "metadata": {},
   "outputs": [
    {
     "name": "stderr",
     "output_type": "stream",
     "text": [
      "100%|█████████████████████████████████████████████████████████████████████████| 47699/47699 [00:01<00:00, 26638.14it/s]\n",
      "C:\\Users\\tux\\Anaconda3\\envs\\MSc\\lib\\site-packages\\IPython\\core\\interactiveshell.py:3437: DtypeWarning: Columns (2,5,13) have mixed types.Specify dtype option on import or set low_memory=False.\n",
      "  exec(code_obj, self.user_global_ns, self.user_ns)\n",
      "100%|███████████████████████████████████████████████████████████████████████| 196110/196110 [00:02<00:00, 80687.05it/s]\n",
      "77027it [00:01, 75506.38it/s]\n",
      "100%|█████████████████████████████████████████████████████████████████████████| 67135/67135 [00:00<00:00, 85929.81it/s]\n",
      "108903it [00:02, 46735.54it/s]\n",
      "100%|█████████████████████████████████████████████████████████████████████| 5263223/5263223 [01:35<00:00, 54946.27it/s]\n",
      "Global seed set to 42\n"
     ]
    }
   ],
   "source": [
    "find_split_proteins()"
   ]
  },
  {
   "cell_type": "code",
   "execution_count": 11,
   "id": "a4b39e0d",
   "metadata": {},
   "outputs": [],
   "source": [
    "load_split_proteins()"
   ]
  },
  {
   "cell_type": "code",
   "execution_count": 12,
   "id": "d60ba1a5",
   "metadata": {},
   "outputs": [
    {
     "name": "stdout",
     "output_type": "stream",
     "text": [
      "\n",
      "\n",
      "ABSOLUTE\n",
      "                             train        val       test   val-prot  test-prot    val-mhc   test-mhc \n",
      "Observations in splits:  1,407,876    274,378    277,482     70,072     71,150    204,306    206,332 \n",
      "                    SA:    205,591     33,920     53,823     10,149     11,056     23,771     42,767 \n",
      "                    MA:  1,202,285    240,458    223,659     59,923     60,094    180,535    163,565 \n",
      "\n",
      "\n",
      "RELATIVE\n",
      "                             train        val       test   val-prot  test-prot    val-mhc   test-mhc \n",
      "Observations in splits:      71.8%      14.0%      14.2%       3.6%       3.6%      10.4%      10.5% \n",
      "                    SA:      10.5%       1.7%       2.7%       0.5%       0.6%       1.2%       2.2% \n",
      "                    MA:      61.3%      12.3%      11.4%       3.1%       3.1%       9.2%       8.3% \n"
     ]
    }
   ],
   "source": [
    "overview_split()"
   ]
  }
 ],
 "metadata": {
  "kernelspec": {
   "display_name": "Python 3",
   "language": "python",
   "name": "python3"
  },
  "language_info": {
   "codemirror_mode": {
    "name": "ipython",
    "version": 3
   },
   "file_extension": ".py",
   "mimetype": "text/x-python",
   "name": "python",
   "nbconvert_exporter": "python",
   "pygments_lexer": "ipython3",
   "version": "3.8.10"
  },
  "toc": {
   "base_numbering": 1,
   "nav_menu": {},
   "number_sections": true,
   "sideBar": true,
   "skip_h1_title": false,
   "title_cell": "Table of Contents",
   "title_sidebar": "Contents",
   "toc_cell": true,
   "toc_position": {},
   "toc_section_display": true,
   "toc_window_display": true
  }
 },
 "nbformat": 4,
 "nbformat_minor": 5
}
