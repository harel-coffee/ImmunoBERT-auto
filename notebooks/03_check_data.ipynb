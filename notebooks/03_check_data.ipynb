{
 "cells": [
  {
   "cell_type": "markdown",
   "id": "b01161b0",
   "metadata": {
    "toc": true
   },
   "source": [
    "<h1>Table of Contents<span class=\"tocSkip\"></span></h1>\n",
    "<div class=\"toc\"><ul class=\"toc-item\"><li><span><a href=\"#Check-mhc-split\" data-toc-modified-id=\"Check-mhc-split-1\"><span class=\"toc-item-num\">1&nbsp;&nbsp;</span>Check mhc split</a></span><ul class=\"toc-item\"><li><span><a href=\"#Check-training-set\" data-toc-modified-id=\"Check-training-set-1.1\"><span class=\"toc-item-num\">1.1&nbsp;&nbsp;</span>Check training set</a></span></li><li><span><a href=\"#Check--validation-set\" data-toc-modified-id=\"Check--validation-set-1.2\"><span class=\"toc-item-num\">1.2&nbsp;&nbsp;</span>Check  validation set</a></span></li></ul></li><li><span><a href=\"#Check-protein-split\" data-toc-modified-id=\"Check-protein-split-2\"><span class=\"toc-item-num\">2&nbsp;&nbsp;</span>Check protein split</a></span></li></ul></div>"
   ]
  },
  {
   "cell_type": "code",
   "execution_count": 21,
   "id": "bcdaf7d7",
   "metadata": {},
   "outputs": [],
   "source": [
    "import numpy as np\n",
    "import pandas as pd\n",
    "import pdb\n",
    "from argparse import ArgumentParser\n",
    "import shlex\n",
    "from tqdm import tqdm\n",
    "\n",
    "from pytorch_lightning import Trainer\n",
    "from pytorch_lightning.callbacks import ModelCheckpoint\n",
    "\n",
    "import pMHC\n",
    "from pMHC import SEP, \\\n",
    "    SPLITS, SPLIT_TRAIN, SPLIT_VAL, SPLIT_TEST, SPLIT_VAL_PROTEINS, SPLIT_TEST_PROTEINS, \\\n",
    "    VIEWS, VIEW_SA, VIEW_SAMA, VIEW_DECONV, \\\n",
    "    INPUT_PEPTIDE, INPUT_CONTEXT\n",
    "from pMHC.logic import PresentationPredictor\n",
    "from pMHC.data import from_data, to_input\n",
    "from pMHC.data.example import Observation\n",
    "from pMHC.data.mhc_allele import MhcAllele\n",
    "\n",
    "tqdm.pandas()"
   ]
  },
  {
   "cell_type": "code",
   "execution_count": 2,
   "id": "f56ce118",
   "metadata": {},
   "outputs": [
    {
     "name": "stdout",
     "output_type": "stream",
     "text": [
      "Update project folder to: C:\\Users\\tux\\Documents\\project_v2\n",
      "Load permutation\n"
     ]
    }
   ],
   "source": [
    "pMHC.set_paths(r\"C:\\Users\\tux\\Documents\\MScProject\")"
   ]
  },
  {
   "cell_type": "code",
   "execution_count": 3,
   "id": "16352a3a",
   "metadata": {},
   "outputs": [
    {
     "name": "stderr",
     "output_type": "stream",
     "text": [
      "Global seed set to 42\n"
     ]
    },
    {
     "name": "stdout",
     "output_type": "stream",
     "text": [
      "{'name': 'model', 'version': 'version', 'backbone': 'TAPE', 'head': 'Attn', 'head_hidden_features': 512, 'tokenizer': 'Standard', 'input_mode': 'CONTEXT', 'mhc_rep': 'PSEUDO', 'max_seq_length': 80, 'datasources': 'Edi;Atlas', 'decoys_per_obs': 99, 'proportion': 0.1, 'shuffle_data': False, 'seed': 42, 'batch_size': 32, 'learning_rate': 1e-05, 'num_workers': 0, 'output_attentions': False, 'logger': True, 'checkpoint_callback': True, 'default_root_dir': 'C:\\\\Users\\\\tux\\\\Documents\\\\project_v2\\\\output\\\\', 'gradient_clip_val': 0.0, 'gradient_clip_algorithm': 'norm', 'process_position': 0, 'num_nodes': 1, 'num_processes': 1, 'gpus': 1, 'auto_select_gpus': False, 'tpu_cores': None, 'log_gpu_memory': None, 'progress_bar_refresh_rate': None, 'overfit_batches': 0.0, 'track_grad_norm': 2.0, 'check_val_every_n_epoch': 1, 'fast_dev_run': False, 'accumulate_grad_batches': 1, 'max_epochs': 1, 'min_epochs': None, 'max_steps': None, 'min_steps': None, 'max_time': None, 'limit_train_batches': 1.0, 'limit_val_batches': 1.0, 'limit_test_batches': 1.0, 'limit_predict_batches': 1.0, 'val_check_interval': 1.0, 'flush_logs_every_n_steps': 100, 'log_every_n_steps': 50, 'accelerator': None, 'sync_batchnorm': False, 'precision': 16, 'weights_summary': 'top', 'weights_save_path': None, 'num_sanity_val_steps': 2, 'truncated_bptt_steps': None, 'resume_from_checkpoint': None, 'profiler': None, 'benchmark': False, 'deterministic': False, 'reload_dataloaders_every_epoch': False, 'auto_lr_find': False, 'replace_sampler_ddp': True, 'terminate_on_nan': False, 'auto_scale_batch_size': False, 'prepare_data_per_node': True, 'plugins': None, 'amp_backend': 'native', 'amp_level': 'O2', 'distributed_backend': None, 'move_metrics_to_cpu': False, 'multiple_trainloader_mode': 'max_size_cycle', 'stochastic_weight_avg': False}\n"
     ]
    }
   ],
   "source": [
    "parser = ArgumentParser()\n",
    "parser = PresentationPredictor.add_argparse_args(parser)\n",
    "parser = Trainer.add_argparse_args(parser)\n",
    "\n",
    "\n",
    "argString = f\"--gpus 1 --num_workers 0 \"\n",
    "argString += f\"--default_root_dir '{pMHC.OUTPUT_FOLDER}{SEP}' \"\n",
    "argString += f\"--track_grad_norm 2 \"\n",
    "argString += f\"--proportion 0.1 --precision 16 --datasources 'Edi;Atlas' \"\n",
    "argString += f\"--batch_size 32 --learning_rate 0.00001 \"\n",
    "argString += f\"--max_seq_length 80 \"\n",
    "argString += f\"--input_mode CONTEXT --mhc_rep PSEUDO \"\n",
    "argString += f\"--decoys_per_obs 99 --head Attn --max_epochs 1\"\n",
    "\n",
    "args = parser.parse_args(shlex.split(argString))\n",
    "args_dict = vars(args)\n",
    "model = PresentationPredictor(**args_dict)\n",
    "\n",
    "\n",
    "# argString += f\"--head Avg \"\n",
    "\n",
    "\n",
    "print(args_dict)"
   ]
  },
  {
   "cell_type": "code",
   "execution_count": 4,
   "id": "4cf9ec0e",
   "metadata": {},
   "outputs": [
    {
     "name": "stderr",
     "output_type": "stream",
     "text": [
      "Global seed set to 42\n"
     ]
    },
    {
     "name": "stdout",
     "output_type": "stream",
     "text": [
      "PresentationPredictor.setup: 2021-07-13 00:07:08\n",
      "MhcAllele.from_input\n"
     ]
    },
    {
     "name": "stderr",
     "output_type": "stream",
     "text": [
      "MhcAlleles from input: 11074it [00:00, 12787.41it/s]\n"
     ]
    },
    {
     "name": "stdout",
     "output_type": "stream",
     "text": [
      "Protein.from_input\n"
     ]
    },
    {
     "name": "stderr",
     "output_type": "stream",
     "text": [
      "Proteins from input: 185930it [00:14, 13000.74it/s]\n"
     ]
    },
    {
     "name": "stdout",
     "output_type": "stream",
     "text": [
      "Sample.from_input\n"
     ]
    },
    {
     "name": "stderr",
     "output_type": "stream",
     "text": [
      "Samples from input: 472it [00:00, 13146.37it/s]\n"
     ]
    },
    {
     "name": "stdout",
     "output_type": "stream",
     "text": [
      "Peptide.from_input\n"
     ]
    },
    {
     "name": "stderr",
     "output_type": "stream",
     "text": [
      "Peptides from input: 429339it [00:34, 12385.46it/s]\n"
     ]
    },
    {
     "name": "stdout",
     "output_type": "stream",
     "text": [
      "Observation.from_input\n"
     ]
    },
    {
     "name": "stderr",
     "output_type": "stream",
     "text": [
      "Observations from input: 1959736it [02:38, 12399.63it/s]\n"
     ]
    },
    {
     "name": "stdout",
     "output_type": "stream",
     "text": [
      "Reduce observations\n"
     ]
    },
    {
     "name": "stderr",
     "output_type": "stream",
     "text": [
      "100%|██████████████████████████████████████████████████████████████████████| 195973/195973 [00:01<00:00, 132774.72it/s]\n"
     ]
    },
    {
     "name": "stdout",
     "output_type": "stream",
     "text": [
      "Decoy.to_input\n",
      "Load decoys for 195974 observations\n",
      "Decoy.to_input C:\\Users\\tux\\Documents\\project_v2\\input\\decoys\\decoys_0_50000.csv\n"
     ]
    },
    {
     "name": "stderr",
     "output_type": "stream",
     "text": [
      "Decoys: C:\\Users\\tux\\Documents\\project_v2\\input\\decoys\\decoys_0_50000.csv: 4950000it [06:32, 12607.69it/s]\n"
     ]
    },
    {
     "name": "stdout",
     "output_type": "stream",
     "text": [
      "Decoy.to_input C:\\Users\\tux\\Documents\\project_v2\\input\\decoys\\decoys_100000_150000.csv\n"
     ]
    },
    {
     "name": "stderr",
     "output_type": "stream",
     "text": [
      "Decoys: C:\\Users\\tux\\Documents\\project_v2\\input\\decoys\\decoys_100000_150000.csv: 4950000it [06:26, 12812.89it/s]\n"
     ]
    },
    {
     "name": "stdout",
     "output_type": "stream",
     "text": [
      "Decoy.to_input C:\\Users\\tux\\Documents\\project_v2\\input\\decoys\\decoys_150000_200000.csv\n"
     ]
    },
    {
     "name": "stderr",
     "output_type": "stream",
     "text": [
      "Decoys: C:\\Users\\tux\\Documents\\project_v2\\input\\decoys\\decoys_150000_200000.csv: 4950000it [06:27, 12783.69it/s]\n"
     ]
    },
    {
     "name": "stdout",
     "output_type": "stream",
     "text": [
      "Decoy.to_input C:\\Users\\tux\\Documents\\project_v2\\input\\decoys\\decoys_50000_100000.csv\n"
     ]
    },
    {
     "name": "stderr",
     "output_type": "stream",
     "text": [
      "Decoys: C:\\Users\\tux\\Documents\\project_v2\\input\\decoys\\decoys_50000_100000.csv: 4950000it [07:31, 10960.03it/s]\n",
      "Global seed set to 42\n"
     ]
    },
    {
     "name": "stdout",
     "output_type": "stream",
     "text": [
      "PresentationPredictor.setup finished: 2021-07-13 00:37:55\n",
      "\n",
      "\n",
      "Datasources\n",
      "\n",
      "OBSERVATIONS                        /   MHC/Obs comb\n",
      "   Edi                 :  1,550,250 /      7,209,446\n",
      "   Atlas               :    409,486 /      2,436,897\n",
      "   TOTAL               :  1,959,736 /      9,646,343\n",
      "\n",
      "\n",
      "\n",
      "\n",
      "Splits\n",
      "\n",
      "OBSERVATIONS                          SA            SAMA          Deconv\n",
      "   train               :           20,659         140,792         673,075\n",
      "   val                 :            3,230          26,749         127,260\n",
      "   test                :            5,493          28,432         134,858\n",
      "   val-prot            :              986           6,943          33,483\n",
      "   test-prot           :            1,101           6,945          32,751\n",
      "   val-mhc             :            2,352          20,669          97,844\n",
      "   test-mhc            :            4,284          20,624          98,040\n",
      "\n",
      "\n",
      "\n",
      "Dataloaders\n",
      "\n",
      "EXAMPLES\n",
      "\n",
      "   train               \n",
      "      SA               :  2,065,900 /         64,559\n",
      "      SAMA             : 14,079,200 /        439,975\n",
      "      Deconv           :    673,075 /         21,033\n",
      "   val                 \n",
      "      SA               :    323,000 /         10,093\n",
      "      SAMA             :  2,674,900 /         83,590\n",
      "      Deconv           :    127,260 /          3,976\n",
      "   test                \n",
      "      SA               :    549,300 /         17,165\n",
      "      SAMA             :  2,843,200 /         88,850\n",
      "      Deconv           :    134,858 /          4,214\n",
      "   val-prot            \n",
      "      SA               :     98,600 /          3,081\n",
      "      SAMA             :    694,300 /         21,696\n",
      "      Deconv           :     33,483 /          1,046\n",
      "   test-prot           \n",
      "      SA               :    110,100 /          3,440\n",
      "      SAMA             :    694,500 /         21,703\n",
      "      Deconv           :     32,751 /          1,023\n",
      "   val-mhc             \n",
      "      SA               :    235,200 /          7,350\n",
      "      SAMA             :  2,066,900 /         64,590\n",
      "      Deconv           :     97,844 /          3,057\n",
      "   test-mhc            \n",
      "      SA               :    428,400 /         13,387\n",
      "      SAMA             :  2,062,400 /         64,450\n",
      "      Deconv           :     98,040 /          3,063\n"
     ]
    }
   ],
   "source": [
    "model.setup()"
   ]
  },
  {
   "cell_type": "code",
   "execution_count": 5,
   "id": "68975d09",
   "metadata": {},
   "outputs": [],
   "source": [
    "with open(pMHC.SPLIT_MHC_ALLELES_VAL_FILENAME, 'r') as file:\n",
    "    val_mhc_allele_groups = file.read()\n",
    "val_mhc_allele_groups = val_mhc_allele_groups.split(\"; \")\n",
    "\n",
    "with open(pMHC.SPLIT_MHC_ALLELES_TEST_FILENAME, 'r') as file:\n",
    "    test_mhc_allele_groups = file.read()\n",
    "test_mhc_allele_groups = test_mhc_allele_groups.split(\"; \")"
   ]
  },
  {
   "cell_type": "code",
   "execution_count": 6,
   "id": "462d9b41",
   "metadata": {},
   "outputs": [
    {
     "data": {
      "text/plain": [
       "['HLA-B51',\n",
       " 'HLA-B53',\n",
       " 'HLA-B39',\n",
       " 'HLA-B47',\n",
       " 'HLA-B08',\n",
       " 'HLA-A34',\n",
       " 'HLA-A66',\n",
       " 'HLA-B42',\n",
       " 'HLA-B52',\n",
       " 'HLA-B56']"
      ]
     },
     "execution_count": 6,
     "metadata": {},
     "output_type": "execute_result"
    }
   ],
   "source": [
    "val_mhc_allele_groups"
   ]
  },
  {
   "cell_type": "code",
   "execution_count": 7,
   "id": "4c362be4",
   "metadata": {},
   "outputs": [
    {
     "data": {
      "text/plain": [
       "['HLA-C17',\n",
       " 'HLA-C01',\n",
       " 'HLA-C15',\n",
       " 'HLA-B58',\n",
       " 'HLA-B37',\n",
       " 'HLA-A33',\n",
       " 'HLA-A36',\n",
       " 'HLA-A74',\n",
       " 'HLA-B46',\n",
       " 'HLA-B54']"
      ]
     },
     "execution_count": 7,
     "metadata": {},
     "output_type": "execute_result"
    }
   ],
   "source": [
    "test_mhc_allele_groups"
   ]
  },
  {
   "cell_type": "markdown",
   "id": "3bac8566",
   "metadata": {},
   "source": [
    "# Check mhc split"
   ]
  },
  {
   "cell_type": "markdown",
   "id": "79e24ee9",
   "metadata": {},
   "source": [
    "## Check training set"
   ]
  },
  {
   "cell_type": "code",
   "execution_count": 8,
   "id": "0f43b487",
   "metadata": {},
   "outputs": [
    {
     "name": "stderr",
     "output_type": "stream",
     "text": [
      "100%|██████████████████████████████████████████████████████████████████████| 140792/140792 [00:00<00:00, 197490.70it/s]\n"
     ]
    }
   ],
   "source": [
    "for obs in tqdm(Observation.obs_views[SPLIT_TRAIN][VIEW_SAMA]):\n",
    "    for mhc_group in [x.name[:7] for x in obs.sample.mhc_alleles]:\n",
    "        if mhc_group in val_mhc_allele_groups:\n",
    "            print(\"Error: in val group\")\n",
    "        if mhc_group in test_mhc_allele_groups:\n",
    "            print(\"Error: in test group\")"
   ]
  },
  {
   "cell_type": "markdown",
   "id": "634c0537",
   "metadata": {},
   "source": [
    "## Check  validation set"
   ]
  },
  {
   "cell_type": "code",
   "execution_count": 9,
   "id": "c2387e05",
   "metadata": {},
   "outputs": [
    {
     "name": "stderr",
     "output_type": "stream",
     "text": [
      "100%|████████████████████████████████████████████████████████████████████████| 26749/26749 [00:00<00:00, 270795.87it/s]\n"
     ]
    }
   ],
   "source": [
    "for obs in tqdm(Observation.obs_views[SPLIT_VAL][VIEW_SAMA]):\n",
    "    for mhc_group in [x.name[:7] for x in obs.sample.mhc_alleles]:\n",
    "        if mhc_group in test_mhc_allele_groups:\n",
    "            print(\"Error: in test group\")"
   ]
  },
  {
   "cell_type": "markdown",
   "id": "ce2c85dd",
   "metadata": {},
   "source": [
    "# Check protein split"
   ]
  },
  {
   "cell_type": "code",
   "execution_count": 24,
   "id": "154d4e79",
   "metadata": {},
   "outputs": [
    {
     "name": "stderr",
     "output_type": "stream",
     "text": [
      "100%|██████████████████████████████████████████████████████████████████████| 140792/140792 [00:00<00:00, 294017.35it/s]\n",
      "100%|██████████████████████████████████████████████████████████████████████████| 6943/6943 [00:00<00:00, 428717.32it/s]\n",
      "100%|██████████████████████████████████████████████████████████████████████████| 6945/6945 [00:00<00:00, 435248.50it/s]\n"
     ]
    }
   ],
   "source": [
    "proteins_train = []\n",
    "peptides_train = []\n",
    "for obs in tqdm(Observation.obs_views[SPLIT_TRAIN][VIEW_SAMA]):\n",
    "    proteins_train += [x.name for x in obs.peptide.proteins]\n",
    "    peptides_train.append(obs.peptide.seq)\n",
    "    \n",
    "proteins_val = []\n",
    "peptides_val = []\n",
    "for obs in tqdm(Observation.obs_views[SPLIT_VAL_PROTEINS][VIEW_SAMA]):\n",
    "    proteins_val += [x.name for x in obs.peptide.proteins]\n",
    "    peptides_val.append(obs.peptide.seq)\n",
    "    \n",
    "proteins_test = []\n",
    "peptides_test = []\n",
    "for obs in tqdm(Observation.obs_views[SPLIT_TEST_PROTEINS][VIEW_SAMA]):\n",
    "    proteins_test += [x.name for x in obs.peptide.proteins]\n",
    "    peptides_test.append(obs.peptide.seq)\n",
    "    \n",
    "proteins_train = set(proteins_train)\n",
    "peptides_train = set(peptides_train)\n",
    "proteins_val = set(proteins_val)\n",
    "peptides_val = set(peptides_val)\n",
    "proteins_test = set(proteins_test)\n",
    "peptides_test = set(peptides_test)"
   ]
  },
  {
   "cell_type": "code",
   "execution_count": 26,
   "id": "14029012",
   "metadata": {},
   "outputs": [
    {
     "name": "stdout",
     "output_type": "stream",
     "text": [
      "0\n",
      "0\n",
      "0\n"
     ]
    }
   ],
   "source": [
    "print(len(proteins_val.intersection(proteins_train)))\n",
    "print(len(proteins_test.intersection(proteins_train)))\n",
    "print(len(proteins_test.intersection(proteins_val)))"
   ]
  },
  {
   "cell_type": "code",
   "execution_count": 27,
   "id": "e6bd1899",
   "metadata": {},
   "outputs": [
    {
     "name": "stdout",
     "output_type": "stream",
     "text": [
      "0\n",
      "0\n",
      "0\n"
     ]
    }
   ],
   "source": [
    "print(len(peptides_val.intersection(peptides_train)))\n",
    "print(len(peptides_test.intersection(peptides_train)))\n",
    "print(len(peptides_test.intersection(peptides_val)))"
   ]
  },
  {
   "cell_type": "code",
   "execution_count": null,
   "id": "5d2e7ff0",
   "metadata": {},
   "outputs": [],
   "source": []
  }
 ],
 "metadata": {
  "kernelspec": {
   "display_name": "Python 3",
   "language": "python",
   "name": "python3"
  },
  "language_info": {
   "codemirror_mode": {
    "name": "ipython",
    "version": 3
   },
   "file_extension": ".py",
   "mimetype": "text/x-python",
   "name": "python",
   "nbconvert_exporter": "python",
   "pygments_lexer": "ipython3",
   "version": "3.8.10"
  },
  "toc": {
   "base_numbering": 1,
   "nav_menu": {},
   "number_sections": true,
   "sideBar": true,
   "skip_h1_title": false,
   "title_cell": "Table of Contents",
   "title_sidebar": "Contents",
   "toc_cell": true,
   "toc_position": {},
   "toc_section_display": true,
   "toc_window_display": true
  }
 },
 "nbformat": 4,
 "nbformat_minor": 5
}
