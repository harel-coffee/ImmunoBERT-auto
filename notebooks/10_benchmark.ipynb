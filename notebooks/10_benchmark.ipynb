{
 "cells": [
  {
   "cell_type": "markdown",
   "id": "1f53935b",
   "metadata": {
    "toc": true
   },
   "source": [
    "<h1>Table of Contents<span class=\"tocSkip\"></span></h1>\n",
    "<div class=\"toc\"><ul class=\"toc-item\"><li><span><a href=\"#prepare\" data-toc-modified-id=\"prepare-1\"><span class=\"toc-item-num\">1&nbsp;&nbsp;</span>prepare</a></span><ul class=\"toc-item\"><li><span><a href=\"#model\" data-toc-modified-id=\"model-1.1\"><span class=\"toc-item-num\">1.1&nbsp;&nbsp;</span>model</a></span></li><li><span><a href=\"#benchmark-file\" data-toc-modified-id=\"benchmark-file-1.2\"><span class=\"toc-item-num\">1.2&nbsp;&nbsp;</span>benchmark file</a></span></li></ul></li><li><span><a href=\"#appraisal---Full-Dataset\" data-toc-modified-id=\"appraisal---Full-Dataset-2\"><span class=\"toc-item-num\">2&nbsp;&nbsp;</span>appraisal - Full Dataset</a></span><ul class=\"toc-item\"><li><span><a href=\"#calculate-AP\" data-toc-modified-id=\"calculate-AP-2.1\"><span class=\"toc-item-num\">2.1&nbsp;&nbsp;</span>calculate AP</a></span></li><li><span><a href=\"#plot-PR---curve\" data-toc-modified-id=\"plot-PR---curve-2.2\"><span class=\"toc-item-num\">2.2&nbsp;&nbsp;</span>plot PR - curve</a></span></li><li><span><a href=\"#calc-ROC-AUC\" data-toc-modified-id=\"calc-ROC-AUC-2.3\"><span class=\"toc-item-num\">2.3&nbsp;&nbsp;</span>calc ROC-AUC</a></span></li><li><span><a href=\"#plot-ROC\" data-toc-modified-id=\"plot-ROC-2.4\"><span class=\"toc-item-num\">2.4&nbsp;&nbsp;</span>plot ROC</a></span></li></ul></li><li><span><a href=\"#appraisal---reduced-dataset\" data-toc-modified-id=\"appraisal---reduced-dataset-3\"><span class=\"toc-item-num\">3&nbsp;&nbsp;</span>appraisal - reduced dataset</a></span><ul class=\"toc-item\"><li><span><a href=\"#calculate-AP\" data-toc-modified-id=\"calculate-AP-3.1\"><span class=\"toc-item-num\">3.1&nbsp;&nbsp;</span>calculate AP</a></span></li><li><span><a href=\"#plot-PR---curve\" data-toc-modified-id=\"plot-PR---curve-3.2\"><span class=\"toc-item-num\">3.2&nbsp;&nbsp;</span>plot PR - curve</a></span></li><li><span><a href=\"#calc-ROC-AUC\" data-toc-modified-id=\"calc-ROC-AUC-3.3\"><span class=\"toc-item-num\">3.3&nbsp;&nbsp;</span>calc ROC-AUC</a></span></li></ul></li></ul></div>"
   ]
  },
  {
   "cell_type": "code",
   "execution_count": 1,
   "id": "007c7c75",
   "metadata": {},
   "outputs": [],
   "source": [
    "import numpy as np\n",
    "import pandas as pd\n",
    "import pdb\n",
    "from argparse import ArgumentParser\n",
    "import shlex\n",
    "from tqdm import tqdm\n",
    "\n",
    "from pytorch_lightning import Trainer\n",
    "from pytorch_lightning.callbacks import ModelCheckpoint\n",
    "\n",
    "from pMHC import OUTPUT_FOLDER, SEP, \\\n",
    "    SPLITS, SPLIT_TRAIN, SPLIT_VAL, SPLIT_TEST, \\\n",
    "    VIEWS, VIEW_SA, VIEW_SAMA, VIEW_DECONV, \\\n",
    "    INPUT_PEPTIDE, INPUT_CONTEXT, \\\n",
    "    BENCHMARK_SA, BENCHMARK_MA\n",
    "from pMHC.logic import PresentationPredictor\n",
    "from pMHC.data import from_data, to_input\n",
    "from pMHC.data.example import Sample, Peptide, Observation\n",
    "\n",
    "tqdm.pandas()"
   ]
  },
  {
   "cell_type": "code",
   "execution_count": 2,
   "id": "3a2efec6",
   "metadata": {},
   "outputs": [],
   "source": [
    "import torch\n",
    "\n",
    "from pytorch_lightning.utilities.seed import seed_everything\n",
    "\n",
    "import pMHC\n",
    "from pMHC import POSITIVE_THRESHOLD\n",
    "from pMHC.logic.utils import load_latest, list_versions\n",
    "from pMHC.data.utils import get_input_rep_PSEUDO, get_input_rep_FULL, convert_examples_to_batch\n",
    "from pMHC.data.mhc_allele import MhcAllele\n",
    "from pMHC.data.protein import Protein"
   ]
  },
  {
   "cell_type": "code",
   "execution_count": 3,
   "id": "3eb17fb5",
   "metadata": {},
   "outputs": [],
   "source": [
    "from pMHC.data.utils import move_dict_to_device"
   ]
  },
  {
   "cell_type": "code",
   "execution_count": 4,
   "id": "a1727477",
   "metadata": {},
   "outputs": [],
   "source": [
    "import tensorboard as tb\n",
    "from tensorboard.backend.event_processing import event_accumulator"
   ]
  },
  {
   "cell_type": "code",
   "execution_count": 5,
   "id": "c935bfe5",
   "metadata": {},
   "outputs": [],
   "source": [
    "from sklearn.metrics import confusion_matrix\n",
    "from sklearn.metrics import ConfusionMatrixDisplay\n",
    "\n",
    "from sklearn.metrics import precision_recall_curve, average_precision_score\n",
    "from sklearn.metrics import PrecisionRecallDisplay\n",
    "\n",
    "from sklearn.metrics import roc_curve, roc_auc_score\n",
    "from sklearn.metrics import RocCurveDisplay"
   ]
  },
  {
   "cell_type": "code",
   "execution_count": 6,
   "id": "13cd0758",
   "metadata": {},
   "outputs": [],
   "source": [
    "from pMHC.data import from_input"
   ]
  },
  {
   "cell_type": "code",
   "execution_count": 7,
   "id": "2512e849",
   "metadata": {},
   "outputs": [
    {
     "name": "stdout",
     "output_type": "stream",
     "text": [
      "Update project folder to: /home/tux/Documents/MScProject\n",
      "Load permutation\n"
     ]
    }
   ],
   "source": [
    "pMHC.set_paths(r\"/home/tux/Documents/MScProject\")"
   ]
  },
  {
   "cell_type": "markdown",
   "id": "9358c227",
   "metadata": {},
   "source": [
    "# prepare"
   ]
  },
  {
   "cell_type": "markdown",
   "id": "e577b3e1",
   "metadata": {},
   "source": [
    "## model"
   ]
  },
  {
   "cell_type": "code",
   "execution_count": 8,
   "id": "d418ff2f",
   "metadata": {},
   "outputs": [],
   "source": [
    "version = \"CONTEXT-PSEUDO-HEAD_Cls-DECOY_19-LR_0.00001\"\n",
    "checkpoint = \"epoch=4-step=3648186\""
   ]
  },
  {
   "cell_type": "code",
   "execution_count": 9,
   "id": "213e6fed",
   "metadata": {},
   "outputs": [
    {
     "name": "stderr",
     "output_type": "stream",
     "text": [
      "Global seed set to 42\n",
      "Global seed set to 42\n"
     ]
    },
    {
     "name": "stdout",
     "output_type": "stream",
     "text": [
      "PresentationPredictor.setup: 2021-08-17 20:16:30\n",
      "MhcAllele.from_input\n"
     ]
    },
    {
     "name": "stderr",
     "output_type": "stream",
     "text": [
      "MhcAlleles from input: 11074it [00:00, 18585.93it/s]\n"
     ]
    },
    {
     "name": "stdout",
     "output_type": "stream",
     "text": [
      "Protein.from_input\n"
     ]
    },
    {
     "name": "stderr",
     "output_type": "stream",
     "text": [
      "Proteins from input: 185930it [00:09, 20270.75it/s]\n"
     ]
    },
    {
     "name": "stdout",
     "output_type": "stream",
     "text": [
      "Sample.from_input\n"
     ]
    },
    {
     "name": "stderr",
     "output_type": "stream",
     "text": [
      "Samples from input: 472it [00:00, 19356.94it/s]\n"
     ]
    },
    {
     "name": "stdout",
     "output_type": "stream",
     "text": [
      "Peptide.from_input\n"
     ]
    },
    {
     "name": "stderr",
     "output_type": "stream",
     "text": [
      "Peptides from input: 429339it [00:22, 19407.34it/s]\n"
     ]
    },
    {
     "name": "stdout",
     "output_type": "stream",
     "text": [
      "Observation.from_input\n"
     ]
    },
    {
     "name": "stderr",
     "output_type": "stream",
     "text": [
      "Observations from input: 1959736it [01:41, 19310.17it/s]\n",
      "100%|██████████| 1959736/1959736 [00:06<00:00, 303731.26it/s]\n"
     ]
    },
    {
     "name": "stdout",
     "output_type": "stream",
     "text": [
      "Decoy.to_input\n",
      "Load decoys for 1959737 observations\n",
      "decoys_1200000_1250000.csv\n",
      "decoys_650000_700000.csv\n",
      "decoys_1650000_1700000.csv\n",
      "decoys_1000000_1050000.csv\n",
      "decoys_1950000_2000000.csv\n",
      "decoys_1150000_1200000.csv\n",
      "decoys_1800000_1850000.csv\n",
      "decoys_1450000_1500000.csv\n",
      "decoys_950000_1000000.csv\n",
      "decoys_850000_900000.csv\n",
      "decoys_50000_100000.csv\n",
      "decoys_1050000_1100000.csv\n",
      "decoys_1300000_1350000.csv\n",
      "decoys_1900000_1950000.csv\n",
      "decoys_900000_950000.csv\n",
      "decoys_700000_750000.csv\n",
      "decoys_450000_500000.csv\n",
      "decoys_200000_250000.csv\n",
      "decoys_800000_850000.csv\n",
      "decoys_500000_550000.csv\n",
      "decoys_1750000_1800000.csv\n",
      "decoys_1550000_1600000.csv\n",
      "decoys_1600000_1650000.csv\n",
      "decoys_300000_350000.csv\n",
      "decoys_1850000_1900000.csv\n",
      "decoys_1350000_1400000.csv\n",
      "decoys_1500000_1550000.csv\n",
      "decoys_1250000_1300000.csv\n",
      "decoys_550000_600000.csv\n",
      "decoys_1100000_1150000.csv\n",
      "decoys_0_50000.csv\n",
      "decoys_750000_800000.csv\n",
      "decoys_350000_400000.csv\n",
      "decoys_400000_450000.csv\n",
      "decoys_1700000_1750000.csv\n",
      "decoys_1400000_1450000.csv\n",
      "decoys_100000_150000.csv\n",
      "decoys_600000_650000.csv\n",
      "decoys_250000_300000.csv\n",
      "decoys_150000_200000.csv\n"
     ]
    },
    {
     "name": "stderr",
     "output_type": "stream",
     "text": [
      "Global seed set to 42\n"
     ]
    },
    {
     "name": "stdout",
     "output_type": "stream",
     "text": [
      "PresentationPredictor.setup finished: 2021-08-17 20:24:24\n",
      "\n",
      "\n",
      "Datasources\n",
      "\n",
      "OBSERVATIONS                        /   MHC/Obs comb\n",
      "   Edi                 :  1,550,250 /      7,209,446\n",
      "   Atlas               :    409,486 /      2,436,897\n",
      "   TOTAL               :  1,959,736 /      9,646,343\n",
      "\n",
      "\n",
      "\n",
      "\n",
      "Splits\n",
      "\n",
      "OBSERVATIONS                          SA            SAMA          Deconv\n",
      "   train               :          205,591       1,407,876       6,734,816\n",
      "   val                 :           33,920         274,378       1,299,848\n",
      "   test                :           53,823         277,482       1,318,345\n",
      "   val-prot            :           10,149          70,072         335,832\n",
      "   test-prot           :           11,056          71,150         336,955\n",
      "   val-mhc             :           23,771         204,306         964,016\n",
      "   test-mhc            :           42,767         206,332         981,390\n",
      "\n",
      "\n",
      "\n",
      "Dataloaders\n",
      "\n",
      "EXAMPLES\n",
      "\n",
      "   train               \n",
      "      SA               :  4,111,820 /        128,494\n",
      "      SAMA             : 28,157,520 /        879,922\n",
      "      Deconv           :  6,734,816 /        210,463\n",
      "   val                 \n",
      "      SA               :    678,400 /         21,200\n",
      "      SAMA             :  5,487,560 /        171,486\n",
      "      Deconv           :  1,299,848 /         40,620\n",
      "   test                \n",
      "      SA               :  1,076,460 /         33,639\n",
      "      SAMA             :  5,549,640 /        173,426\n",
      "      Deconv           :  1,318,345 /         41,198\n",
      "   val-prot            \n",
      "      SA               :    202,980 /          6,343\n",
      "      SAMA             :  1,401,440 /         43,795\n",
      "      Deconv           :    335,832 /         10,494\n",
      "   test-prot           \n",
      "      SA               :    221,120 /          6,910\n",
      "      SAMA             :  1,423,000 /         44,468\n",
      "      Deconv           :    336,955 /         10,529\n",
      "   val-mhc             \n",
      "      SA               :    475,420 /         14,856\n",
      "      SAMA             :  4,086,120 /        127,691\n",
      "      Deconv           :    964,016 /         30,125\n",
      "   test-mhc            \n",
      "      SA               :    855,340 /         26,729\n",
      "      SAMA             :  4,126,640 /        128,957\n",
      "      Deconv           :    981,390 /         30,668\n"
     ]
    }
   ],
   "source": [
    "MODEL_PATH = f\"{pMHC.OUTPUT_FOLDER}{SEP}main{SEP}{version}{SEP}checkpoints{SEP}{checkpoint}.ckpt\"\n",
    "model = PresentationPredictor.load_from_checkpoint(MODEL_PATH, num_workers=0, \n",
    "                                                   name=\"mod\", version=\"vers\", shuffle_data=False,\n",
    "                                                   output_attentions=True,\n",
    "                                                   only_deconvolute=True\n",
    "                                                  ) # can \n",
    "                                                    # soon be removed\n",
    "    \n",
    "model.setup()"
   ]
  },
  {
   "cell_type": "markdown",
   "id": "cd74544c",
   "metadata": {},
   "source": [
    "## benchmark file"
   ]
  },
  {
   "cell_type": "code",
   "execution_count": 10,
   "id": "7fbac875",
   "metadata": {},
   "outputs": [],
   "source": [
    "benchmark_data_ma = pd.read_csv(pMHC.BENCHMARK_MA).fillna(\"\")"
   ]
  },
  {
   "cell_type": "code",
   "execution_count": 11,
   "id": "0acd2f7f",
   "metadata": {},
   "outputs": [
    {
     "data": {
      "text/html": [
       "<div>\n",
       "<style scoped>\n",
       "    .dataframe tbody tr th:only-of-type {\n",
       "        vertical-align: middle;\n",
       "    }\n",
       "\n",
       "    .dataframe tbody tr th {\n",
       "        vertical-align: top;\n",
       "    }\n",
       "\n",
       "    .dataframe thead th {\n",
       "        text-align: right;\n",
       "    }\n",
       "</style>\n",
       "<table border=\"1\" class=\"dataframe\">\n",
       "  <thead>\n",
       "    <tr style=\"text-align: right;\">\n",
       "      <th></th>\n",
       "      <th>protein_accession</th>\n",
       "      <th>peptide</th>\n",
       "      <th>sample_id</th>\n",
       "      <th>sample_group</th>\n",
       "      <th>n_flank</th>\n",
       "      <th>c_flank</th>\n",
       "      <th>hit</th>\n",
       "      <th>hla</th>\n",
       "      <th>netmhcpan4.ba</th>\n",
       "      <th>netmhcpan4.ba_best_allele</th>\n",
       "      <th>netmhcpan4.el</th>\n",
       "      <th>netmhcpan4.el_best_allele</th>\n",
       "      <th>mixmhcpred</th>\n",
       "      <th>mixmhcpred_best_allele</th>\n",
       "      <th>mhcflurry2.ba</th>\n",
       "      <th>mhcflurry2.ba_best_allele</th>\n",
       "      <th>mhcflurry2.ap.without_flanks</th>\n",
       "      <th>mhcflurry2.ap.with_flanks</th>\n",
       "      <th>mhcflurry2.ps.without_flanks</th>\n",
       "      <th>mhcflurry2.ps.with_flanks</th>\n",
       "    </tr>\n",
       "  </thead>\n",
       "  <tbody>\n",
       "    <tr>\n",
       "      <th>0</th>\n",
       "      <td>J3KTA1</td>\n",
       "      <td>QLEDEALKY</td>\n",
       "      <td>10-002-S1-TISSUE</td>\n",
       "      <td>MULTIALLELIC-RECENT</td>\n",
       "      <td>RGCGGLKALFLKGCT</td>\n",
       "      <td>IGAHCPELVTLNLQT</td>\n",
       "      <td>1</td>\n",
       "      <td>HLA-A*02:01 HLA-A*31:01 HLA-B*13:02 HLA-B*58:0...</td>\n",
       "      <td>24848.000000</td>\n",
       "      <td>HLA-C*07:01</td>\n",
       "      <td>0.059723</td>\n",
       "      <td>HLA-B*58:01</td>\n",
       "      <td>-0.005424</td>\n",
       "      <td>HLA-B*58:01</td>\n",
       "      <td>3356.486844</td>\n",
       "      <td>HLA-C*07:01</td>\n",
       "      <td>0.145252</td>\n",
       "      <td>0.144131</td>\n",
       "      <td>0.045293</td>\n",
       "      <td>0.039817</td>\n",
       "    </tr>\n",
       "    <tr>\n",
       "      <th>1</th>\n",
       "      <td>A0A1X7SBR3</td>\n",
       "      <td>ALAAELNQL</td>\n",
       "      <td>10-002-S1-TISSUE</td>\n",
       "      <td>MULTIALLELIC-RECENT</td>\n",
       "      <td>ASYIEKVRFLEQQNK</td>\n",
       "      <td>RAKEPTKLADVYQAE</td>\n",
       "      <td>1</td>\n",
       "      <td>HLA-A*02:01 HLA-A*31:01 HLA-B*13:02 HLA-B*58:0...</td>\n",
       "      <td>31.703125</td>\n",
       "      <td>HLA-A*02:01</td>\n",
       "      <td>0.885742</td>\n",
       "      <td>HLA-A*02:01</td>\n",
       "      <td>0.552246</td>\n",
       "      <td>HLA-A*02:01</td>\n",
       "      <td>34.467987</td>\n",
       "      <td>HLA-A*02:01</td>\n",
       "      <td>0.658222</td>\n",
       "      <td>0.638135</td>\n",
       "      <td>0.961364</td>\n",
       "      <td>0.959060</td>\n",
       "    </tr>\n",
       "  </tbody>\n",
       "</table>\n",
       "</div>"
      ],
      "text/plain": [
       "  protein_accession    peptide         sample_id         sample_group  \\\n",
       "0            J3KTA1  QLEDEALKY  10-002-S1-TISSUE  MULTIALLELIC-RECENT   \n",
       "1        A0A1X7SBR3  ALAAELNQL  10-002-S1-TISSUE  MULTIALLELIC-RECENT   \n",
       "\n",
       "           n_flank          c_flank  hit  \\\n",
       "0  RGCGGLKALFLKGCT  IGAHCPELVTLNLQT    1   \n",
       "1  ASYIEKVRFLEQQNK  RAKEPTKLADVYQAE    1   \n",
       "\n",
       "                                                 hla  netmhcpan4.ba  \\\n",
       "0  HLA-A*02:01 HLA-A*31:01 HLA-B*13:02 HLA-B*58:0...   24848.000000   \n",
       "1  HLA-A*02:01 HLA-A*31:01 HLA-B*13:02 HLA-B*58:0...      31.703125   \n",
       "\n",
       "  netmhcpan4.ba_best_allele  netmhcpan4.el netmhcpan4.el_best_allele  \\\n",
       "0               HLA-C*07:01       0.059723               HLA-B*58:01   \n",
       "1               HLA-A*02:01       0.885742               HLA-A*02:01   \n",
       "\n",
       "  mixmhcpred mixmhcpred_best_allele  mhcflurry2.ba mhcflurry2.ba_best_allele  \\\n",
       "0  -0.005424            HLA-B*58:01    3356.486844               HLA-C*07:01   \n",
       "1   0.552246            HLA-A*02:01      34.467987               HLA-A*02:01   \n",
       "\n",
       "   mhcflurry2.ap.without_flanks  mhcflurry2.ap.with_flanks  \\\n",
       "0                      0.145252                   0.144131   \n",
       "1                      0.658222                   0.638135   \n",
       "\n",
       "   mhcflurry2.ps.without_flanks  mhcflurry2.ps.with_flanks  \n",
       "0                      0.045293                   0.039817  \n",
       "1                      0.961364                   0.959060  "
      ]
     },
     "execution_count": 11,
     "metadata": {},
     "output_type": "execute_result"
    }
   ],
   "source": [
    "benchmark_data_ma.head(2)"
   ]
  },
  {
   "cell_type": "code",
   "execution_count": 12,
   "id": "7a2ea50b",
   "metadata": {},
   "outputs": [
    {
     "name": "stderr",
     "output_type": "stream",
     "text": [
      "9158100it [07:26, 20518.44it/s]\n",
      "Global seed set to 42\n"
     ]
    }
   ],
   "source": [
    "n_flanks_, peptides_, c_flanks_, hits_, hlas_, preds_netmhcpan_, preds_mhcflurry_, preds_mixmhc_, preds_immunobert_ = \\\n",
    "    [], [], [], [], [], [], [], [], []\n",
    "\n",
    "for idx, row in tqdm(benchmark_data_ma.iterrows()):\n",
    "    _, peptide, _, _, n_flank, c_flank, hit, hla, \\\n",
    "        _, _, pred_netmhcpan, _, \\\n",
    "        pred_mixmhc, _, \\\n",
    "        _, _, _, _, _, pred_mhcflurry = row\n",
    "\n",
    "    n_flanks_.append(n_flank)\n",
    "    peptides_.append(peptide)\n",
    "    c_flanks_.append(c_flank)\n",
    "    hits_.append(hit)\n",
    "    hlas_.append(hla)\n",
    "    preds_netmhcpan_.append(pred_netmhcpan)\n",
    "    preds_mhcflurry_.append(pred_mhcflurry)\n",
    "    preds_mixmhc_.append(pred_mixmhc)\n",
    "    preds_immunobert_.append(None)\n",
    "\n",
    "del benchmark_data_ma\n",
    "\n",
    "seed_everything(model.seed)\n",
    "perm = np.random.permutation(range(len(peptides_)))\n",
    "\n",
    "n_flanks = np.array(n_flanks_)[perm]\n",
    "peptides = np.array(peptides_)[perm]\n",
    "c_flanks = np.array(c_flanks_)[perm]\n",
    "hits = np.array(hits_)[perm]\n",
    "hlas = np.array(hlas_)[perm]\n",
    "preds_netmhcpan = np.array(preds_netmhcpan_)[perm]\n",
    "preds_mhcflurry = np.array(preds_mhcflurry_)[perm]\n",
    "preds_mixmhc = np.array(preds_mixmhc_)[perm]\n",
    "preds_immunobert = np.zeros(len(hits))"
   ]
  },
  {
   "cell_type": "code",
   "execution_count": 13,
   "id": "3c63c2df",
   "metadata": {},
   "outputs": [],
   "source": [
    "model.to(\"cuda\");"
   ]
  },
  {
   "cell_type": "code",
   "execution_count": 14,
   "id": "638a3e5c",
   "metadata": {},
   "outputs": [
    {
     "name": "stderr",
     "output_type": "stream",
     "text": [
      "100%|██████████| 9158100/9158100 [24:51:00<00:00, 102.37it/s]   \n"
     ]
    }
   ],
   "source": [
    "from_ = 0\n",
    "to_ = len(hits)\n",
    "length = to_\n",
    "\n",
    "model.eval()\n",
    "with torch.no_grad():\n",
    "    for idx in tqdm(range(from_, to_)):\n",
    "        n_flank = n_flanks[idx].replace(\"X\", \"\")\n",
    "        peptide = peptides[idx]\n",
    "        c_flank = c_flanks[idx].replace(\"X\", \"\")\n",
    "        hla = hlas[idx]\n",
    "\n",
    "        mhc_alleles = MhcAllele.names_to_mhc_alleles(hla.replace(\"*\", \"\").split(\" \"))\n",
    "        examples = []\n",
    "        for mhc_allele in mhc_alleles:\n",
    "            examples.append(get_input_rep_PSEUDO(n_flank, peptide, c_flank, mhc_allele.pseudo_seq, model))\n",
    "\n",
    "        batch = convert_examples_to_batch(examples)\n",
    "        move_dict_to_device(batch, model)\n",
    "        y_hat = model(batch)\n",
    "        pred_immunobert = torch.max(torch.sigmoid(y_hat)).detach().cpu().numpy()\n",
    "\n",
    "        preds_immunobert[idx] = pred_immunobert"
   ]
  },
  {
   "cell_type": "code",
   "execution_count": 15,
   "id": "68b31d55",
   "metadata": {},
   "outputs": [],
   "source": [
    "backup_preds_immunobert = pd.DataFrame({\"preds_immunobert\": preds_immunobert, \"perm\": perm, \"peptides\": peptides})"
   ]
  },
  {
   "cell_type": "code",
   "execution_count": 16,
   "id": "c7cf708d",
   "metadata": {},
   "outputs": [],
   "source": [
    "backup_preds_immunobert.to_csv('preds_immunobert.csv', sep=',', index=False)"
   ]
  },
  {
   "cell_type": "code",
   "execution_count": 13,
   "id": "4524e74f",
   "metadata": {},
   "outputs": [],
   "source": [
    "backup_preds_immunobert = pd.read_csv('preds_immunobert.csv', sep=',')"
   ]
  },
  {
   "cell_type": "code",
   "execution_count": 20,
   "id": "6e1fd455",
   "metadata": {},
   "outputs": [],
   "source": [
    "preds_immunobert = list(backup_preds_immunobert['preds_immunobert'])"
   ]
  },
  {
   "cell_type": "markdown",
   "id": "c860f016",
   "metadata": {},
   "source": [
    "# appraisal - Full Dataset"
   ]
  },
  {
   "cell_type": "markdown",
   "id": "4c9a54a8",
   "metadata": {},
   "source": [
    "## calculate AP"
   ]
  },
  {
   "cell_type": "code",
   "execution_count": 23,
   "id": "393757c2",
   "metadata": {},
   "outputs": [
    {
     "name": "stdout",
     "output_type": "stream",
     "text": [
      "AP: \n",
      " NetMHCpan:  0.3267\n",
      " MHCflurry:  0.4273\n",
      " ImmunoBERT: 0.3828\n"
     ]
    }
   ],
   "source": [
    "AP_netmhcpan = average_precision_score(hits, preds_netmhcpan)\n",
    "AP_mhcflurry = average_precision_score(hits, preds_mhcflurry)\n",
    "AP_immunobert = average_precision_score(hits, preds_immunobert)\n",
    "\n",
    "print(f\"AP: \")\n",
    "print(f\" NetMHCpan:  {AP_netmhcpan:.4f}\")\n",
    "print(f\" MHCflurry:  {AP_mhcflurry:.4f}\")\n",
    "print(f\" ImmunoBERT: {AP_immunobert:.4f}\")"
   ]
  },
  {
   "cell_type": "markdown",
   "id": "883c5f35",
   "metadata": {},
   "source": [
    "## plot PR - curve"
   ]
  },
  {
   "cell_type": "code",
   "execution_count": 24,
   "id": "47b112ef",
   "metadata": {},
   "outputs": [],
   "source": [
    "import matplotlib.pyplot as plt"
   ]
  },
  {
   "cell_type": "code",
   "execution_count": 25,
   "id": "6fa69b04",
   "metadata": {},
   "outputs": [],
   "source": [
    "precision_netmhcpan, recall_netmhcpan, threshold_netmhcpan = precision_recall_curve(hits, preds_netmhcpan)\n",
    "precision_mhcflurry, recall_mhcflurry, threshold_mhcflurry = precision_recall_curve(hits, preds_mhcflurry)\n",
    "precision_immunobert, recall_immunobert, threshold_immunobert = precision_recall_curve(hits, preds_immunobert)"
   ]
  },
  {
   "cell_type": "code",
   "execution_count": 26,
   "id": "3003f734",
   "metadata": {},
   "outputs": [],
   "source": [
    "pr_display_netmhcpan = PrecisionRecallDisplay(precision=precision_netmhcpan, recall=recall_netmhcpan)\n",
    "pr_display_mhcflurry = PrecisionRecallDisplay(precision=precision_mhcflurry, recall=recall_mhcflurry)\n",
    "pr_display_immunobert = PrecisionRecallDisplay(precision=precision_immunobert, recall=recall_immunobert)"
   ]
  },
  {
   "cell_type": "code",
   "execution_count": 29,
   "id": "306a3541",
   "metadata": {},
   "outputs": [
    {
     "data": {
      "image/png": "[encoded data removed]",
      "text/plain": [
       "<Figure size 432x288 with 1 Axes>"
      ]
     },
     "metadata": {
      "needs_background": "light"
     },
     "output_type": "display_data"
    }
   ],
   "source": [
    "ax = plt.gca()\n",
    "ax.margins(x=0, y=0)\n",
    "h_netmhcpan = pr_display_netmhcpan.plot(ax=ax, alpha=0.8)\n",
    "h_mhcflurry = pr_display_mhcflurry.plot(ax=ax, alpha=0.8)\n",
    "h_immunobert = pr_display_immunobert.plot(ax=ax, alpha=0.8)\n",
    "ax.legend([\"NetMHCpan\", \"MHCflurry\", \"ImmunoBERT\"], fontsize=15)\n",
    "ax.tick_params(axis='x', labelsize=15)\n",
    "ax.tick_params(axis='y', labelsize=15)\n",
    "ax.set_xlabel('Recall', fontsize=15)\n",
    "ax.set_ylabel('Precision', fontsize=15)\n",
    "plt.savefig(f\"{pMHC.OUTPUT_FOLDER}{SEP}benchmark{SEP}PR.pdf\")"
   ]
  },
  {
   "cell_type": "markdown",
   "id": "efbad9aa",
   "metadata": {},
   "source": [
    "## calc ROC-AUC"
   ]
  },
  {
   "cell_type": "code",
   "execution_count": 31,
   "id": "40f2b804",
   "metadata": {},
   "outputs": [
    {
     "name": "stdout",
     "output_type": "stream",
     "text": [
      "ROC-AUC: \n",
      " NetMHCpan:  0.9157\n",
      " MHCflurry:  0.9377\n",
      " ImmunoBERT: 0.8931\n"
     ]
    }
   ],
   "source": [
    "ROC_netmhcpan = roc_auc_score(hits, preds_netmhcpan)\n",
    "ROC_mhcflurry = roc_auc_score(hits, preds_mhcflurry)\n",
    "ROC_immunobert = roc_auc_score(hits, preds_immunobert)\n",
    "\n",
    "print(f\"ROC-AUC: \")\n",
    "print(f\" NetMHCpan:  {ROC_netmhcpan:.4f}\")\n",
    "print(f\" MHCflurry:  {ROC_mhcflurry:.4f}\")\n",
    "print(f\" ImmunoBERT: {ROC_immunobert:.4f}\")"
   ]
  },
  {
   "cell_type": "markdown",
   "id": "b4b8e7d2",
   "metadata": {},
   "source": [
    "# appraisal - reduced dataset"
   ]
  },
  {
   "cell_type": "code",
   "execution_count": 33,
   "id": "a703a071",
   "metadata": {},
   "outputs": [],
   "source": [
    "del n_flanks_\n",
    "del c_flanks_\n",
    "del hlas_\n",
    "\n",
    "del n_flanks\n",
    "del c_flanks\n",
    "del hlas"
   ]
  },
  {
   "cell_type": "code",
   "execution_count": 34,
   "id": "bfbaffe9",
   "metadata": {},
   "outputs": [],
   "source": [
    "del preds_mixmhc"
   ]
  },
  {
   "cell_type": "code",
   "execution_count": 35,
   "id": "13e21196",
   "metadata": {},
   "outputs": [],
   "source": [
    "del backup_preds_immunobert"
   ]
  },
  {
   "cell_type": "code",
   "execution_count": 32,
   "id": "685dcd3b",
   "metadata": {},
   "outputs": [
    {
     "name": "stderr",
     "output_type": "stream",
     "text": [
      "100%|██████████| 1407876/1407876 [3:17:33<00:00, 118.77it/s]  \n"
     ]
    }
   ],
   "source": [
    "peptides_train = {}\n",
    "\n",
    "for obs in tqdm(Observation.obs_views[SPLIT_TRAIN][VIEW_SAMA]):\n",
    "    for ex in [obs.get_example(idx) for idx in range(-1, 99)]:\n",
    "        peptides_train.update({ex.peptide_seq: None})"
   ]
  },
  {
   "cell_type": "code",
   "execution_count": 36,
   "id": "ad13c067",
   "metadata": {},
   "outputs": [],
   "source": [
    "del pMHC.data.Decoy.df"
   ]
  },
  {
   "cell_type": "code",
   "execution_count": 38,
   "id": "37ca9ced",
   "metadata": {},
   "outputs": [
    {
     "name": "stderr",
     "output_type": "stream",
     "text": [
      "9158100it [00:08, 1048394.87it/s]\n"
     ]
    }
   ],
   "source": [
    "hits_red = []\n",
    "preds_netmhcpan_red = []\n",
    "preds_mhcflurry_red = []\n",
    "preds_immunobert_red = []\n",
    "\n",
    "for i, peptide in tqdm(enumerate(peptides)):\n",
    "    if peptide not in peptides_train:\n",
    "        hits_red.append(hits[i])\n",
    "        preds_netmhcpan_red.append(preds_netmhcpan[i])\n",
    "        preds_mhcflurry_red.append(preds_mhcflurry[i])\n",
    "        preds_immunobert_red.append(preds_immunobert[i])\n"
   ]
  },
  {
   "cell_type": "code",
   "execution_count": 39,
   "id": "4323d879",
   "metadata": {},
   "outputs": [
    {
     "data": {
      "text/plain": [
       "2781898"
      ]
     },
     "execution_count": 39,
     "metadata": {},
     "output_type": "execute_result"
    }
   ],
   "source": [
    "len(hits_red)"
   ]
  },
  {
   "cell_type": "markdown",
   "id": "9966b8e6",
   "metadata": {},
   "source": [
    "## calculate AP"
   ]
  },
  {
   "cell_type": "code",
   "execution_count": 40,
   "id": "43e5df1a",
   "metadata": {},
   "outputs": [
    {
     "name": "stdout",
     "output_type": "stream",
     "text": [
      "Reduced AP: \n",
      " NetMHCpan:  0.1513\n",
      " MHCflurry:  0.2145\n",
      " ImmunoBERT: 0.1634\n"
     ]
    }
   ],
   "source": [
    "AP_netmhcpan_red = average_precision_score(hits_red, preds_netmhcpan_red)\n",
    "AP_mhcflurry_red = average_precision_score(hits_red, preds_mhcflurry_red)\n",
    "AP_immunobert_red = average_precision_score(hits_red, preds_immunobert_red)\n",
    "\n",
    "print(f\"Reduced AP: \")\n",
    "print(f\" NetMHCpan:  {AP_netmhcpan_red:.4f}\")\n",
    "print(f\" MHCflurry:  {AP_mhcflurry_red:.4f}\")\n",
    "print(f\" ImmunoBERT: {AP_immunobert_red:.4f}\")"
   ]
  },
  {
   "cell_type": "markdown",
   "id": "a8df92c7",
   "metadata": {},
   "source": [
    "## plot PR - curve"
   ]
  },
  {
   "cell_type": "code",
   "execution_count": 41,
   "id": "0135d33c",
   "metadata": {},
   "outputs": [],
   "source": [
    "precision_netmhcpan_red, recall_netmhcpan_red, threshold_netmhcpan_red = precision_recall_curve(hits_red, preds_netmhcpan_red)\n",
    "precision_mhcflurry_red, recall_mhcflurry_red, threshold_mhcflurry_red = precision_recall_curve(hits_red, preds_mhcflurry_red)\n",
    "precision_immunobert_red, recall_immunobert_red, threshold_immunobert_red = precision_recall_curve(hits_red, preds_immunobert_red)"
   ]
  },
  {
   "cell_type": "code",
   "execution_count": 42,
   "id": "a1295dc0",
   "metadata": {},
   "outputs": [],
   "source": [
    "pr_display_netmhcpan_red = PrecisionRecallDisplay(precision=precision_netmhcpan_red, recall=recall_netmhcpan_red)\n",
    "pr_display_mhcflurry_red = PrecisionRecallDisplay(precision=precision_mhcflurry_red, recall=recall_mhcflurry_red)\n",
    "pr_display_immunobert_red = PrecisionRecallDisplay(precision=precision_immunobert_red, recall=recall_immunobert_red)"
   ]
  },
  {
   "cell_type": "code",
   "execution_count": 43,
   "id": "2548a3ea",
   "metadata": {},
   "outputs": [
    {
     "data": {
      "image/png": "[encoded data removed]",
      "text/plain": [
       "<Figure size 432x288 with 1 Axes>"
      ]
     },
     "metadata": {
      "needs_background": "light"
     },
     "output_type": "display_data"
    }
   ],
   "source": [
    "ax = plt.gca()\n",
    "ax.margins(x=0, y=0)\n",
    "h_netmhcpan_red = pr_display_netmhcpan_red.plot(ax=ax, alpha=0.8)\n",
    "h_mhcflurry_red = pr_display_mhcflurry_red.plot(ax=ax, alpha=0.8)\n",
    "h_immunobert_red = pr_display_immunobert_red.plot(ax=ax, alpha=0.8)\n",
    "ax.legend([\"NetMHCpan\", \"MHCflurry\", \"ImmunoBERT\"], fontsize=15)\n",
    "ax.tick_params(axis='x', labelsize=15)\n",
    "ax.tick_params(axis='y', labelsize=15)\n",
    "ax.set_xlabel('Recall', fontsize=15)\n",
    "ax.set_ylabel('Precision', fontsize=15)\n",
    "plt.savefig(f\"{pMHC.OUTPUT_FOLDER}{SEP}benchmark{SEP}PR_red.pdf\")"
   ]
  },
  {
   "cell_type": "markdown",
   "id": "f9d973d4",
   "metadata": {},
   "source": [
    "## calc ROC-AUC"
   ]
  },
  {
   "cell_type": "code",
   "execution_count": 45,
   "id": "41dc4c57",
   "metadata": {},
   "outputs": [
    {
     "name": "stdout",
     "output_type": "stream",
     "text": [
      "ROC-AUC: \n",
      " NetMHCpan:  0.8733\n",
      " MHCflurry:  0.8903\n",
      " ImmunoBERT: 0.8309\n"
     ]
    }
   ],
   "source": [
    "ROC_netmhcpan_red = roc_auc_score(hits_red, preds_netmhcpan_red)\n",
    "ROC_mhcflurry_red = roc_auc_score(hits_red, preds_mhcflurry_red)\n",
    "ROC_immunobert_red = roc_auc_score(hits_red, preds_immunobert_red)\n",
    "\n",
    "print(f\"ROC-AUC: \")\n",
    "print(f\" NetMHCpan:  {ROC_netmhcpan_red:.4f}\")\n",
    "print(f\" MHCflurry:  {ROC_mhcflurry_red:.4f}\")\n",
    "print(f\" ImmunoBERT: {ROC_immunobert_red:.4f}\")"
   ]
  },
  {
   "cell_type": "code",
   "execution_count": null,
   "id": "265d2bc6",
   "metadata": {},
   "outputs": [],
   "source": []
  }
 ],
 "metadata": {
  "kernelspec": {
   "display_name": "Python 3",
   "language": "python",
   "name": "python3"
  },
  "language_info": {
   "codemirror_mode": {
    "name": "ipython",
    "version": 3
   },
   "file_extension": ".py",
   "mimetype": "text/x-python",
   "name": "python",
   "nbconvert_exporter": "python",
   "pygments_lexer": "ipython3",
   "version": "3.8.10"
  },
  "toc": {
   "base_numbering": 1,
   "nav_menu": {},
   "number_sections": true,
   "sideBar": true,
   "skip_h1_title": false,
   "title_cell": "Table of Contents",
   "title_sidebar": "Contents",
   "toc_cell": true,
   "toc_position": {
    "height": "calc(100% - 180px)",
    "left": "10px",
    "top": "150px",
    "width": "359.333px"
   },
   "toc_section_display": true,
   "toc_window_display": true
  }
 },
 "nbformat": 4,
 "nbformat_minor": 5
}
