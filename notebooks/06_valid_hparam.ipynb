{
 "cells": [
  {
   "cell_type": "markdown",
   "id": "0da36322",
   "metadata": {
    "toc": true
   },
   "source": [
    "<h1>Table of Contents<span class=\"tocSkip\"></span></h1>\n",
    "<div class=\"toc\"><ul class=\"toc-item\"><li><span><a href=\"#Generate-validation-prediction-files\" data-toc-modified-id=\"Generate-validation-prediction-files-1\"><span class=\"toc-item-num\">1&nbsp;&nbsp;</span>Generate validation prediction files</a></span></li><li><span><a href=\"#create-metrics-from-validation-files\" data-toc-modified-id=\"create-metrics-from-validation-files-2\"><span class=\"toc-item-num\">2&nbsp;&nbsp;</span>create metrics from validation files</a></span></li></ul></div>"
   ]
  },
  {
   "cell_type": "code",
   "execution_count": 1,
   "id": "8bb717e5",
   "metadata": {},
   "outputs": [],
   "source": [
    "import numpy as np\n",
    "import pandas as pd\n",
    "import pdb\n",
    "from argparse import ArgumentParser\n",
    "import shlex\n",
    "from tqdm import tqdm\n",
    "\n",
    "from pytorch_lightning import Trainer\n",
    "from pytorch_lightning.callbacks import ModelCheckpoint\n",
    "from pytorch_lightning.loggers import TensorBoardLogger\n",
    "\n",
    "from pMHC import OUTPUT_FOLDER, SEP, \\\n",
    "    SPLITS, SPLIT_TRAIN, SPLIT_VAL, SPLIT_TEST, \\\n",
    "    SPLIT_VAL_PROTEINS, SPLIT_TEST_PROTEINS, SPLIT_VAL_MHC_ALLELES, SPLIT_TEST_MHC_ALLELES, \\\n",
    "    VIEWS, VIEW_SA, VIEW_SAMA, VIEW_DECONV, \\\n",
    "    INPUT_PEPTIDE, INPUT_CONTEXT, \\\n",
    "    BENCHMARK_SA, BENCHMARK_MA, \\\n",
    "    VALIDATION_PERFORMANCE_FILENAME, TEST_PERFORMANCE_FILENAME\n",
    "from pMHC.logic import PresentationPredictor\n",
    "from pMHC.data import from_data, to_input\n",
    "from pMHC.data.example import Sample, Peptide, Observation\n",
    "\n",
    "tqdm.pandas()"
   ]
  },
  {
   "cell_type": "code",
   "execution_count": 2,
   "id": "8687652d",
   "metadata": {},
   "outputs": [],
   "source": [
    "import torch\n",
    "\n",
    "from pytorch_lightning.utilities.seed import seed_everything\n",
    "\n",
    "import pMHC\n",
    "from pMHC import POSITIVE_THRESHOLD\n",
    "from pMHC.logic.utils import load_latest, list_versions, validate_checkpoints, predict_checkpoints, evaluate_checkpoints\n",
    "from pMHC.data import from_input\n",
    "from pMHC.data.utils import get_input_rep_PSEUDO, get_input_rep_FULL, convert_examples_to_batch\n",
    "from pMHC.data.mhc_allele import MhcAllele\n",
    "from pMHC.data.protein import Protein"
   ]
  },
  {
   "cell_type": "code",
   "execution_count": 3,
   "id": "aaf5f314",
   "metadata": {},
   "outputs": [],
   "source": [
    "from pMHC.data.split import load_split_mhc_alleles, load_split_proteins\n",
    "from pMHC.data.view import create_views"
   ]
  },
  {
   "cell_type": "code",
   "execution_count": 4,
   "id": "094a21d7",
   "metadata": {},
   "outputs": [
    {
     "name": "stdout",
     "output_type": "stream",
     "text": [
      "Update project folder to: /home/tux/Documents/MScProject\n",
      "Load permutation\n"
     ]
    }
   ],
   "source": [
    "pMHC.set_paths(r\"/home/tux/Documents/MScProject\")"
   ]
  },
  {
   "cell_type": "markdown",
   "id": "f32a10f5",
   "metadata": {},
   "source": [
    "# Generate validation prediction files"
   ]
  },
  {
   "cell_type": "code",
   "execution_count": 5,
   "id": "2b1dfc8b",
   "metadata": {},
   "outputs": [],
   "source": [
    "proportion = 0.1"
   ]
  },
  {
   "cell_type": "code",
   "execution_count": 6,
   "id": "226dcd65",
   "metadata": {},
   "outputs": [],
   "source": [
    "to_assess = [\n",
    "    # (\"hparam_search\", \"CONTEXT-PSEUDO-HEAD_Attn-DECOY_19-LR_0.00001\", \"epoch=0-step=12911\", proportion),\n",
    "    # (\"hparam_search\", \"CONTEXT-PSEUDO-HEAD_Cls-DECOY_19-LR_0.00001\", \"epoch=0-step=12911\", proportion),\n",
    "    # (\"hparam_search\", \"CONTEXT-PSEUDO-HEAD_Avg-DECOY_19-LR_0.00001\", \"epoch=0-step=12911\", proportion),  \n",
    "    \n",
    "    # (\"hparam_search\", \"CONTEXT-PSEUDO-HEAD_Attn-DECOY_19-LR_0.000001\", \"epoch=0-step=12911\", proportion),\n",
    "    # (\"hparam_search\", \"CONTEXT-PSEUDO-HEAD_Cls-DECOY_19-LR_0.000001\", \"epoch=0-step=12911\", proportion),\n",
    "    # (\"hparam_search\", \"CONTEXT-PSEUDO-HEAD_Avg-DECOY_19-LR_0.000001\", \"epoch=0-step=12911\", proportion),  \n",
    "    \n",
    "    # (\"hparam_search\", \"CONTEXT-PSEUDO-HEAD_Attn-DECOY_19-LR_0.0001\", \"epoch=0-step=12911\", proportion),\n",
    "    # (\"hparam_search\", \"CONTEXT-PSEUDO-HEAD_Cls-DECOY_19-LR_0.0001\", \"epoch=0-step=12911\", proportion),\n",
    "    # (\"hparam_search\", \"CONTEXT-PSEUDO-HEAD_Avg-DECOY_19-LR_0.0001\", \"epoch=0-step=12911\", proportion),    \n",
    "    \n",
    "    # (\"hparam_search\", \"CONTEXT-PSEUDO-HEAD_Attn-DECOY_19-LR_0.00001\", \"epoch=4-step=64559\", proportion),\n",
    "    # (\"hparam_search\", \"CONTEXT-PSEUDO-HEAD_Cls-DECOY_19-LR_0.00001\", \"epoch=4-step=64559\", proportion),\n",
    "    # (\"hparam_search\", \"CONTEXT-PSEUDO-HEAD_Avg-DECOY_19-LR_0.00001\", \"epoch=4-step=64559\", proportion),  \n",
    "    \n",
    "    # (\"hparam_search\", \"CONTEXT-PSEUDO-HEAD_Attn-DECOY_19-LR_0.000001\", \"epoch=4-step=64559\", proportion),\n",
    "    # (\"hparam_search\", \"CONTEXT-PSEUDO-HEAD_Cls-DECOY_19-LR_0.000001\", \"epoch=4-step=64559\", proportion),\n",
    "    # (\"hparam_search\", \"CONTEXT-PSEUDO-HEAD_Avg-DECOY_19-LR_0.000001\", \"epoch=4-step=64559\", proportion), \n",
    "    \n",
    "    # (\"hparam_search\", \"CONTEXT-PSEUDO-HEAD_Attn-DECOY_19-LR_0.0001\", \"epoch=4-step=64559\", proportion),\n",
    "    # (\"hparam_search\", \"CONTEXT-PSEUDO-HEAD_Cls-DECOY_19-LR_0.0001\", \"epoch=4-step=64559\", proportion),\n",
    "    # (\"hparam_search\", \"CONTEXT-PSEUDO-HEAD_Avg-DECOY_19-LR_0.0001\", \"epoch=4-step=64559\", proportion),\n",
    "    \n",
    "    # (\"hparam_search\", \"CONTEXT-PSEUDO-HEAD_Attn-DECOY_99-LR_0.00001\", \"epoch=0-step=12911\", proportion),\n",
    "    # (\"hparam_search\", \"CONTEXT-PSEUDO-HEAD_Cls-DECOY_99-LR_0.00001\", \"epoch=0-step=12911\", proportion),\n",
    "    # (\"hparam_search\", \"CONTEXT-PSEUDO-HEAD_Avg-DECOY_99-LR_0.00001\", \"epoch=0-step=12911\", proportion),  \n",
    "    \n",
    "    # (\"hparam_search\", \"CONTEXT-PSEUDO-HEAD_Attn-DECOY_99-LR_0.000001\", \"epoch=0-step=12911\", proportion),\n",
    "    # (\"hparam_search\", \"CONTEXT-PSEUDO-HEAD_Cls-DECOY_99-LR_0.000001\", \"epoch=0-step=12911\", proportion),\n",
    "    # (\"hparam_search\", \"CONTEXT-PSEUDO-HEAD_Avg-DECOY_99-LR_0.000001\", \"epoch=0-step=12911\", proportion),  \n",
    "    \n",
    "    # (\"hparam_search\", \"CONTEXT-PSEUDO-HEAD_Attn-DECOY_99-LR_0.0001\", \"epoch=0-step=12911\", proportion),\n",
    "    # (\"hparam_search\", \"CONTEXT-PSEUDO-HEAD_Cls-DECOY_99-LR_0.0001\", \"epoch=0-step=12911\", proportion),\n",
    "    # (\"hparam_search\", \"CONTEXT-PSEUDO-HEAD_Avg-DECOY_99-LR_0.0001\", \"epoch=0-step=12911\", proportion),    \n",
    "    \n",
    "    (\"hparam_search\", \"CONTEXT-PSEUDO-HEAD_Attn-DECOY_99-LR_0.00001\", \"epoch=0-step=64559\", proportion),\n",
    "    (\"hparam_search\", \"CONTEXT-PSEUDO-HEAD_Cls-DECOY_99-LR_0.00001\", \"epoch=0-step=64559\", proportion),\n",
    "    (\"hparam_search\", \"CONTEXT-PSEUDO-HEAD_Avg-DECOY_99-LR_0.00001\", \"epoch=0-step=64559\", proportion),  \n",
    "    \n",
    "    # (\"hparam_search\", \"CONTEXT-PSEUDO-HEAD_Attn-DECOY_99-LR_0.000001\", \"epoch=0-step=64559\", proportion),\n",
    "    # (\"hparam_search\", \"CONTEXT-PSEUDO-HEAD_Cls-DECOY_99-LR_0.000001\", \"epoch=0-step=64559\", proportion),\n",
    "    # (\"hparam_search\", \"CONTEXT-PSEUDO-HEAD_Avg-DECOY_99-LR_0.000001\", \"epoch=0-step=64559\", proportion), \n",
    "    \n",
    "    # (\"hparam_search\", \"CONTEXT-PSEUDO-HEAD_Attn-DECOY_99-LR_0.0001\", \"epoch=0-step=64559\", proportion),\n",
    "    # (\"hparam_search\", \"CONTEXT-PSEUDO-HEAD_Cls-DECOY_99-LR_0.0001\", \"epoch=0-step=64559\", proportion),\n",
    "    # (\"hparam_search\", \"CONTEXT-PSEUDO-HEAD_Avg-DECOY_99-LR_0.0001\", \"epoch=0-step=64559\", proportion),\n",
    "]\n",
    "\n",
    "to_assess = [\n",
    "    (\"hparam_search\", \"CONTEXT-PSEUDO-HEAD_Attn-DECOY_99-LR_0.000001\", \"epoch=0-step=64559\", proportion),\n",
    "    (\"hparam_search\", \"CONTEXT-PSEUDO-HEAD_Cls-DECOY_99-LR_0.000001\", \"epoch=0-step=64559\", proportion)\n",
    "]"
   ]
  },
  {
   "cell_type": "code",
   "execution_count": 7,
   "id": "ab0e6e1d",
   "metadata": {},
   "outputs": [
    {
     "name": "stdout",
     "output_type": "stream",
     "text": [
      "Validate: /home/tux/Documents/MScProject/output/hparam_search/CONTEXT-PSEUDO-HEAD_Attn-DECOY_99-LR_0.000001/checkpoints/epoch=0-step=64559\n"
     ]
    },
    {
     "name": "stderr",
     "output_type": "stream",
     "text": [
      "Global seed set to 42\n",
      "GPU available: True, used: True\n",
      "TPU available: False, using: 0 TPU cores\n",
      "Global seed set to 42\n"
     ]
    },
    {
     "name": "stdout",
     "output_type": "stream",
     "text": [
      "PresentationPredictor.setup: 2021-07-24 15:35:19\n",
      "MhcAllele.from_input\n"
     ]
    },
    {
     "name": "stderr",
     "output_type": "stream",
     "text": [
      "MhcAlleles from input: 11074it [00:00, 17433.17it/s]\n"
     ]
    },
    {
     "name": "stdout",
     "output_type": "stream",
     "text": [
      "Protein.from_input\n"
     ]
    },
    {
     "name": "stderr",
     "output_type": "stream",
     "text": [
      "Proteins from input: 185930it [00:09, 19558.78it/s]\n"
     ]
    },
    {
     "name": "stdout",
     "output_type": "stream",
     "text": [
      "Sample.from_input\n"
     ]
    },
    {
     "name": "stderr",
     "output_type": "stream",
     "text": [
      "Samples from input: 472it [00:00, 18990.77it/s]\n"
     ]
    },
    {
     "name": "stdout",
     "output_type": "stream",
     "text": [
      "Peptide.from_input\n"
     ]
    },
    {
     "name": "stderr",
     "output_type": "stream",
     "text": [
      "Peptides from input: 429339it [00:22, 19028.23it/s]\n"
     ]
    },
    {
     "name": "stdout",
     "output_type": "stream",
     "text": [
      "Observation.from_input\n"
     ]
    },
    {
     "name": "stderr",
     "output_type": "stream",
     "text": [
      "Observations from input: 1959736it [01:39, 19773.84it/s]\n"
     ]
    },
    {
     "name": "stdout",
     "output_type": "stream",
     "text": [
      "Reduce observations\n"
     ]
    },
    {
     "name": "stderr",
     "output_type": "stream",
     "text": [
      "100%|██████████| 195973/195973 [00:00<00:00, 220788.83it/s]\n"
     ]
    },
    {
     "name": "stdout",
     "output_type": "stream",
     "text": [
      "Decoy.to_input\n",
      "Load decoys for 195974 observations\n",
      "decoys_50000_100000.csv\n",
      "decoys_0_50000.csv\n",
      "decoys_100000_150000.csv\n",
      "decoys_150000_200000.csv\n"
     ]
    },
    {
     "name": "stderr",
     "output_type": "stream",
     "text": [
      "Global seed set to 42\n"
     ]
    },
    {
     "name": "stdout",
     "output_type": "stream",
     "text": [
      "PresentationPredictor.setup finished: 2021-07-24 15:37:44\n",
      "\n",
      "\n",
      "Datasources\n",
      "\n"
     ]
    },
    {
     "name": "stderr",
     "output_type": "stream",
     "text": [
      "Global seed set to 42\n",
      "Global seed set to 42\n"
     ]
    },
    {
     "name": "stdout",
     "output_type": "stream",
     "text": [
      "OBSERVATIONS                        /   MHC/Obs comb\n",
      "   Edi                 :  1,550,250 /      7,209,446\n",
      "   Atlas               :    409,486 /      2,436,897\n",
      "   TOTAL               :  1,959,736 /      9,646,343\n",
      "\n",
      "\n",
      "\n",
      "\n",
      "Splits\n",
      "\n",
      "OBSERVATIONS                          SA            SAMA          Deconv\n",
      "   train               :           20,659         140,792         673,075\n",
      "   val                 :            3,338          27,612         131,327\n",
      "   test                :            5,385          27,569         130,791\n",
      "   val-prot            :              986           6,943          33,483\n",
      "   test-prot           :            1,101           6,945          32,751\n",
      "   val-mhc             :            2,352          20,669          97,844\n",
      "   test-mhc            :            4,284          20,624          98,040\n",
      "\n",
      "\n",
      "\n",
      "Dataloaders\n",
      "\n",
      "EXAMPLES\n",
      "\n",
      "   train               \n",
      "      SA               :  2,065,900 /         64,559\n",
      "      SAMA             : 14,079,200 /        439,975\n",
      "      Deconv           :    673,075 /         21,033\n",
      "   val                 \n",
      "      SA               :    333,800 /         10,431\n",
      "      SAMA             :  2,761,200 /         86,287\n",
      "      Deconv           :    131,327 /          4,103\n",
      "   test                \n",
      "      SA               :    538,500 /         16,828\n",
      "      SAMA             :  2,756,900 /         86,153\n",
      "      Deconv           :    130,791 /          4,087\n",
      "   val-prot            \n",
      "      SA               :     98,600 /          3,081\n",
      "      SAMA             :    694,300 /         21,696\n",
      "      Deconv           :     33,483 /          1,046\n",
      "   test-prot           \n",
      "      SA               :    110,100 /          3,440\n",
      "      SAMA             :    694,500 /         21,703\n",
      "      Deconv           :     32,751 /          1,023\n",
      "   val-mhc             \n",
      "      SA               :    235,200 /          7,350\n",
      "      SAMA             :  2,066,900 /         64,590\n",
      "      Deconv           :     97,844 /          3,057\n",
      "   test-mhc            \n",
      "      SA               :    428,400 /         13,387\n",
      "      SAMA             :  2,062,400 /         64,450\n",
      "      Deconv           :     98,040 /          3,063\n",
      "PresentationPredictor.setup: 2021-07-24 15:37:44\n",
      "PresentationPredictor.setup finished: 2021-07-24 15:37:44\n",
      "\n",
      "\n",
      "Datasources\n",
      "\n"
     ]
    },
    {
     "name": "stderr",
     "output_type": "stream",
     "text": [
      "LOCAL_RANK: 0 - CUDA_VISIBLE_DEVICES: [0]\n"
     ]
    },
    {
     "name": "stdout",
     "output_type": "stream",
     "text": [
      "OBSERVATIONS                        /   MHC/Obs comb\n",
      "   Edi                 :  1,550,250 /      7,209,446\n",
      "   Atlas               :    409,486 /      2,436,897\n",
      "   TOTAL               :  1,959,736 /      9,646,343\n",
      "\n",
      "\n",
      "\n",
      "\n",
      "Splits\n",
      "\n",
      "OBSERVATIONS                          SA            SAMA          Deconv\n",
      "   train               :           20,659         140,792         673,075\n",
      "   val                 :            3,338          27,612         131,327\n",
      "   test                :            5,385          27,569         130,791\n",
      "   val-prot            :              986           6,943          33,483\n",
      "   test-prot           :            1,101           6,945          32,751\n",
      "   val-mhc             :            2,352          20,669          97,844\n",
      "   test-mhc            :            4,284          20,624          98,040\n",
      "\n",
      "\n",
      "\n",
      "Dataloaders\n",
      "\n",
      "EXAMPLES\n",
      "\n",
      "   train               \n",
      "      SA               :  2,065,900 /         64,559\n",
      "      SAMA             : 14,079,200 /        439,975\n",
      "      Deconv           :    673,075 /         21,033\n",
      "   val                 \n",
      "      SA               :    333,800 /         10,431\n",
      "      SAMA             :  2,761,200 /         86,287\n",
      "      Deconv           :    131,327 /          4,103\n",
      "   test                \n",
      "      SA               :    538,500 /         16,828\n",
      "      SAMA             :  2,756,900 /         86,153\n",
      "      Deconv           :    130,791 /          4,087\n",
      "   val-prot            \n",
      "      SA               :     98,600 /          3,081\n",
      "      SAMA             :    694,300 /         21,696\n",
      "      Deconv           :     33,483 /          1,046\n",
      "   test-prot           \n",
      "      SA               :    110,100 /          3,440\n",
      "      SAMA             :    694,500 /         21,703\n",
      "      Deconv           :     32,751 /          1,023\n",
      "   val-mhc             \n",
      "      SA               :    235,200 /          7,350\n",
      "      SAMA             :  2,066,900 /         64,590\n",
      "      Deconv           :     97,844 /          3,057\n",
      "   test-mhc            \n",
      "      SA               :    428,400 /         13,387\n",
      "      SAMA             :  2,062,400 /         64,450\n",
      "      Deconv           :     98,040 /          3,063\n"
     ]
    },
    {
     "name": "stderr",
     "output_type": "stream",
     "text": [
      "/home/tux/miniconda3/envs/MScProject/lib/python3.8/site-packages/pytorch_lightning/trainer/data_loading.py:102: UserWarning: The dataloader, test dataloader 0, does not have many workers which may be a bottleneck. Consider increasing the value of the `num_workers` argument` (try 16 which is the number of cpus on this machine) in the `DataLoader` init to improve performance.\n",
      "  rank_zero_warn(\n"
     ]
    },
    {
     "data": {
      "application/vnd.jupyter.widget-view+json": {
       "model_id": "33f26ce3a12346d7883d1c713f35ebac",
       "version_major": 2,
       "version_minor": 0
      },
      "text/plain": [
       "Testing: 0it [00:00, ?it/s]"
      ]
     },
     "metadata": {},
     "output_type": "display_data"
    },
    {
     "name": "stdout",
     "output_type": "stream",
     "text": [
      "   val: tp... 0, tn... 31, fp... 0, fn... 1\n",
      "   val: tp... 0, tn... 31711, fp... 0, fn... 321\n",
      "   val: tp... 0, tn... 63391, fp... 0, fn... 641\n",
      "   val: tp... 1, tn... 95071, fp... 0, fn... 960\n",
      "   val: tp... 1, tn... 126751, fp... 0, fn... 1280\n",
      "   val: tp... 2, tn... 158430, fp... 1, fn... 1599\n",
      "   val: tp... 2, tn... 190110, fp... 1, fn... 1919\n",
      "   val: tp... 3, tn... 221790, fp... 1, fn... 2238\n",
      "   val: tp... 3, tn... 253470, fp... 1, fn... 2558\n",
      "   val: tp... 3, tn... 285150, fp... 1, fn... 2878\n",
      "   val: tp... 3, tn... 316830, fp... 1, fn... 3198\n",
      "PresentationPredictor: test_epoch_end - SA \n",
      "   val: tp... 3, tn... 330461, fp... 1, fn... 3335\n",
      "--------------------------------------------------------------------------------\n",
      "DATALOADER:0 TEST RESULTS\n",
      "{'val_Accuracy': 0.9900059700012207,\n",
      " 'val_Precision': 0.75,\n",
      " 'val_Recall': 0.0008987417677417397,\n",
      " 'val_fn': 3335.0,\n",
      " 'val_fp': 1.0,\n",
      " 'val_loss': 0.051798805594444275,\n",
      " 'val_tn': 330461.0,\n",
      " 'val_tp': 3.0}\n",
      "--------------------------------------------------------------------------------\n",
      "Validate: /home/tux/Documents/MScProject/output/hparam_search/CONTEXT-PSEUDO-HEAD_Cls-DECOY_99-LR_0.000001/checkpoints/epoch=0-step=64559\n"
     ]
    },
    {
     "name": "stderr",
     "output_type": "stream",
     "text": [
      "Global seed set to 42\n",
      "GPU available: True, used: True\n",
      "TPU available: False, using: 0 TPU cores\n",
      "Global seed set to 42\n",
      "Global seed set to 42\n"
     ]
    },
    {
     "name": "stdout",
     "output_type": "stream",
     "text": [
      "PresentationPredictor.setup: 2021-07-24 15:46:56\n",
      "PresentationPredictor.setup finished: 2021-07-24 15:46:56\n",
      "\n",
      "\n",
      "Datasources\n",
      "\n"
     ]
    },
    {
     "name": "stderr",
     "output_type": "stream",
     "text": [
      "Global seed set to 42\n",
      "Global seed set to 42\n"
     ]
    },
    {
     "name": "stdout",
     "output_type": "stream",
     "text": [
      "OBSERVATIONS                        /   MHC/Obs comb\n",
      "   Edi                 :  1,550,250 /      7,209,446\n",
      "   Atlas               :    409,486 /      2,436,897\n",
      "   TOTAL               :  1,959,736 /      9,646,343\n",
      "\n",
      "\n",
      "\n",
      "\n",
      "Splits\n",
      "\n",
      "OBSERVATIONS                          SA            SAMA          Deconv\n",
      "   train               :           20,659         140,792         673,075\n",
      "   val                 :            3,338          27,612         131,327\n",
      "   test                :            5,385          27,569         130,791\n",
      "   val-prot            :              986           6,943          33,483\n",
      "   test-prot           :            1,101           6,945          32,751\n",
      "   val-mhc             :            2,352          20,669          97,844\n",
      "   test-mhc            :            4,284          20,624          98,040\n",
      "\n",
      "\n",
      "\n",
      "Dataloaders\n",
      "\n",
      "EXAMPLES\n",
      "\n",
      "   train               \n",
      "      SA               :  2,065,900 /         64,559\n",
      "      SAMA             : 14,079,200 /        439,975\n",
      "      Deconv           :    673,075 /         21,033\n",
      "   val                 \n",
      "      SA               :    333,800 /         10,431\n",
      "      SAMA             :  2,761,200 /         86,287\n",
      "      Deconv           :    131,327 /          4,103\n",
      "   test                \n",
      "      SA               :    538,500 /         16,828\n",
      "      SAMA             :  2,756,900 /         86,153\n",
      "      Deconv           :    130,791 /          4,087\n",
      "   val-prot            \n",
      "      SA               :     98,600 /          3,081\n",
      "      SAMA             :    694,300 /         21,696\n",
      "      Deconv           :     33,483 /          1,046\n",
      "   test-prot           \n",
      "      SA               :    110,100 /          3,440\n",
      "      SAMA             :    694,500 /         21,703\n",
      "      Deconv           :     32,751 /          1,023\n",
      "   val-mhc             \n",
      "      SA               :    235,200 /          7,350\n",
      "      SAMA             :  2,066,900 /         64,590\n",
      "      Deconv           :     97,844 /          3,057\n",
      "   test-mhc            \n",
      "      SA               :    428,400 /         13,387\n",
      "      SAMA             :  2,062,400 /         64,450\n",
      "      Deconv           :     98,040 /          3,063\n",
      "PresentationPredictor.setup: 2021-07-24 15:46:57\n",
      "PresentationPredictor.setup finished: 2021-07-24 15:46:57\n",
      "\n",
      "\n",
      "Datasources\n",
      "\n"
     ]
    },
    {
     "name": "stderr",
     "output_type": "stream",
     "text": [
      "LOCAL_RANK: 0 - CUDA_VISIBLE_DEVICES: [0]\n"
     ]
    },
    {
     "name": "stdout",
     "output_type": "stream",
     "text": [
      "OBSERVATIONS                        /   MHC/Obs comb\n",
      "   Edi                 :  1,550,250 /      7,209,446\n",
      "   Atlas               :    409,486 /      2,436,897\n",
      "   TOTAL               :  1,959,736 /      9,646,343\n",
      "\n",
      "\n",
      "\n",
      "\n",
      "Splits\n",
      "\n",
      "OBSERVATIONS                          SA            SAMA          Deconv\n",
      "   train               :           20,659         140,792         673,075\n",
      "   val                 :            3,338          27,612         131,327\n",
      "   test                :            5,385          27,569         130,791\n",
      "   val-prot            :              986           6,943          33,483\n",
      "   test-prot           :            1,101           6,945          32,751\n",
      "   val-mhc             :            2,352          20,669          97,844\n",
      "   test-mhc            :            4,284          20,624          98,040\n",
      "\n",
      "\n",
      "\n",
      "Dataloaders\n",
      "\n",
      "EXAMPLES\n",
      "\n",
      "   train               \n",
      "      SA               :  2,065,900 /         64,559\n",
      "      SAMA             : 14,079,200 /        439,975\n",
      "      Deconv           :    673,075 /         21,033\n",
      "   val                 \n",
      "      SA               :    333,800 /         10,431\n",
      "      SAMA             :  2,761,200 /         86,287\n",
      "      Deconv           :    131,327 /          4,103\n",
      "   test                \n",
      "      SA               :    538,500 /         16,828\n",
      "      SAMA             :  2,756,900 /         86,153\n",
      "      Deconv           :    130,791 /          4,087\n",
      "   val-prot            \n",
      "      SA               :     98,600 /          3,081\n",
      "      SAMA             :    694,300 /         21,696\n",
      "      Deconv           :     33,483 /          1,046\n",
      "   test-prot           \n",
      "      SA               :    110,100 /          3,440\n",
      "      SAMA             :    694,500 /         21,703\n",
      "      Deconv           :     32,751 /          1,023\n",
      "   val-mhc             \n",
      "      SA               :    235,200 /          7,350\n",
      "      SAMA             :  2,066,900 /         64,590\n",
      "      Deconv           :     97,844 /          3,057\n",
      "   test-mhc            \n",
      "      SA               :    428,400 /         13,387\n",
      "      SAMA             :  2,062,400 /         64,450\n",
      "      Deconv           :     98,040 /          3,063\n"
     ]
    },
    {
     "data": {
      "application/vnd.jupyter.widget-view+json": {
       "model_id": "0612191960f34f5fa6d860aa48b600ab",
       "version_major": 2,
       "version_minor": 0
      },
      "text/plain": [
       "Testing: 0it [00:00, ?it/s]"
      ]
     },
     "metadata": {},
     "output_type": "display_data"
    },
    {
     "name": "stdout",
     "output_type": "stream",
     "text": [
      "   val: tp... 0, tn... 31, fp... 0, fn... 1\n",
      "   val: tp... 1, tn... 31711, fp... 0, fn... 320\n",
      "   val: tp... 1, tn... 63389, fp... 2, fn... 640\n",
      "   val: tp... 4, tn... 95068, fp... 3, fn... 957\n",
      "   val: tp... 5, tn... 126748, fp... 3, fn... 1276\n",
      "   val: tp... 6, tn... 158427, fp... 4, fn... 1595\n",
      "   val: tp... 6, tn... 190107, fp... 4, fn... 1915\n",
      "   val: tp... 7, tn... 221786, fp... 5, fn... 2234\n",
      "   val: tp... 8, tn... 253466, fp... 5, fn... 2553\n",
      "   val: tp... 8, tn... 285146, fp... 5, fn... 2873\n",
      "   val: tp... 8, tn... 316826, fp... 5, fn... 3193\n",
      "PresentationPredictor: test_epoch_end - SA \n",
      "   val: tp... 8, tn... 330456, fp... 6, fn... 3330\n",
      "--------------------------------------------------------------------------------\n",
      "DATALOADER:0 TEST RESULTS\n",
      "{'val_Accuracy': 0.9900059700012207,\n",
      " 'val_Precision': 0.5714285969734192,\n",
      " 'val_Recall': 0.0023966447915881872,\n",
      " 'val_fn': 3330.0,\n",
      " 'val_fp': 6.0,\n",
      " 'val_loss': 0.05223966762423515,\n",
      " 'val_tn': 330456.0,\n",
      " 'val_tp': 8.0}\n",
      "--------------------------------------------------------------------------------\n"
     ]
    }
   ],
   "source": [
    "predict_checkpoints(to_assess, SPLIT_VAL, VIEW_SA)"
   ]
  },
  {
   "cell_type": "markdown",
   "id": "2782ad20",
   "metadata": {},
   "source": [
    "# create metrics from validation files"
   ]
  },
  {
   "cell_type": "code",
   "execution_count": 5,
   "id": "c7977eac",
   "metadata": {},
   "outputs": [],
   "source": [
    "proportion = 0.1"
   ]
  },
  {
   "cell_type": "code",
   "execution_count": 6,
   "id": "044a57d4",
   "metadata": {
    "scrolled": true
   },
   "outputs": [
    {
     "name": "stdout",
     "output_type": "stream",
     "text": [
      "MhcAllele.from_input\n"
     ]
    },
    {
     "name": "stderr",
     "output_type": "stream",
     "text": [
      "MhcAlleles from input: 11074it [00:00, 17831.10it/s]\n"
     ]
    },
    {
     "name": "stdout",
     "output_type": "stream",
     "text": [
      "Protein.from_input\n"
     ]
    },
    {
     "name": "stderr",
     "output_type": "stream",
     "text": [
      "Proteins from input: 185930it [00:09, 19331.21it/s]\n"
     ]
    },
    {
     "name": "stdout",
     "output_type": "stream",
     "text": [
      "Sample.from_input\n"
     ]
    },
    {
     "name": "stderr",
     "output_type": "stream",
     "text": [
      "Samples from input: 472it [00:00, 18667.89it/s]\n"
     ]
    },
    {
     "name": "stdout",
     "output_type": "stream",
     "text": [
      "Peptide.from_input\n"
     ]
    },
    {
     "name": "stderr",
     "output_type": "stream",
     "text": [
      "Peptides from input: 429339it [00:22, 18743.10it/s]\n"
     ]
    },
    {
     "name": "stdout",
     "output_type": "stream",
     "text": [
      "Observation.from_input\n"
     ]
    },
    {
     "name": "stderr",
     "output_type": "stream",
     "text": [
      "Observations from input: 1959736it [01:42, 19074.41it/s]\n"
     ]
    },
    {
     "name": "stdout",
     "output_type": "stream",
     "text": [
      "Reduce observations\n"
     ]
    },
    {
     "name": "stderr",
     "output_type": "stream",
     "text": [
      "100%|██████████| 195973/195973 [00:00<00:00, 212992.81it/s]\n"
     ]
    },
    {
     "name": "stdout",
     "output_type": "stream",
     "text": [
      "Decoy.to_input\n",
      "Load decoys for 195974 observations\n",
      "decoys_50000_100000.csv\n",
      "decoys_0_50000.csv\n",
      "decoys_100000_150000.csv\n",
      "decoys_150000_200000.csv\n"
     ]
    }
   ],
   "source": [
    "pMHC.data.setup_system(proportion, 99)"
   ]
  },
  {
   "cell_type": "code",
   "execution_count": 7,
   "id": "e7d643db",
   "metadata": {},
   "outputs": [],
   "source": [
    "to_assess = [\n",
    "    (\"hparam_search\", \"CONTEXT-PSEUDO-HEAD_Attn-DECOY_19-LR_0.00001\", \"epoch=0-step=12911\", proportion),\n",
    "    (\"hparam_search\", \"CONTEXT-PSEUDO-HEAD_Cls-DECOY_19-LR_0.00001\", \"epoch=0-step=12911\", proportion),\n",
    "    (\"hparam_search\", \"CONTEXT-PSEUDO-HEAD_Avg-DECOY_19-LR_0.00001\", \"epoch=0-step=12911\", proportion),  \n",
    "    \n",
    "    # (\"hparam_search\", \"CONTEXT-PSEUDO-HEAD_Attn-DECOY_19-LR_0.000001\", \"epoch=0-step=12911\", proportion),\n",
    "    # (\"hparam_search\", \"CONTEXT-PSEUDO-HEAD_Cls-DECOY_19-LR_0.000001\", \"epoch=0-step=12911\", proportion),\n",
    "    # (\"hparam_search\", \"CONTEXT-PSEUDO-HEAD_Avg-DECOY_19-LR_0.000001\", \"epoch=0-step=12911\", proportion),  \n",
    "    \n",
    "    # (\"hparam_search\", \"CONTEXT-PSEUDO-HEAD_Attn-DECOY_19-LR_0.0001\", \"epoch=0-step=12911\", proportion),\n",
    "    # (\"hparam_search\", \"CONTEXT-PSEUDO-HEAD_Cls-DECOY_19-LR_0.0001\", \"epoch=0-step=12911\", proportion),\n",
    "    # (\"hparam_search\", \"CONTEXT-PSEUDO-HEAD_Avg-DECOY_19-LR_0.0001\", \"epoch=0-step=12911\", proportion),    \n",
    "    \n",
    "    (\"hparam_search\", \"CONTEXT-PSEUDO-HEAD_Attn-DECOY_19-LR_0.00001\", \"epoch=4-step=64559\", proportion),\n",
    "    (\"hparam_search\", \"CONTEXT-PSEUDO-HEAD_Cls-DECOY_19-LR_0.00001\", \"epoch=4-step=64559\", proportion),\n",
    "    (\"hparam_search\", \"CONTEXT-PSEUDO-HEAD_Avg-DECOY_19-LR_0.00001\", \"epoch=4-step=64559\", proportion),  \n",
    "    \n",
    "    # (\"hparam_search\", \"CONTEXT-PSEUDO-HEAD_Attn-DECOY_19-LR_0.000001\", \"epoch=4-step=64559\", proportion),\n",
    "    # (\"hparam_search\", \"CONTEXT-PSEUDO-HEAD_Cls-DECOY_19-LR_0.000001\", \"epoch=4-step=64559\", proportion),\n",
    "    # (\"hparam_search\", \"CONTEXT-PSEUDO-HEAD_Avg-DECOY_19-LR_0.000001\", \"epoch=4-step=64559\", proportion), \n",
    "    \n",
    "    # (\"hparam_search\", \"CONTEXT-PSEUDO-HEAD_Attn-DECOY_19-LR_0.0001\", \"epoch=4-step=64559\", proportion),\n",
    "    # (\"hparam_search\", \"CONTEXT-PSEUDO-HEAD_Cls-DECOY_19-LR_0.0001\", \"epoch=4-step=64559\", proportion),\n",
    "    # (\"hparam_search\", \"CONTEXT-PSEUDO-HEAD_Avg-DECOY_19-LR_0.0001\", \"epoch=4-step=64559\", proportion),\n",
    "    \n",
    "    (\"hparam_search\", \"CONTEXT-PSEUDO-HEAD_Attn-DECOY_99-LR_0.00001\", \"epoch=0-step=12911\", proportion),\n",
    "    (\"hparam_search\", \"CONTEXT-PSEUDO-HEAD_Cls-DECOY_99-LR_0.00001\", \"epoch=0-step=12911\", proportion),\n",
    "    (\"hparam_search\", \"CONTEXT-PSEUDO-HEAD_Avg-DECOY_99-LR_0.00001\", \"epoch=0-step=12911\", proportion),  \n",
    "    \n",
    "    # (\"hparam_search\", \"CONTEXT-PSEUDO-HEAD_Attn-DECOY_99-LR_0.000001\", \"epoch=0-step=12911\", proportion),\n",
    "    # (\"hparam_search\", \"CONTEXT-PSEUDO-HEAD_Cls-DECOY_99-LR_0.000001\", \"epoch=0-step=12911\", proportion),\n",
    "    # (\"hparam_search\", \"CONTEXT-PSEUDO-HEAD_Avg-DECOY_99-LR_0.000001\", \"epoch=0-step=12911\", proportion),  \n",
    "    \n",
    "    # (\"hparam_search\", \"CONTEXT-PSEUDO-HEAD_Attn-DECOY_99-LR_0.0001\", \"epoch=0-step=12911\", proportion),\n",
    "    # (\"hparam_search\", \"CONTEXT-PSEUDO-HEAD_Cls-DECOY_99-LR_0.0001\", \"epoch=0-step=12911\", proportion),\n",
    "    # (\"hparam_search\", \"CONTEXT-PSEUDO-HEAD_Avg-DECOY_99-LR_0.0001\", \"epoch=0-step=12911\", proportion),    \n",
    "    \n",
    "    (\"hparam_search\", \"CONTEXT-PSEUDO-HEAD_Attn-DECOY_99-LR_0.00001\", \"epoch=0-step=64559\", proportion),\n",
    "    (\"hparam_search\", \"CONTEXT-PSEUDO-HEAD_Cls-DECOY_99-LR_0.00001\", \"epoch=0-step=64559\", proportion),\n",
    "    (\"hparam_search\", \"CONTEXT-PSEUDO-HEAD_Avg-DECOY_99-LR_0.00001\", \"epoch=0-step=64559\", proportion),  \n",
    "    \n",
    "    # (\"hparam_search\", \"CONTEXT-PSEUDO-HEAD_Attn-DECOY_99-LR_0.000001\", \"epoch=0-step=64559\", proportion),\n",
    "    # (\"hparam_search\", \"CONTEXT-PSEUDO-HEAD_Cls-DECOY_99-LR_0.000001\", \"epoch=0-step=64559\", proportion),\n",
    "    # (\"hparam_search\", \"CONTEXT-PSEUDO-HEAD_Avg-DECOY_99-LR_0.000001\", \"epoch=0-step=64559\", proportion), \n",
    "    \n",
    "    # (\"hparam_search\", \"CONTEXT-PSEUDO-HEAD_Attn-DECOY_99-LR_0.0001\", \"epoch=0-step=64559\", proportion),\n",
    "    # (\"hparam_search\", \"CONTEXT-PSEUDO-HEAD_Cls-DECOY_99-LR_0.0001\", \"epoch=0-step=64559\", proportion),\n",
    "    # (\"hparam_search\", \"CONTEXT-PSEUDO-HEAD_Avg-DECOY_99-LR_0.0001\", \"epoch=0-step=64559\", proportion),\n",
    "]"
   ]
  },
  {
   "cell_type": "code",
   "execution_count": 8,
   "id": "476f1c3f",
   "metadata": {},
   "outputs": [
    {
     "name": "stdout",
     "output_type": "stream",
     "text": [
      "Load: hparam_search_CONTEXT-PSEUDO-HEAD_Attn-DECOY_19-LR_0.00001_epoch=0-step=12911_0.1 - val-prot - SA\n"
     ]
    },
    {
     "name": "stderr",
     "output_type": "stream",
     "text": [
      "100%|██████████| 333800/333800 [00:05<00:00, 65279.65it/s]\n"
     ]
    },
    {
     "name": "stdout",
     "output_type": "stream",
     "text": [
      "Load: hparam_search_CONTEXT-PSEUDO-HEAD_Attn-DECOY_19-LR_0.00001_epoch=0-step=12911_0.1 - val-mhc - SA\n"
     ]
    },
    {
     "name": "stderr",
     "output_type": "stream",
     "text": [
      "100%|██████████| 333800/333800 [00:10<00:00, 32081.86it/s]\n"
     ]
    },
    {
     "name": "stdout",
     "output_type": "stream",
     "text": [
      "Load: hparam_search_CONTEXT-PSEUDO-HEAD_Cls-DECOY_19-LR_0.00001_epoch=0-step=12911_0.1 - val-prot - SA\n"
     ]
    },
    {
     "name": "stderr",
     "output_type": "stream",
     "text": [
      "100%|██████████| 333800/333800 [00:05<00:00, 64753.83it/s]\n"
     ]
    },
    {
     "name": "stdout",
     "output_type": "stream",
     "text": [
      "Load: hparam_search_CONTEXT-PSEUDO-HEAD_Cls-DECOY_19-LR_0.00001_epoch=0-step=12911_0.1 - val-mhc - SA\n"
     ]
    },
    {
     "name": "stderr",
     "output_type": "stream",
     "text": [
      "100%|██████████| 333800/333800 [00:10<00:00, 32244.73it/s]\n"
     ]
    },
    {
     "name": "stdout",
     "output_type": "stream",
     "text": [
      "Load: hparam_search_CONTEXT-PSEUDO-HEAD_Avg-DECOY_19-LR_0.00001_epoch=0-step=12911_0.1 - val-prot - SA\n"
     ]
    },
    {
     "name": "stderr",
     "output_type": "stream",
     "text": [
      "100%|██████████| 333800/333800 [00:05<00:00, 64963.95it/s]\n"
     ]
    },
    {
     "name": "stdout",
     "output_type": "stream",
     "text": [
      "Load: hparam_search_CONTEXT-PSEUDO-HEAD_Avg-DECOY_19-LR_0.00001_epoch=0-step=12911_0.1 - val-mhc - SA\n"
     ]
    },
    {
     "name": "stderr",
     "output_type": "stream",
     "text": [
      "100%|██████████| 333800/333800 [00:10<00:00, 32200.53it/s]\n"
     ]
    },
    {
     "name": "stdout",
     "output_type": "stream",
     "text": [
      "Load: hparam_search_CONTEXT-PSEUDO-HEAD_Attn-DECOY_19-LR_0.00001_epoch=4-step=64559_0.1 - val-prot - SA\n"
     ]
    },
    {
     "name": "stderr",
     "output_type": "stream",
     "text": [
      "100%|██████████| 333800/333800 [00:05<00:00, 64925.95it/s]\n"
     ]
    },
    {
     "name": "stdout",
     "output_type": "stream",
     "text": [
      "Load: hparam_search_CONTEXT-PSEUDO-HEAD_Attn-DECOY_19-LR_0.00001_epoch=4-step=64559_0.1 - val-mhc - SA\n"
     ]
    },
    {
     "name": "stderr",
     "output_type": "stream",
     "text": [
      "100%|██████████| 333800/333800 [00:10<00:00, 32252.04it/s]\n"
     ]
    },
    {
     "name": "stdout",
     "output_type": "stream",
     "text": [
      "Load: hparam_search_CONTEXT-PSEUDO-HEAD_Cls-DECOY_19-LR_0.00001_epoch=4-step=64559_0.1 - val-prot - SA\n"
     ]
    },
    {
     "name": "stderr",
     "output_type": "stream",
     "text": [
      "100%|██████████| 333800/333800 [00:05<00:00, 64984.99it/s]\n"
     ]
    },
    {
     "name": "stdout",
     "output_type": "stream",
     "text": [
      "Load: hparam_search_CONTEXT-PSEUDO-HEAD_Cls-DECOY_19-LR_0.00001_epoch=4-step=64559_0.1 - val-mhc - SA\n"
     ]
    },
    {
     "name": "stderr",
     "output_type": "stream",
     "text": [
      "100%|██████████| 333800/333800 [00:10<00:00, 32195.22it/s]\n"
     ]
    },
    {
     "name": "stdout",
     "output_type": "stream",
     "text": [
      "Load: hparam_search_CONTEXT-PSEUDO-HEAD_Avg-DECOY_19-LR_0.00001_epoch=4-step=64559_0.1 - val-prot - SA\n"
     ]
    },
    {
     "name": "stderr",
     "output_type": "stream",
     "text": [
      "100%|██████████| 333800/333800 [00:05<00:00, 64609.42it/s]\n"
     ]
    },
    {
     "name": "stdout",
     "output_type": "stream",
     "text": [
      "Load: hparam_search_CONTEXT-PSEUDO-HEAD_Avg-DECOY_19-LR_0.00001_epoch=4-step=64559_0.1 - val-mhc - SA\n"
     ]
    },
    {
     "name": "stderr",
     "output_type": "stream",
     "text": [
      "100%|██████████| 333800/333800 [00:10<00:00, 32156.15it/s]\n"
     ]
    },
    {
     "name": "stdout",
     "output_type": "stream",
     "text": [
      "Load: hparam_search_CONTEXT-PSEUDO-HEAD_Attn-DECOY_99-LR_0.00001_epoch=0-step=12911_0.1 - val-prot - SA\n"
     ]
    },
    {
     "name": "stderr",
     "output_type": "stream",
     "text": [
      "100%|██████████| 333800/333800 [00:05<00:00, 64916.39it/s]\n"
     ]
    },
    {
     "name": "stdout",
     "output_type": "stream",
     "text": [
      "Load: hparam_search_CONTEXT-PSEUDO-HEAD_Attn-DECOY_99-LR_0.00001_epoch=0-step=12911_0.1 - val-mhc - SA\n"
     ]
    },
    {
     "name": "stderr",
     "output_type": "stream",
     "text": [
      "100%|██████████| 333800/333800 [00:10<00:00, 32099.29it/s]\n"
     ]
    },
    {
     "name": "stdout",
     "output_type": "stream",
     "text": [
      "Load: hparam_search_CONTEXT-PSEUDO-HEAD_Cls-DECOY_99-LR_0.00001_epoch=0-step=12911_0.1 - val-prot - SA\n"
     ]
    },
    {
     "name": "stderr",
     "output_type": "stream",
     "text": [
      "100%|██████████| 333800/333800 [00:05<00:00, 65066.83it/s]\n"
     ]
    },
    {
     "name": "stdout",
     "output_type": "stream",
     "text": [
      "Load: hparam_search_CONTEXT-PSEUDO-HEAD_Cls-DECOY_99-LR_0.00001_epoch=0-step=12911_0.1 - val-mhc - SA\n"
     ]
    },
    {
     "name": "stderr",
     "output_type": "stream",
     "text": [
      "100%|██████████| 333800/333800 [00:10<00:00, 32049.82it/s]\n"
     ]
    },
    {
     "name": "stdout",
     "output_type": "stream",
     "text": [
      "Load: hparam_search_CONTEXT-PSEUDO-HEAD_Avg-DECOY_99-LR_0.00001_epoch=0-step=12911_0.1 - val-prot - SA\n"
     ]
    },
    {
     "name": "stderr",
     "output_type": "stream",
     "text": [
      "100%|██████████| 333800/333800 [00:05<00:00, 64879.74it/s]\n"
     ]
    },
    {
     "name": "stdout",
     "output_type": "stream",
     "text": [
      "Load: hparam_search_CONTEXT-PSEUDO-HEAD_Avg-DECOY_99-LR_0.00001_epoch=0-step=12911_0.1 - val-mhc - SA\n"
     ]
    },
    {
     "name": "stderr",
     "output_type": "stream",
     "text": [
      "100%|██████████| 333800/333800 [00:10<00:00, 32089.00it/s]\n"
     ]
    },
    {
     "name": "stdout",
     "output_type": "stream",
     "text": [
      "Load: hparam_search_CONTEXT-PSEUDO-HEAD_Attn-DECOY_99-LR_0.00001_epoch=0-step=64559_0.1 - val-prot - SA\n"
     ]
    },
    {
     "name": "stderr",
     "output_type": "stream",
     "text": [
      "100%|██████████| 333800/333800 [00:05<00:00, 64946.43it/s]\n"
     ]
    },
    {
     "name": "stdout",
     "output_type": "stream",
     "text": [
      "Load: hparam_search_CONTEXT-PSEUDO-HEAD_Attn-DECOY_99-LR_0.00001_epoch=0-step=64559_0.1 - val-mhc - SA\n"
     ]
    },
    {
     "name": "stderr",
     "output_type": "stream",
     "text": [
      "100%|██████████| 333800/333800 [00:10<00:00, 32126.28it/s]\n"
     ]
    },
    {
     "name": "stdout",
     "output_type": "stream",
     "text": [
      "Load: hparam_search_CONTEXT-PSEUDO-HEAD_Cls-DECOY_99-LR_0.00001_epoch=0-step=64559_0.1 - val-prot - SA\n"
     ]
    },
    {
     "name": "stderr",
     "output_type": "stream",
     "text": [
      "100%|██████████| 333800/333800 [00:05<00:00, 65333.91it/s]\n"
     ]
    },
    {
     "name": "stdout",
     "output_type": "stream",
     "text": [
      "Load: hparam_search_CONTEXT-PSEUDO-HEAD_Cls-DECOY_99-LR_0.00001_epoch=0-step=64559_0.1 - val-mhc - SA\n"
     ]
    },
    {
     "name": "stderr",
     "output_type": "stream",
     "text": [
      "100%|██████████| 333800/333800 [00:10<00:00, 32410.03it/s]\n"
     ]
    },
    {
     "name": "stdout",
     "output_type": "stream",
     "text": [
      "Load: hparam_search_CONTEXT-PSEUDO-HEAD_Avg-DECOY_99-LR_0.00001_epoch=0-step=64559_0.1 - val-prot - SA\n"
     ]
    },
    {
     "name": "stderr",
     "output_type": "stream",
     "text": [
      "100%|██████████| 333800/333800 [00:05<00:00, 65315.39it/s]\n"
     ]
    },
    {
     "name": "stdout",
     "output_type": "stream",
     "text": [
      "Load: hparam_search_CONTEXT-PSEUDO-HEAD_Avg-DECOY_99-LR_0.00001_epoch=0-step=64559_0.1 - val-mhc - SA\n"
     ]
    },
    {
     "name": "stderr",
     "output_type": "stream",
     "text": [
      "100%|██████████| 333800/333800 [00:10<00:00, 32408.77it/s]\n"
     ]
    }
   ],
   "source": [
    "info = evaluate_checkpoints(to_assess, [SPLIT_VAL_PROTEINS, SPLIT_VAL_MHC_ALLELES], [VIEW_SA])"
   ]
  },
  {
   "cell_type": "code",
   "execution_count": 9,
   "id": "7ed99334",
   "metadata": {},
   "outputs": [
    {
     "data": {
      "text/plain": [
       "['hparam_search_CONTEXT-PSEUDO-HEAD_Attn-DECOY_19-LR_0.00001_epoch=0-step=12911_0.1',\n",
       " 'hparam_search_CONTEXT-PSEUDO-HEAD_Cls-DECOY_19-LR_0.00001_epoch=0-step=12911_0.1',\n",
       " 'hparam_search_CONTEXT-PSEUDO-HEAD_Avg-DECOY_19-LR_0.00001_epoch=0-step=12911_0.1',\n",
       " 'hparam_search_CONTEXT-PSEUDO-HEAD_Attn-DECOY_19-LR_0.00001_epoch=4-step=64559_0.1',\n",
       " 'hparam_search_CONTEXT-PSEUDO-HEAD_Cls-DECOY_19-LR_0.00001_epoch=4-step=64559_0.1',\n",
       " 'hparam_search_CONTEXT-PSEUDO-HEAD_Avg-DECOY_19-LR_0.00001_epoch=4-step=64559_0.1',\n",
       " 'hparam_search_CONTEXT-PSEUDO-HEAD_Attn-DECOY_99-LR_0.00001_epoch=0-step=12911_0.1',\n",
       " 'hparam_search_CONTEXT-PSEUDO-HEAD_Cls-DECOY_99-LR_0.00001_epoch=0-step=12911_0.1',\n",
       " 'hparam_search_CONTEXT-PSEUDO-HEAD_Avg-DECOY_99-LR_0.00001_epoch=0-step=12911_0.1',\n",
       " 'hparam_search_CONTEXT-PSEUDO-HEAD_Attn-DECOY_99-LR_0.00001_epoch=0-step=64559_0.1',\n",
       " 'hparam_search_CONTEXT-PSEUDO-HEAD_Cls-DECOY_99-LR_0.00001_epoch=0-step=64559_0.1',\n",
       " 'hparam_search_CONTEXT-PSEUDO-HEAD_Avg-DECOY_99-LR_0.00001_epoch=0-step=64559_0.1']"
      ]
     },
     "execution_count": 9,
     "metadata": {},
     "output_type": "execute_result"
    }
   ],
   "source": [
    "list(info.keys())"
   ]
  },
  {
   "cell_type": "code",
   "execution_count": 14,
   "id": "9bb63a33",
   "metadata": {},
   "outputs": [
    {
     "name": "stdout",
     "output_type": "stream",
     "text": [
      "Cls 19 12911 & 0.319 & 0.938 & 0.986 & 0.447 & 0.956 & 0.987\n",
      "Cls 19 64559 & 0.394 & 0.949 & 0.982 & 0.552 & 0.964 & 0.983\n",
      "Cls 99 12911 & 0.062 & 0.823 & 0.990 & 0.232 & 0.917 & 0.990\n",
      "Cls 99 64559 & 0.349 & 0.945 & 0.991 & 0.492 & 0.960 & 0.992\n",
      "Attn 19 12911 & 0.298 & 0.936 & 0.973 & 0.447 & 0.957 & 0.982\n",
      "Attn 19 64559 & 0.410 & 0.941 & 0.983 & 0.535 & 0.964 & 0.982\n",
      "Attn 99 12911 & 0.044 & 0.792 & 0.990 & 0.184 & 0.884 & 0.990\n",
      "Attn 99 64559 & 0.315 & 0.938 & 0.990 & 0.496 & 0.958 & 0.992\n",
      "Avg 19 12911 & 0.252 & 0.926 & 0.982 & 0.417 & 0.954 & 0.985\n",
      "Avg 19 64559 & 0.369 & 0.949 & 0.977 & 0.506 & 0.960 & 0.980\n",
      "Avg 99 12911 & 0.026 & 0.689 & 0.990 & 0.145 & 0.835 & 0.990\n",
      "Avg 99 64559 & 0.287 & 0.924 & 0.990 & 0.471 & 0.956 & 0.992\n"
     ]
    }
   ],
   "source": [
    "learning_rate = \"0.00001\"\n",
    "proportion = 0.1\n",
    "\n",
    "for head in [\"Cls\", \"Attn\", \"Avg\"]:\n",
    "    for decoys_per_obs in [19, 99]:\n",
    "        step_sel = [12911, 64559]\n",
    "        for steps in step_sel:\n",
    "            epoch = 0 if (decoys_per_obs == 99 or steps == 12911) else 4\n",
    "            model_name = f\"hparam_search_CONTEXT-PSEUDO-HEAD_{head}-DECOY_{decoys_per_obs}-LR_{learning_rate}\"\n",
    "            checkpoint_name = f\"{model_name}_epoch={epoch}-step={steps}_{proportion}\"\n",
    "            print(f\"{head} {decoys_per_obs} {steps}\", end=\"\")\n",
    "            #print(f\"{info[checkpoint_name]}\", end=\"\")\n",
    "            for split in [\"val-mhc\", \"val-prot\"]:\n",
    "                for metric in [\"AP\", \"roc_auc\", \"accuracy\"]:\n",
    "                    print(f\" & {info[checkpoint_name][split]['SA'][metric]:.3f}\", end=\"\")\n",
    "            \n",
    "            print(\"\")"
   ]
  },
  {
   "cell_type": "code",
   "execution_count": 7,
   "id": "70ac0b7f",
   "metadata": {},
   "outputs": [],
   "source": [
    "to_assess = [\n",
    "    # (\"hparam_search\", \"CONTEXT-PSEUDO-HEAD_Attn-DECOY_19-LR_0.00001\", \"epoch=0-step=12911\", proportion),\n",
    "    # (\"hparam_search\", \"CONTEXT-PSEUDO-HEAD_Cls-DECOY_19-LR_0.00001\", \"epoch=0-step=12911\", proportion),\n",
    "    # (\"hparam_search\", \"CONTEXT-PSEUDO-HEAD_Avg-DECOY_19-LR_0.00001\", \"epoch=0-step=12911\", proportion),  \n",
    "    \n",
    "    (\"hparam_search\", \"CONTEXT-PSEUDO-HEAD_Attn-DECOY_19-LR_0.000001\", \"epoch=0-step=12911\", proportion),\n",
    "    (\"hparam_search\", \"CONTEXT-PSEUDO-HEAD_Cls-DECOY_19-LR_0.000001\", \"epoch=0-step=12911\", proportion),\n",
    "    (\"hparam_search\", \"CONTEXT-PSEUDO-HEAD_Avg-DECOY_19-LR_0.000001\", \"epoch=0-step=12911\", proportion),  \n",
    "    \n",
    "    # (\"hparam_search\", \"CONTEXT-PSEUDO-HEAD_Attn-DECOY_19-LR_0.0001\", \"epoch=0-step=12911\", proportion),\n",
    "    # (\"hparam_search\", \"CONTEXT-PSEUDO-HEAD_Cls-DECOY_19-LR_0.0001\", \"epoch=0-step=12911\", proportion),\n",
    "    # (\"hparam_search\", \"CONTEXT-PSEUDO-HEAD_Avg-DECOY_19-LR_0.0001\", \"epoch=0-step=12911\", proportion),    \n",
    "    \n",
    "    # (\"hparam_search\", \"CONTEXT-PSEUDO-HEAD_Attn-DECOY_19-LR_0.00001\", \"epoch=4-step=64559\", proportion),\n",
    "    # (\"hparam_search\", \"CONTEXT-PSEUDO-HEAD_Cls-DECOY_19-LR_0.00001\", \"epoch=4-step=64559\", proportion),\n",
    "    # (\"hparam_search\", \"CONTEXT-PSEUDO-HEAD_Avg-DECOY_19-LR_0.00001\", \"epoch=4-step=64559\", proportion),  \n",
    "    \n",
    "    (\"hparam_search\", \"CONTEXT-PSEUDO-HEAD_Attn-DECOY_19-LR_0.000001\", \"epoch=4-step=64559\", proportion),\n",
    "    (\"hparam_search\", \"CONTEXT-PSEUDO-HEAD_Cls-DECOY_19-LR_0.000001\", \"epoch=4-step=64559\", proportion),\n",
    "    (\"hparam_search\", \"CONTEXT-PSEUDO-HEAD_Avg-DECOY_19-LR_0.000001\", \"epoch=4-step=64559\", proportion), \n",
    "    \n",
    "    # (\"hparam_search\", \"CONTEXT-PSEUDO-HEAD_Attn-DECOY_19-LR_0.0001\", \"epoch=4-step=64559\", proportion),\n",
    "    # (\"hparam_search\", \"CONTEXT-PSEUDO-HEAD_Cls-DECOY_19-LR_0.0001\", \"epoch=4-step=64559\", proportion),\n",
    "    # (\"hparam_search\", \"CONTEXT-PSEUDO-HEAD_Avg-DECOY_19-LR_0.0001\", \"epoch=4-step=64559\", proportion),\n",
    "    \n",
    "    # (\"hparam_search\", \"CONTEXT-PSEUDO-HEAD_Attn-DECOY_99-LR_0.00001\", \"epoch=0-step=12911\", proportion),\n",
    "    # (\"hparam_search\", \"CONTEXT-PSEUDO-HEAD_Cls-DECOY_99-LR_0.00001\", \"epoch=0-step=12911\", proportion),\n",
    "    # (\"hparam_search\", \"CONTEXT-PSEUDO-HEAD_Avg-DECOY_99-LR_0.00001\", \"epoch=0-step=12911\", proportion),  \n",
    "    \n",
    "    (\"hparam_search\", \"CONTEXT-PSEUDO-HEAD_Attn-DECOY_99-LR_0.000001\", \"epoch=0-step=12911\", proportion),\n",
    "    (\"hparam_search\", \"CONTEXT-PSEUDO-HEAD_Cls-DECOY_99-LR_0.000001\", \"epoch=0-step=12911\", proportion),\n",
    "    (\"hparam_search\", \"CONTEXT-PSEUDO-HEAD_Avg-DECOY_99-LR_0.000001\", \"epoch=0-step=12911\", proportion),  \n",
    "    \n",
    "    # (\"hparam_search\", \"CONTEXT-PSEUDO-HEAD_Attn-DECOY_99-LR_0.0001\", \"epoch=0-step=12911\", proportion),\n",
    "    # (\"hparam_search\", \"CONTEXT-PSEUDO-HEAD_Cls-DECOY_99-LR_0.0001\", \"epoch=0-step=12911\", proportion),\n",
    "    # (\"hparam_search\", \"CONTEXT-PSEUDO-HEAD_Avg-DECOY_99-LR_0.0001\", \"epoch=0-step=12911\", proportion),    \n",
    "    \n",
    "    # (\"hparam_search\", \"CONTEXT-PSEUDO-HEAD_Attn-DECOY_99-LR_0.00001\", \"epoch=0-step=64559\", proportion),\n",
    "    # (\"hparam_search\", \"CONTEXT-PSEUDO-HEAD_Cls-DECOY_99-LR_0.00001\", \"epoch=0-step=64559\", proportion),\n",
    "    # (\"hparam_search\", \"CONTEXT-PSEUDO-HEAD_Avg-DECOY_99-LR_0.00001\", \"epoch=0-step=64559\", proportion),  \n",
    "    \n",
    "    (\"hparam_search\", \"CONTEXT-PSEUDO-HEAD_Attn-DECOY_99-LR_0.000001\", \"epoch=0-step=64559\", proportion),\n",
    "    (\"hparam_search\", \"CONTEXT-PSEUDO-HEAD_Cls-DECOY_99-LR_0.000001\", \"epoch=0-step=64559\", proportion),\n",
    "    (\"hparam_search\", \"CONTEXT-PSEUDO-HEAD_Avg-DECOY_99-LR_0.000001\", \"epoch=0-step=64559\", proportion), \n",
    "    \n",
    "    # (\"hparam_search\", \"CONTEXT-PSEUDO-HEAD_Attn-DECOY_99-LR_0.0001\", \"epoch=0-step=64559\", proportion),\n",
    "    # (\"hparam_search\", \"CONTEXT-PSEUDO-HEAD_Cls-DECOY_99-LR_0.0001\", \"epoch=0-step=64559\", proportion),\n",
    "    # (\"hparam_search\", \"CONTEXT-PSEUDO-HEAD_Avg-DECOY_99-LR_0.0001\", \"epoch=0-step=64559\", proportion),\n",
    "]\n"
   ]
  },
  {
   "cell_type": "code",
   "execution_count": 8,
   "id": "24c76314",
   "metadata": {},
   "outputs": [
    {
     "name": "stdout",
     "output_type": "stream",
     "text": [
      "Load: hparam_search_CONTEXT-PSEUDO-HEAD_Attn-DECOY_19-LR_0.000001_epoch=0-step=12911_0.1 - val-prot - SA\n"
     ]
    },
    {
     "name": "stderr",
     "output_type": "stream",
     "text": [
      "100%|██████████| 333800/333800 [00:05<00:00, 66674.17it/s]\n"
     ]
    },
    {
     "name": "stdout",
     "output_type": "stream",
     "text": [
      "Load: hparam_search_CONTEXT-PSEUDO-HEAD_Attn-DECOY_19-LR_0.000001_epoch=0-step=12911_0.1 - val-mhc - SA\n"
     ]
    },
    {
     "name": "stderr",
     "output_type": "stream",
     "text": [
      "100%|██████████| 333800/333800 [00:10<00:00, 32805.18it/s]\n"
     ]
    },
    {
     "name": "stdout",
     "output_type": "stream",
     "text": [
      "Load: hparam_search_CONTEXT-PSEUDO-HEAD_Cls-DECOY_19-LR_0.000001_epoch=0-step=12911_0.1 - val-prot - SA\n"
     ]
    },
    {
     "name": "stderr",
     "output_type": "stream",
     "text": [
      "100%|██████████| 333800/333800 [00:04<00:00, 67171.23it/s]\n"
     ]
    },
    {
     "name": "stdout",
     "output_type": "stream",
     "text": [
      "Load: hparam_search_CONTEXT-PSEUDO-HEAD_Cls-DECOY_19-LR_0.000001_epoch=0-step=12911_0.1 - val-mhc - SA\n"
     ]
    },
    {
     "name": "stderr",
     "output_type": "stream",
     "text": [
      "100%|██████████| 333800/333800 [00:10<00:00, 32954.20it/s]\n"
     ]
    },
    {
     "name": "stdout",
     "output_type": "stream",
     "text": [
      "Load: hparam_search_CONTEXT-PSEUDO-HEAD_Avg-DECOY_19-LR_0.000001_epoch=0-step=12911_0.1 - val-prot - SA\n"
     ]
    },
    {
     "name": "stderr",
     "output_type": "stream",
     "text": [
      "100%|██████████| 333800/333800 [00:05<00:00, 65840.00it/s]\n"
     ]
    },
    {
     "name": "stdout",
     "output_type": "stream",
     "text": [
      "Load: hparam_search_CONTEXT-PSEUDO-HEAD_Avg-DECOY_19-LR_0.000001_epoch=0-step=12911_0.1 - val-mhc - SA\n"
     ]
    },
    {
     "name": "stderr",
     "output_type": "stream",
     "text": [
      "100%|██████████| 333800/333800 [00:10<00:00, 31786.15it/s]\n"
     ]
    },
    {
     "name": "stdout",
     "output_type": "stream",
     "text": [
      "Load: hparam_search_CONTEXT-PSEUDO-HEAD_Attn-DECOY_19-LR_0.000001_epoch=4-step=64559_0.1 - val-prot - SA\n"
     ]
    },
    {
     "name": "stderr",
     "output_type": "stream",
     "text": [
      "100%|██████████| 333800/333800 [00:05<00:00, 64751.74it/s]\n"
     ]
    },
    {
     "name": "stdout",
     "output_type": "stream",
     "text": [
      "Load: hparam_search_CONTEXT-PSEUDO-HEAD_Attn-DECOY_19-LR_0.000001_epoch=4-step=64559_0.1 - val-mhc - SA\n"
     ]
    },
    {
     "name": "stderr",
     "output_type": "stream",
     "text": [
      "100%|██████████| 333800/333800 [00:10<00:00, 31360.21it/s]\n"
     ]
    },
    {
     "name": "stdout",
     "output_type": "stream",
     "text": [
      "Load: hparam_search_CONTEXT-PSEUDO-HEAD_Cls-DECOY_19-LR_0.000001_epoch=4-step=64559_0.1 - val-prot - SA\n"
     ]
    },
    {
     "name": "stderr",
     "output_type": "stream",
     "text": [
      "100%|██████████| 333800/333800 [00:05<00:00, 63679.53it/s]\n"
     ]
    },
    {
     "name": "stdout",
     "output_type": "stream",
     "text": [
      "Load: hparam_search_CONTEXT-PSEUDO-HEAD_Cls-DECOY_19-LR_0.000001_epoch=4-step=64559_0.1 - val-mhc - SA\n"
     ]
    },
    {
     "name": "stderr",
     "output_type": "stream",
     "text": [
      "100%|██████████| 333800/333800 [00:10<00:00, 31113.32it/s]\n"
     ]
    },
    {
     "name": "stdout",
     "output_type": "stream",
     "text": [
      "Load: hparam_search_CONTEXT-PSEUDO-HEAD_Avg-DECOY_19-LR_0.000001_epoch=4-step=64559_0.1 - val-prot - SA\n"
     ]
    },
    {
     "name": "stderr",
     "output_type": "stream",
     "text": [
      "100%|██████████| 333800/333800 [00:05<00:00, 63646.58it/s]\n"
     ]
    },
    {
     "name": "stdout",
     "output_type": "stream",
     "text": [
      "Load: hparam_search_CONTEXT-PSEUDO-HEAD_Avg-DECOY_19-LR_0.000001_epoch=4-step=64559_0.1 - val-mhc - SA\n"
     ]
    },
    {
     "name": "stderr",
     "output_type": "stream",
     "text": [
      "100%|██████████| 333800/333800 [00:10<00:00, 31094.64it/s]\n"
     ]
    },
    {
     "name": "stdout",
     "output_type": "stream",
     "text": [
      "Load: hparam_search_CONTEXT-PSEUDO-HEAD_Attn-DECOY_99-LR_0.000001_epoch=0-step=12911_0.1 - val-prot - SA\n"
     ]
    },
    {
     "name": "stderr",
     "output_type": "stream",
     "text": [
      "100%|██████████| 333800/333800 [00:05<00:00, 63677.20it/s]\n"
     ]
    },
    {
     "name": "stdout",
     "output_type": "stream",
     "text": [
      "Load: hparam_search_CONTEXT-PSEUDO-HEAD_Attn-DECOY_99-LR_0.000001_epoch=0-step=12911_0.1 - val-mhc - SA\n"
     ]
    },
    {
     "name": "stderr",
     "output_type": "stream",
     "text": [
      "100%|██████████| 333800/333800 [00:10<00:00, 31021.47it/s]\n"
     ]
    },
    {
     "name": "stdout",
     "output_type": "stream",
     "text": [
      "Load: hparam_search_CONTEXT-PSEUDO-HEAD_Cls-DECOY_99-LR_0.000001_epoch=0-step=12911_0.1 - val-prot - SA\n"
     ]
    },
    {
     "name": "stderr",
     "output_type": "stream",
     "text": [
      "100%|██████████| 333800/333800 [00:05<00:00, 63470.93it/s]\n"
     ]
    },
    {
     "name": "stdout",
     "output_type": "stream",
     "text": [
      "Load: hparam_search_CONTEXT-PSEUDO-HEAD_Cls-DECOY_99-LR_0.000001_epoch=0-step=12911_0.1 - val-mhc - SA\n"
     ]
    },
    {
     "name": "stderr",
     "output_type": "stream",
     "text": [
      "100%|██████████| 333800/333800 [00:10<00:00, 31068.43it/s]\n"
     ]
    },
    {
     "name": "stdout",
     "output_type": "stream",
     "text": [
      "Load: hparam_search_CONTEXT-PSEUDO-HEAD_Avg-DECOY_99-LR_0.000001_epoch=0-step=12911_0.1 - val-prot - SA\n"
     ]
    },
    {
     "name": "stderr",
     "output_type": "stream",
     "text": [
      "100%|██████████| 333800/333800 [00:05<00:00, 63588.76it/s]\n"
     ]
    },
    {
     "name": "stdout",
     "output_type": "stream",
     "text": [
      "Load: hparam_search_CONTEXT-PSEUDO-HEAD_Avg-DECOY_99-LR_0.000001_epoch=0-step=12911_0.1 - val-mhc - SA\n"
     ]
    },
    {
     "name": "stderr",
     "output_type": "stream",
     "text": [
      "100%|██████████| 333800/333800 [00:10<00:00, 31085.62it/s]\n"
     ]
    },
    {
     "name": "stdout",
     "output_type": "stream",
     "text": [
      "Load: hparam_search_CONTEXT-PSEUDO-HEAD_Attn-DECOY_99-LR_0.000001_epoch=0-step=64559_0.1 - val-prot - SA\n"
     ]
    },
    {
     "name": "stderr",
     "output_type": "stream",
     "text": [
      "100%|██████████| 333800/333800 [00:05<00:00, 63854.74it/s]\n"
     ]
    },
    {
     "name": "stdout",
     "output_type": "stream",
     "text": [
      "Load: hparam_search_CONTEXT-PSEUDO-HEAD_Attn-DECOY_99-LR_0.000001_epoch=0-step=64559_0.1 - val-mhc - SA\n"
     ]
    },
    {
     "name": "stderr",
     "output_type": "stream",
     "text": [
      "100%|██████████| 333800/333800 [00:10<00:00, 31061.83it/s]\n"
     ]
    },
    {
     "name": "stdout",
     "output_type": "stream",
     "text": [
      "Load: hparam_search_CONTEXT-PSEUDO-HEAD_Cls-DECOY_99-LR_0.000001_epoch=0-step=64559_0.1 - val-prot - SA\n"
     ]
    },
    {
     "name": "stderr",
     "output_type": "stream",
     "text": [
      "100%|██████████| 333800/333800 [00:05<00:00, 63780.87it/s]\n"
     ]
    },
    {
     "name": "stdout",
     "output_type": "stream",
     "text": [
      "Load: hparam_search_CONTEXT-PSEUDO-HEAD_Cls-DECOY_99-LR_0.000001_epoch=0-step=64559_0.1 - val-mhc - SA\n"
     ]
    },
    {
     "name": "stderr",
     "output_type": "stream",
     "text": [
      "100%|██████████| 333800/333800 [00:10<00:00, 31196.65it/s]\n"
     ]
    },
    {
     "name": "stdout",
     "output_type": "stream",
     "text": [
      "Load: hparam_search_CONTEXT-PSEUDO-HEAD_Avg-DECOY_99-LR_0.000001_epoch=0-step=64559_0.1 - val-prot - SA\n"
     ]
    },
    {
     "name": "stderr",
     "output_type": "stream",
     "text": [
      "100%|██████████| 333800/333800 [00:05<00:00, 63912.19it/s]\n"
     ]
    },
    {
     "name": "stdout",
     "output_type": "stream",
     "text": [
      "Load: hparam_search_CONTEXT-PSEUDO-HEAD_Avg-DECOY_99-LR_0.000001_epoch=0-step=64559_0.1 - val-mhc - SA\n"
     ]
    },
    {
     "name": "stderr",
     "output_type": "stream",
     "text": [
      "100%|██████████| 333800/333800 [00:10<00:00, 31344.03it/s]\n"
     ]
    }
   ],
   "source": [
    "info = evaluate_checkpoints(to_assess, [SPLIT_VAL_PROTEINS, SPLIT_VAL_MHC_ALLELES], [VIEW_SA])"
   ]
  },
  {
   "cell_type": "code",
   "execution_count": 9,
   "id": "fc04b141",
   "metadata": {},
   "outputs": [
    {
     "name": "stdout",
     "output_type": "stream",
     "text": [
      "Cls 19 12911 & 0.020 & 0.660 & 0.990 & 0.061 & 0.771 & 0.990\n",
      "Cls 19 64559 & 0.209 & 0.902 & 0.974 & 0.356 & 0.943 & 0.975\n",
      "Cls 99 12911 & 0.013 & 0.584 & 0.990 & 0.033 & 0.689 & 0.990\n",
      "Cls 99 64559 & 0.027 & 0.721 & 0.990 & 0.119 & 0.835 & 0.990\n",
      "Attn 19 12911 & 0.018 & 0.649 & 0.990 & 0.073 & 0.774 & 0.990\n",
      "Attn 19 64559 & 0.210 & 0.902 & 0.975 & 0.349 & 0.937 & 0.975\n",
      "Attn 99 12911 & 0.014 & 0.594 & 0.990 & 0.034 & 0.694 & 0.990\n",
      "Attn 99 64559 & 0.029 & 0.731 & 0.990 & 0.132 & 0.829 & 0.990\n",
      "Avg 19 12911 & 0.020 & 0.657 & 0.990 & 0.081 & 0.776 & 0.990\n",
      "Avg 19 64559 & 0.202 & 0.892 & 0.969 & 0.349 & 0.937 & 0.970\n",
      "Avg 99 12911 & 0.016 & 0.601 & 0.990 & 0.037 & 0.700 & 0.990\n",
      "Avg 99 64559 & 0.031 & 0.733 & 0.990 & 0.134 & 0.840 & 0.990\n"
     ]
    }
   ],
   "source": [
    "learning_rate = \"0.000001\"\n",
    "proportion = 0.1\n",
    "\n",
    "for head in [\"Cls\", \"Attn\", \"Avg\"]:\n",
    "    for decoys_per_obs in [19, 99]:\n",
    "        step_sel = [12911, 64559]\n",
    "        for steps in step_sel:\n",
    "            epoch = 0 if (decoys_per_obs == 99 or steps == 12911) else 4\n",
    "            model_name = f\"hparam_search_CONTEXT-PSEUDO-HEAD_{head}-DECOY_{decoys_per_obs}-LR_{learning_rate}\"\n",
    "            checkpoint_name = f\"{model_name}_epoch={epoch}-step={steps}_{proportion}\"\n",
    "            print(f\"{head} {decoys_per_obs} {steps}\", end=\"\")\n",
    "            #print(f\"{info[checkpoint_name]}\", end=\"\")\n",
    "            for split in [\"val-mhc\", \"val-prot\"]:\n",
    "                for metric in [\"AP\", \"roc_auc\", \"accuracy\"]:\n",
    "                    print(f\" & {info[checkpoint_name][split]['SA'][metric]:.3f}\", end=\"\")\n",
    "            \n",
    "            print(\"\")"
   ]
  },
  {
   "cell_type": "code",
   "execution_count": null,
   "id": "471a019a",
   "metadata": {},
   "outputs": [],
   "source": []
  }
 ],
 "metadata": {
  "kernelspec": {
   "display_name": "Python 3",
   "language": "python",
   "name": "python3"
  },
  "language_info": {
   "codemirror_mode": {
    "name": "ipython",
    "version": 3
   },
   "file_extension": ".py",
   "mimetype": "text/x-python",
   "name": "python",
   "nbconvert_exporter": "python",
   "pygments_lexer": "ipython3",
   "version": "3.8.10"
  },
  "toc": {
   "base_numbering": 1,
   "nav_menu": {},
   "number_sections": true,
   "sideBar": true,
   "skip_h1_title": false,
   "title_cell": "Table of Contents",
   "title_sidebar": "Contents",
   "toc_cell": true,
   "toc_position": {
    "height": "calc(100% - 180px)",
    "left": "10px",
    "top": "150px",
    "width": "412.717px"
   },
   "toc_section_display": true,
   "toc_window_display": true
  }
 },
 "nbformat": 4,
 "nbformat_minor": 5
}
